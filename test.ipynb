{
 "cells": [
  {
   "cell_type": "code",
   "execution_count": 2,
   "metadata": {},
   "outputs": [],
   "source": [
    "import crim_intervals\n",
    "\n",
    "import requests\n",
    "import os\n",
    "from crim_intervals import *\n",
    "from crim_intervals import main_objs\n",
    "import crim_intervals.visualizations as viz"
   ]
  },
  {
   "cell_type": "code",
   "execution_count": 14,
   "metadata": {},
   "outputs": [
    {
     "name": "stdout",
     "output_type": "stream",
     "text": [
      "https://test.researchdata.tuwien.ac.at/api/records/apd7f-4x721/files/einigs_voc.mei/content\n",
      "Error downloading https://test.researchdata.tuwien.ac.at/api/records/apd7f-4x721/files/einigs_voc.mei, please check your url and try again. Continuing to next file.\n",
      "Failed to import piece\n"
     ]
    }
   ],
   "source": [
    "# Define the base URL of your Invenio instance\n",
    "base_url = 'https://test.researchdata.tuwien.ac.at/api/records/'\n",
    "\n",
    "# Define the record ID you want to fetch\n",
    "# record_id = '/drg37-1w668/files'\n",
    "record_id = 'apd7f-4x721/files'\n",
    "\n",
    "# Your authentication token\n",
    "token = 'kwPkteIK7e6IsoVWh1DoG5IY2INb1LRw3QdWAqeWkjS7BUMVc9gQY2jEbL6e'\n",
    "\n",
    "# Define the headers including the Authorization token\n",
    "headers = {\n",
    "    'Authorization': f'Bearer {token}',\n",
    "    'Content-Type': 'application/json'\n",
    "}\n",
    "\n",
    "# Make a GET request to fetch the record\n",
    "response = requests.get(f'{base_url}{record_id}', headers=headers)\n",
    "\n",
    "# Check if the request was successful\n",
    "if response.status_code == 200:\n",
    "    data = response.json()\n",
    "    entries = data.get('entries')\n",
    "    # URL to the file content\n",
    "    for entry in entries:\n",
    "        file_url = entry['links']['content']\n",
    "        print(file_url)\n",
    "\n",
    "        if piece is None:\n",
    "            print('Failed to import piece, skipping...')\n",
    "            break\n",
    "\n",
    "        cadences = piece.cadences()\n",
    "        cadences\n",
    "\n",
    "        # Local file path to save the downloaded file\n",
    "        local_filename = os.path.join('data', entry['key'])\n",
    "\n",
    "        # Send a GET request to the URL\n",
    "        response = requests.get(file_url, stream=True)\n",
    "\n",
    "        # Check if the request was successful\n",
    "        if response.status_code == 200:\n",
    "            # Open the local file in binary write mode\n",
    "            with open(local_filename, 'wb') as f:\n",
    "                # Write the content of the response to the file\n",
    "                for chunk in response.iter_content(chunk_size=8192):\n",
    "                    f.write(chunk)\n",
    "            print(f\"File downloaded successfully and saved as {local_filename}\")\n",
    "        else:\n",
    "            print(f\"Failed to download file. Status code: {response.status_code}\")\n",
    "else:\n",
    "    print(f'Failed to fetch data: {response.status_code}')"
   ]
  },
  {
   "cell_type": "code",
   "execution_count": null,
   "metadata": {},
   "outputs": [],
   "source": []
  },
  {
   "cell_type": "code",
   "execution_count": null,
   "metadata": {},
   "outputs": [],
   "source": []
  }
 ],
 "metadata": {
  "kernelspec": {
   "display_name": "prov-env",
   "language": "python",
   "name": "python3"
  },
  "language_info": {
   "codemirror_mode": {
    "name": "ipython",
    "version": 3
   },
   "file_extension": ".py",
   "mimetype": "text/x-python",
   "name": "python",
   "nbconvert_exporter": "python",
   "pygments_lexer": "ipython3",
   "version": "3.10.13"
  }
 },
 "nbformat": 4,
 "nbformat_minor": 2
}
