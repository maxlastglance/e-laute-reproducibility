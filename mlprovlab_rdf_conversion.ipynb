{
 "cells": [
  {
   "cell_type": "code",
   "execution_count": 9,
   "id": "8d0d19f9-e1ab-47a4-883c-0102e9876e06",
   "metadata": {
    "prov_id": "8d0d19f9-e1ab-47a4-883c-0102e9876e06",
    "tags": []
   },
   "outputs": [],
   "source": [
    "import json\n",
    "import re\n",
    "from rdflib import Graph, URIRef, Literal, Namespace\n",
    "from rdflib.namespace import RDF, RDFS\n",
    "\n",
    "# Define namespaces\n",
    "PROV = Namespace(\"http://www.w3.org/ns/prov#\")\n",
    "EX = Namespace(\"http://example.org/\")\n",
    "\n",
    "# Create a new RDF graph\n",
    "g = Graph()\n",
    "g.bind(\"prov\", PROV)\n",
    "g.bind(\"ex\", EX)\n",
    "\n",
    "# Load the JSON data\n",
    "with open(\"./prov-exports/MLPovLabExport (5).json\", \"r\") as f:\n",
    "    data = json.load(f)\n",
    "\n",
    "# Helper function to create valid URIs\n",
    "def create_uri(base, suffix):\n",
    "    suffix = re.sub(r'\\W+', '_', suffix)  # Replace non-alphanumeric characters with underscores\n",
    "    return URIRef(base + suffix)\n",
    "\n",
    "# Process each epoch in the JSON data\n",
    "for epoch in data[\"epochs\"]:\n",
    "    # Create an activity for the epoch\n",
    "    epoch_start_time = epoch[\"kernel_start_time\"]\n",
    "    epoch_uri = create_uri(\"http://example.org/epoch/\", epoch_start_time)\n",
    "    g.add((epoch_uri, RDF.type, PROV.Activity))\n",
    "    g.add((epoch_uri, PROV.startedAtTime, Literal(epoch_start_time)))\n",
    "    if \"time\" in epoch:\n",
    "        g.add((epoch_uri, PROV.endedAtTime, Literal(epoch[\"time\"])))\n",
    "    g.add((epoch_uri, PROV.wasAssociatedWith, Literal(epoch[\"user_agent\"])))\n",
    "\n",
    "    # Add attributes to the activity (not used by PROV directly, but can be helpful)\n",
    "    g.add((epoch_uri, RDFS.label, Literal(f\"Epoch starting at {epoch_start_time}\")))\n",
    "\n",
    "    # Adding language and version as entities\n",
    "    language_entity = create_uri(\"http://example.org/language/\", epoch[\"language\"])\n",
    "    g.add((language_entity, RDF.type, PROV.Entity))\n",
    "    g.add((language_entity, RDFS.label, Literal(f\"Language: {epoch['language']}\")))\n",
    "    g.add((epoch_uri, PROV.used, language_entity))\n",
    "\n",
    "    language_version_entity = create_uri(\"http://example.org/language_version/\", epoch[\"language_version\"])\n",
    "    g.add((language_version_entity, RDF.type, PROV.Entity))\n",
    "    g.add((language_version_entity, RDFS.label, Literal(f\"Language Version: {epoch['language_version']}\")))\n",
    "    g.add((epoch_uri, PROV.used, language_version_entity))\n",
    "\n",
    "    # Adding kernel and version as entities\n",
    "    kernel_entity = create_uri(\"http://example.org/kernel/\", epoch[\"kernel\"])\n",
    "    g.add((kernel_entity, RDF.type, PROV.Entity))\n",
    "    g.add((kernel_entity, RDFS.label, Literal(f\"Kernel: {epoch['kernel']}\")))\n",
    "    g.add((epoch_uri, PROV.used, kernel_entity))\n",
    "\n",
    "    kernel_version_entity = create_uri(\"http://example.org/kernel_version/\", epoch[\"kernel_version\"])\n",
    "    g.add((kernel_version_entity, RDF.type, PROV.Entity))\n",
    "    g.add((kernel_version_entity, RDFS.label, Literal(f\"Kernel Version: {epoch['kernel_version']}\")))\n",
    "    g.add((epoch_uri, PROV.used, kernel_version_entity))\n",
    "\n",
    "    # Add modules used as entities\n",
    "    for module, details in epoch[\"modules\"].items():\n",
    "        module_uri = create_uri(\"http://example.org/module/\", module)\n",
    "        g.add((module_uri, RDF.type, PROV.Entity))\n",
    "        g.add((module_uri, RDFS.label, Literal(f\"Module: {module}\")))\n",
    "        if details[\"version\"]:\n",
    "            module_version_entity = create_uri(\"http://example.org/module_version/\", details[\"version\"])\n",
    "            g.add((module_version_entity, RDF.type, PROV.Entity))\n",
    "            g.add((module_version_entity, RDFS.label, Literal(f\"Module Version: {details['version']}\")))\n",
    "            g.add((module_uri, PROV.hadPrimarySource, module_version_entity))\n",
    "        g.add((epoch_uri, PROV.used, module_uri))\n",
    "\n",
    "    # Process each execution_data entry\n",
    "    for exec_data in epoch[\"execution_data\"]:\n",
    "        exec_uri = create_uri(\"http://example.org/execution/\", str(exec_data[\"execution_count\"]))\n",
    "        g.add((exec_uri, RDF.type, PROV.Activity))\n",
    "        g.add((exec_uri, PROV.used, epoch_uri))\n",
    "\n",
    "        # Add code as an entity\n",
    "        code_entity = create_uri(\"http://example.org/code/\", str(exec_data[\"execution_count\"]))\n",
    "        code_literal = Literal(exec_data[\"code\"])\n",
    "        g.add((code_entity, RDF.type, PROV.Entity))\n",
    "        g.add((code_entity, PROV.value, code_literal))\n",
    "        g.add((exec_uri, PROV.generated, code_entity))\n",
    "\n",
    "        # Add imports as entities\n",
    "        for imp in exec_data.get(\"imports\", []):\n",
    "            import_uri = create_uri(\"http://example.org/import/\", imp)\n",
    "            g.add((import_uri, RDF.type, PROV.Entity))\n",
    "            g.add((import_uri, RDFS.label, Literal(f\"Import: {imp}\")))\n",
    "            g.add((exec_uri, PROV.used, import_uri))\n",
    "\n",
    "        # Add dependencies as entities\n",
    "        for dep in exec_data.get(\"dependencies\", []):\n",
    "            dep_uri = create_uri(\"http://example.org/dependency/\", dep)\n",
    "            g.add((dep_uri, RDF.type, PROV.Entity))\n",
    "            g.add((dep_uri, RDFS.label, Literal(f\"Dependency: {dep}\")))\n",
    "            g.add((exec_uri, PROV.used, dep_uri))\n",
    "\n",
    "# Serialize the graph to RDF format (Turtle in this case) and save to a file\n",
    "rdf_data = g.serialize(format=\"turtle\")\n",
    "with open(\"output.ttl\", \"w\") as f:\n",
    "    f.write(rdf_data)\n"
   ]
  },
  {
   "cell_type": "code",
   "execution_count": 2,
   "id": "d5bb5982-4d83-4d05-8f8a-a721ec1282ab",
   "metadata": {
    "tags": []
   },
   "outputs": [
    {
     "name": "stdout",
     "output_type": "stream",
     "text": [
      "Collecting rdflib\n",
      "  Using cached rdflib-7.0.0-py3-none-any.whl.metadata (11 kB)\n",
      "Collecting isodate<0.7.0,>=0.6.0 (from rdflib)\n",
      "  Using cached isodate-0.6.1-py2.py3-none-any.whl.metadata (9.6 kB)\n",
      "Requirement already satisfied: pyparsing<4,>=2.1.0 in /opt/homebrew/lib/python3.11/site-packages (from rdflib) (3.0.9)\n",
      "Requirement already satisfied: six in /opt/homebrew/lib/python3.11/site-packages (from isodate<0.7.0,>=0.6.0->rdflib) (1.16.0)\n",
      "Using cached rdflib-7.0.0-py3-none-any.whl (531 kB)\n",
      "Using cached isodate-0.6.1-py2.py3-none-any.whl (41 kB)\n",
      "Installing collected packages: isodate, rdflib\n",
      "Successfully installed isodate-0.6.1 rdflib-7.0.0\n",
      "\n",
      "\u001b[1m[\u001b[0m\u001b[34;49mnotice\u001b[0m\u001b[1;39;49m]\u001b[0m\u001b[39;49m A new release of pip is available: \u001b[0m\u001b[31;49m24.0\u001b[0m\u001b[39;49m -> \u001b[0m\u001b[32;49m24.1.2\u001b[0m\n",
      "\u001b[1m[\u001b[0m\u001b[34;49mnotice\u001b[0m\u001b[1;39;49m]\u001b[0m\u001b[39;49m To update, run: \u001b[0m\u001b[32;49mpython3.11 -m pip install --upgrade pip\u001b[0m\n"
     ]
    }
   ],
   "source": [
    "! pip install rdflib"
   ]
  },
  {
   "cell_type": "code",
   "execution_count": null,
   "id": "f630530a-c37a-44a0-adcd-92da865b0ce0",
   "metadata": {},
   "outputs": [],
   "source": []
  }
 ],
 "metadata": {
  "kernelspec": {
   "display_name": "jupyter_kernel",
   "language": "python",
   "name": "jupyter_kernel"
  },
  "language_info": {
   "codemirror_mode": {
    "name": "ipython",
    "version": 3
   },
   "file_extension": ".py",
   "mimetype": "text/x-python",
   "name": "python",
   "nbconvert_exporter": "python",
   "pygments_lexer": "ipython3",
   "version": "3.11.9"
  },
  "provenance": {
   "cells": [
    "8d0d19f9-e1ab-47a4-883c-0102e9876e06"
   ],
   "epochs": [
    {
     "cells": [
      "8d0d19f9-e1ab-47a4-883c-0102e9876e06"
     ],
     "data": [
      {
       "cell_id": "8d0d19f9-e1ab-47a4-883c-0102e9876e06",
       "cell_outputs": [],
       "cell_source": "import json\nimport re\nfrom rdflib import Graph, URIRef, Literal, Namespace\nfrom rdflib.namespace import RDF, RDFS\n\n# Define namespaces\nPROV = Namespace(\"http://www.w3.org/ns/prov#\")\nEX = Namespace(\"http://example.org/\")\n\n# Create a new RDF graph\ng = Graph()\ng.bind(\"prov\", PROV)\ng.bind(\"ex\", EX)\n\n# Load the JSON data\nwith open(\"./prov-exports/MLPovLabExport (5).json\", \"r\") as f:\n    data = json.load(f)\n\n# Helper function to create valid URIs\ndef create_uri(base, suffix):\n    suffix = re.sub(r'\\W+', '_', suffix)  # Replace non-alphanumeric characters with underscores\n    return URIRef(base + suffix)\ncounter = 0\n# Process each epoch in the JSON data\nfor epoch in data[\"epochs\"]:\n    if counter == 0:\n        # Create an entity for the epoch\n        epoch_start_time = epoch[\"kernel_start_time\"]\n        epoch_uri = create_uri(\"http://example.org/epoch/\", epoch_start_time)\n        g.add((epoch_uri, RDF.type, PROV.Entity))\n\n        # Add attributes to the epoch entity\n        g.add((epoch_uri, PROV.startedAtTime, Literal(epoch_start_time)))\n        if \"time\" in epoch:\n            g.add((epoch_uri, PROV.endedAtTime, Literal(epoch[\"time\"])))\n        g.add((epoch_uri, PROV.wasAttributedTo, Literal(epoch[\"user_agent\"])))\n        g.add((epoch_uri, PROV.used, Literal(epoch[\"language\"])))\n        g.add((epoch_uri, PROV.used, Literal(epoch[\"language_version\"])))\n        g.add((epoch_uri, PROV.used, Literal(epoch[\"kernel\"])))\n        g.add((epoch_uri, PROV.used, Literal(epoch[\"kernel_version\"])))\n\n        # Add modules used\n        for module, details in epoch[\"modules\"].items():\n            module_uri = create_uri(\"http://example.org/module/\", module)\n            g.add((module_uri, RDF.type, PROV.Entity))\n            g.add((module_uri, PROV.wasGeneratedBy, epoch_uri))\n            if details[\"version\"]:\n                g.add((module_uri, PROV.hadPrimarySource, Literal(details[\"version\"])))\n\n        # Process each execution_data entry\n        for exec_data in epoch[\"execution_data\"]:\n            if counter == 0:\n                exec_uri = create_uri(\"http://example.org/execution/\", str(exec_data[\"execution_count\"]))\n                g.add((exec_uri, RDF.type, PROV.Activity))\n                g.add((exec_uri, PROV.used, epoch_uri))\n\n                # Add code as a property\n                code_literal = Literal(exec_data[\"code\"])\n                g.add((exec_uri, RDFS.label, code_literal))\n\n                # Add imports\n                for imp in exec_data.get(\"imports\", []):\n                    import_uri = create_uri(\"http://example.org/import/\", imp)\n                    g.add((import_uri, RDF.type, PROV.Entity))\n                    g.add((import_uri, PROV.wasGeneratedBy, exec_uri))\n\n                # Add dependencies\n                for dep in exec_data.get(\"dependencies\", []):\n                    dep_uri = create_uri(\"http://example.org/dependency/\", dep)\n                    g.add((dep_uri, RDF.type, PROV.Entity))\n                    g.add((dep_uri, PROV.wasGeneratedBy, exec_uri))\n                counter = counter + 1\n\n# Serialize the graph to RDF format (Turtle in this case) and save to a file\nrdf_data = g.serialize(format=\"turtle\")\nwith open(\"output.ttl\", \"w\") as f:\n    f.write(rdf_data)\n",
       "data_values": [
        "http://www.w3.org/ns/prov#",
        "http://example.org/",
        "./prov-exports/MLPovLabExport (5).json",
        "http://example.org/epoch/",
        "http://example.org/module/",
        "http://example.org/execution/",
        "http://example.org/import/",
        "http://example.org/dependency/",
        "output.ttl"
       ],
       "data_vars": [
        "PROV",
        "EX",
        "g",
        "rdf_data",
        "f"
       ],
       "definitions": [
        {
         "col_offset": 0,
         "dependencies": [
          "Namespace"
         ],
         "end_col_offset": 46,
         "end_lineno": 7,
         "lineno": 7,
         "name": "PROV",
         "type": "assign"
        },
        {
         "col_offset": 0,
         "dependencies": [
          "Namespace"
         ],
         "end_col_offset": 37,
         "end_lineno": 8,
         "lineno": 8,
         "name": "EX",
         "type": "assign"
        },
        {
         "col_offset": 0,
         "dependencies": [
          "Graph"
         ],
         "end_col_offset": 11,
         "end_lineno": 11,
         "lineno": 11,
         "name": "g",
         "type": "assign"
        },
        {
         "col_offset": 0,
         "dependencies": [
          "PROV"
         ],
         "end_col_offset": 20,
         "end_lineno": 12,
         "lineno": 12,
         "name": "g",
         "type": "call"
        },
        {
         "col_offset": 0,
         "dependencies": [
          "EX"
         ],
         "end_col_offset": 16,
         "end_lineno": 13,
         "lineno": 13,
         "name": "g",
         "type": "call"
        },
        {
         "col_offset": 4,
         "dependencies": [
          "json",
          "f"
         ],
         "end_col_offset": 23,
         "end_lineno": 17,
         "lineno": 17,
         "name": "data",
         "type": "assign"
        },
        {
         "col_offset": 0,
         "dependencies": [
          "suffix",
          "URIRef",
          "base"
         ],
         "end_col_offset": 32,
         "end_lineno": 22,
         "lineno": 20,
         "name": "create_uri",
         "type": "function"
        },
        {
         "col_offset": 0,
         "dependencies": [],
         "end_col_offset": 11,
         "end_lineno": 23,
         "lineno": 23,
         "name": "counter",
         "type": "assign"
        },
        {
         "body": [
          {
           "body": [
            {
             "col_offset": 8,
             "dependencies": [
              "epoch"
             ],
             "end_col_offset": 53,
             "end_lineno": 28,
             "lineno": 28,
             "name": "epoch_start_time",
             "type": "assign"
            },
            {
             "col_offset": 8,
             "dependencies": [
              "create_uri",
              "epoch_start_time"
             ],
             "end_col_offset": 77,
             "end_lineno": 29,
             "lineno": 29,
             "name": "epoch_uri",
             "type": "assign"
            },
            {
             "col_offset": 8,
             "dependencies": [
              "epoch_uri",
              "RDF",
              "PROV"
             ],
             "end_col_offset": 49,
             "end_lineno": 30,
             "lineno": 30,
             "name": "g",
             "type": "call"
            },
            {
             "col_offset": 8,
             "dependencies": [
              "epoch_uri",
              "PROV",
              "Literal",
              "epoch_start_time"
             ],
             "end_col_offset": 73,
             "end_lineno": 33,
             "lineno": 33,
             "name": "g",
             "type": "call"
            },
            {
             "body": [
              {
               "col_offset": 12,
               "dependencies": [
                "epoch_uri",
                "PROV",
                "Literal",
                "epoch"
               ],
               "end_col_offset": 72,
               "end_lineno": 35,
               "lineno": 35,
               "name": "g",
               "type": "call"
              }
             ],
             "col_offset": 8,
             "dependencies": [
              "epoch"
             ],
             "end_col_offset": 72,
             "end_lineno": 35,
             "lineno": 34,
             "orelse": [],
             "type": "condition"
            },
            {
             "col_offset": 8,
             "dependencies": [
              "epoch_uri",
              "PROV",
              "Literal",
              "epoch"
             ],
             "end_col_offset": 78,
             "end_lineno": 36,
             "lineno": 36,
             "name": "g",
             "type": "call"
            },
            {
             "col_offset": 8,
             "dependencies": [
              "epoch_uri",
              "PROV",
              "Literal",
              "epoch"
             ],
             "end_col_offset": 65,
             "end_lineno": 37,
             "lineno": 37,
             "name": "g",
             "type": "call"
            },
            {
             "col_offset": 8,
             "dependencies": [
              "epoch_uri",
              "PROV",
              "Literal",
              "epoch"
             ],
             "end_col_offset": 73,
             "end_lineno": 38,
             "lineno": 38,
             "name": "g",
             "type": "call"
            },
            {
             "col_offset": 8,
             "dependencies": [
              "epoch_uri",
              "PROV",
              "Literal",
              "epoch"
             ],
             "end_col_offset": 63,
             "end_lineno": 39,
             "lineno": 39,
             "name": "g",
             "type": "call"
            },
            {
             "col_offset": 8,
             "dependencies": [
              "epoch_uri",
              "PROV",
              "Literal",
              "epoch"
             ],
             "end_col_offset": 71,
             "end_lineno": 40,
             "lineno": 40,
             "name": "g",
             "type": "call"
            },
            {
             "body": [
              {
               "col_offset": 12,
               "dependencies": [
                "create_uri",
                "module"
               ],
               "end_col_offset": 73,
               "end_lineno": 44,
               "lineno": 44,
               "name": "module_uri",
               "type": "assign"
              },
              {
               "col_offset": 12,
               "dependencies": [
                "module_uri",
                "RDF",
                "PROV"
               ],
               "end_col_offset": 54,
               "end_lineno": 45,
               "lineno": 45,
               "name": "g",
               "type": "call"
              },
              {
               "col_offset": 12,
               "dependencies": [
                "module_uri",
                "PROV",
                "epoch_uri"
               ],
               "end_col_offset": 63,
               "end_lineno": 46,
               "lineno": 46,
               "name": "g",
               "type": "call"
              },
              {
               "body": [
                {
                 "col_offset": 16,
                 "dependencies": [
                  "module_uri",
                  "PROV",
                  "Literal",
                  "details"
                 ],
                 "end_col_offset": 87,
                 "end_lineno": 48,
                 "lineno": 48,
                 "name": "g",
                 "type": "call"
                }
               ],
               "col_offset": 12,
               "dependencies": [
                "details"
               ],
               "end_col_offset": 87,
               "end_lineno": 48,
               "lineno": 47,
               "orelse": [],
               "type": "condition"
              }
             ],
             "col_offset": 8,
             "dependencies": [
              "epoch"
             ],
             "end_col_offset": 87,
             "end_lineno": 48,
             "lineno": 43,
             "orelse": [],
             "type": "loop"
            },
            {
             "body": [
              {
               "body": [
                {
                 "col_offset": 16,
                 "dependencies": [
                  "create_uri",
                  "str",
                  "exec_data"
                 ],
                 "end_col_offset": 105,
                 "end_lineno": 53,
                 "lineno": 53,
                 "name": "exec_uri",
                 "type": "assign"
                },
                {
                 "col_offset": 16,
                 "dependencies": [
                  "exec_uri",
                  "RDF",
                  "PROV"
                 ],
                 "end_col_offset": 58,
                 "end_lineno": 54,
                 "lineno": 54,
                 "name": "g",
                 "type": "call"
                },
                {
                 "col_offset": 16,
                 "dependencies": [
                  "exec_uri",
                  "PROV",
                  "epoch_uri"
                 ],
                 "end_col_offset": 55,
                 "end_lineno": 55,
                 "lineno": 55,
                 "name": "g",
                 "type": "call"
                },
                {
                 "col_offset": 16,
                 "dependencies": [
                  "Literal",
                  "exec_data"
                 ],
                 "end_col_offset": 57,
                 "end_lineno": 58,
                 "lineno": 58,
                 "name": "code_literal",
                 "type": "assign"
                },
                {
                 "col_offset": 16,
                 "dependencies": [
                  "exec_uri",
                  "RDFS",
                  "code_literal"
                 ],
                 "end_col_offset": 59,
                 "end_lineno": 59,
                 "lineno": 59,
                 "name": "g",
                 "type": "call"
                },
                {
                 "body": [
                  {
                   "col_offset": 20,
                   "dependencies": [
                    "create_uri",
                    "imp"
                   ],
                   "end_col_offset": 78,
                   "end_lineno": 63,
                   "lineno": 63,
                   "name": "import_uri",
                   "type": "assign"
                  },
                  {
                   "col_offset": 20,
                   "dependencies": [
                    "import_uri",
                    "RDF",
                    "PROV"
                   ],
                   "end_col_offset": 62,
                   "end_lineno": 64,
                   "lineno": 64,
                   "name": "g",
                   "type": "call"
                  },
                  {
                   "col_offset": 20,
                   "dependencies": [
                    "import_uri",
                    "PROV",
                    "exec_uri"
                   ],
                   "end_col_offset": 70,
                   "end_lineno": 65,
                   "lineno": 65,
                   "name": "g",
                   "type": "call"
                  }
                 ],
                 "col_offset": 16,
                 "dependencies": [
                  "exec_data"
                 ],
                 "end_col_offset": 70,
                 "end_lineno": 65,
                 "lineno": 62,
                 "orelse": [],
                 "type": "loop"
                },
                {
                 "body": [
                  {
                   "col_offset": 20,
                   "dependencies": [
                    "create_uri",
                    "dep"
                   ],
                   "end_col_offset": 79,
                   "end_lineno": 69,
                   "lineno": 69,
                   "name": "dep_uri",
                   "type": "assign"
                  },
                  {
                   "col_offset": 20,
                   "dependencies": [
                    "dep_uri",
                    "RDF",
                    "PROV"
                   ],
                   "end_col_offset": 59,
                   "end_lineno": 70,
                   "lineno": 70,
                   "name": "g",
                   "type": "call"
                  },
                  {
                   "col_offset": 20,
                   "dependencies": [
                    "dep_uri",
                    "PROV",
                    "exec_uri"
                   ],
                   "end_col_offset": 67,
                   "end_lineno": 71,
                   "lineno": 71,
                   "name": "g",
                   "type": "call"
                  }
                 ],
                 "col_offset": 16,
                 "dependencies": [
                  "exec_data"
                 ],
                 "end_col_offset": 67,
                 "end_lineno": 71,
                 "lineno": 68,
                 "orelse": [],
                 "type": "loop"
                },
                {
                 "col_offset": 16,
                 "dependencies": [
                  "counter"
                 ],
                 "end_col_offset": 37,
                 "end_lineno": 72,
                 "lineno": 72,
                 "name": "counter",
                 "type": "assign"
                }
               ],
               "col_offset": 12,
               "dependencies": [
                "counter",
                "str"
               ],
               "end_col_offset": 37,
               "end_lineno": 72,
               "lineno": 52,
               "orelse": [],
               "type": "condition"
              }
             ],
             "col_offset": 8,
             "dependencies": [
              "epoch",
              "str"
             ],
             "end_col_offset": 37,
             "end_lineno": 72,
             "lineno": 51,
             "orelse": [],
             "type": "loop"
            }
           ],
           "col_offset": 4,
           "dependencies": [
            "counter",
            "str"
           ],
           "end_col_offset": 37,
           "end_lineno": 72,
           "lineno": 26,
           "orelse": [],
           "type": "condition"
          }
         ],
         "col_offset": 0,
         "dependencies": [
          "data",
          "str"
         ],
         "end_col_offset": 37,
         "end_lineno": 72,
         "lineno": 25,
         "orelse": [],
         "type": "loop"
        },
        {
         "col_offset": 0,
         "dependencies": [
          "g"
         ],
         "end_col_offset": 39,
         "end_lineno": 75,
         "lineno": 75,
         "name": "rdf_data",
         "type": "assign"
        },
        {
         "col_offset": 4,
         "dependencies": [
          "rdf_data"
         ],
         "end_col_offset": 21,
         "end_lineno": 77,
         "lineno": 77,
         "name": "f",
         "type": "call"
        }
       ],
       "execution_count": 1,
       "imports": [
        "json",
        "re",
        "Graph",
        "URIRef",
        "Literal",
        "Namespace",
        "RDF",
        "RDFS"
       ],
       "local": [
        "PROV",
        "EX",
        "g",
        "data",
        "create_uri",
        "counter",
        "epoch",
        "epoch_start_time",
        "epoch_uri",
        "module",
        "details",
        "module_uri",
        "exec_data",
        "exec_uri",
        "code_literal",
        "imp",
        "import_uri",
        "dep",
        "dep_uri",
        "rdf_data"
       ],
       "local_info": {
        "EX": "",
        "PROV": "",
        "code_literal": "",
        "counter": "",
        "create_uri": "",
        "data": "",
        "dep": "",
        "dep_uri": "",
        "details": "",
        "epoch": "",
        "epoch_start_time": "",
        "epoch_uri": "",
        "exec_data": "",
        "exec_uri": "",
        "g": "",
        "imp": "",
        "import_uri": "",
        "module": "",
        "module_uri": "",
        "rdf_data": ""
       },
       "remote": [
        "f",
        "suffix",
        "base",
        "str"
       ],
       "time": "Tue, 23 Jul 2024 08:36:18 GMT",
       "type": "execution"
      },
      {
       "cell_id": "8d0d19f9-e1ab-47a4-883c-0102e9876e06",
       "cell_outputs": [],
       "cell_source": "import json\nimport re\nfrom rdflib import Graph, URIRef, Literal, Namespace\nfrom rdflib.namespace import RDF, RDFS\n\n# Define namespaces\nPROV = Namespace(\"http://www.w3.org/ns/prov#\")\nEX = Namespace(\"http://example.org/\")\n\n# Create a new RDF graph\ng = Graph()\ng.bind(\"prov\", PROV)\ng.bind(\"ex\", EX)\n\n# Load the JSON data\nwith open(\"./prov-exports/simple_calcs.json\", \"r\") as f:\n    data = json.load(f)\n\n# Helper function to create valid URIs\ndef create_uri(base, suffix):\n    suffix = re.sub(r'\\W+', '_', suffix)  # Replace non-alphanumeric characters with underscores\n    return URIRef(base + suffix)\ncounter = 0\n# Process each epoch in the JSON data\nfor epoch in data[\"epochs\"]:\n    if counter == 0:\n        # Create an entity for the epoch\n        epoch_start_time = epoch[\"kernel_start_time\"]\n        epoch_uri = create_uri(\"http://example.org/epoch/\", epoch_start_time)\n        g.add((epoch_uri, RDF.type, PROV.Entity))\n\n        # Add attributes to the epoch entity\n        g.add((epoch_uri, PROV.startedAtTime, Literal(epoch_start_time)))\n        if \"time\" in epoch:\n            g.add((epoch_uri, PROV.endedAtTime, Literal(epoch[\"time\"])))\n        g.add((epoch_uri, PROV.wasAttributedTo, Literal(epoch[\"user_agent\"])))\n        g.add((epoch_uri, PROV.used, Literal(epoch[\"language\"])))\n        g.add((epoch_uri, PROV.used, Literal(epoch[\"language_version\"])))\n        g.add((epoch_uri, PROV.used, Literal(epoch[\"kernel\"])))\n        g.add((epoch_uri, PROV.used, Literal(epoch[\"kernel_version\"])))\n\n        # Add modules used\n        for module, details in epoch[\"modules\"].items():\n            module_uri = create_uri(\"http://example.org/module/\", module)\n            g.add((module_uri, RDF.type, PROV.Entity))\n            g.add((module_uri, PROV.wasGeneratedBy, epoch_uri))\n            if details[\"version\"]:\n                g.add((module_uri, PROV.hadPrimarySource, Literal(details[\"version\"])))\n\n        # Process each execution_data entry\n        for exec_data in epoch[\"execution_data\"]:\n            if counter == 0:\n                exec_uri = create_uri(\"http://example.org/execution/\", str(exec_data[\"execution_count\"]))\n                g.add((exec_uri, RDF.type, PROV.Activity))\n                g.add((exec_uri, PROV.used, epoch_uri))\n\n                # Add code as a property\n                code_literal = Literal(exec_data[\"code\"])\n                g.add((exec_uri, RDFS.label, code_literal))\n\n                # Add imports\n                for imp in exec_data.get(\"imports\", []):\n                    import_uri = create_uri(\"http://example.org/import/\", imp)\n                    g.add((import_uri, RDF.type, PROV.Entity))\n                    g.add((import_uri, PROV.wasGeneratedBy, exec_uri))\n\n                # Add dependencies\n                for dep in exec_data.get(\"dependencies\", []):\n                    dep_uri = create_uri(\"http://example.org/dependency/\", dep)\n                    g.add((dep_uri, RDF.type, PROV.Entity))\n                    g.add((dep_uri, PROV.wasGeneratedBy, exec_uri))\n                counter = counter + 1\n\n# Serialize the graph to RDF format (Turtle in this case) and save to a file\nrdf_data = g.serialize(format=\"turtle\")\nwith open(\"output.ttl\", \"w\") as f:\n    f.write(rdf_data)\n",
       "data_values": [
        "http://www.w3.org/ns/prov#",
        "http://example.org/",
        "./prov-exports/simple_calcs.json",
        "http://example.org/epoch/",
        "http://example.org/module/",
        "http://example.org/execution/",
        "http://example.org/import/",
        "http://example.org/dependency/",
        "output.ttl"
       ],
       "data_vars": [
        "PROV",
        "EX",
        "g",
        "rdf_data",
        "f"
       ],
       "definitions": [
        {
         "col_offset": 0,
         "dependencies": [
          "Namespace"
         ],
         "end_col_offset": 46,
         "end_lineno": 7,
         "lineno": 7,
         "name": "PROV",
         "type": "assign"
        },
        {
         "col_offset": 0,
         "dependencies": [
          "Namespace"
         ],
         "end_col_offset": 37,
         "end_lineno": 8,
         "lineno": 8,
         "name": "EX",
         "type": "assign"
        },
        {
         "col_offset": 0,
         "dependencies": [
          "Graph"
         ],
         "end_col_offset": 11,
         "end_lineno": 11,
         "lineno": 11,
         "name": "g",
         "type": "assign"
        },
        {
         "col_offset": 0,
         "dependencies": [
          "PROV"
         ],
         "end_col_offset": 20,
         "end_lineno": 12,
         "lineno": 12,
         "name": "g",
         "type": "call"
        },
        {
         "col_offset": 0,
         "dependencies": [
          "EX"
         ],
         "end_col_offset": 16,
         "end_lineno": 13,
         "lineno": 13,
         "name": "g",
         "type": "call"
        },
        {
         "col_offset": 4,
         "dependencies": [
          "json",
          "f"
         ],
         "end_col_offset": 23,
         "end_lineno": 17,
         "lineno": 17,
         "name": "data",
         "type": "assign"
        },
        {
         "col_offset": 0,
         "dependencies": [
          "suffix",
          "URIRef",
          "base"
         ],
         "end_col_offset": 32,
         "end_lineno": 22,
         "lineno": 20,
         "name": "create_uri",
         "type": "function"
        },
        {
         "col_offset": 0,
         "dependencies": [],
         "end_col_offset": 11,
         "end_lineno": 23,
         "lineno": 23,
         "name": "counter",
         "type": "assign"
        },
        {
         "body": [
          {
           "body": [
            {
             "col_offset": 8,
             "dependencies": [
              "epoch"
             ],
             "end_col_offset": 53,
             "end_lineno": 28,
             "lineno": 28,
             "name": "epoch_start_time",
             "type": "assign"
            },
            {
             "col_offset": 8,
             "dependencies": [
              "create_uri",
              "epoch_start_time"
             ],
             "end_col_offset": 77,
             "end_lineno": 29,
             "lineno": 29,
             "name": "epoch_uri",
             "type": "assign"
            },
            {
             "col_offset": 8,
             "dependencies": [
              "epoch_uri",
              "RDF",
              "PROV"
             ],
             "end_col_offset": 49,
             "end_lineno": 30,
             "lineno": 30,
             "name": "g",
             "type": "call"
            },
            {
             "col_offset": 8,
             "dependencies": [
              "epoch_uri",
              "PROV",
              "Literal",
              "epoch_start_time"
             ],
             "end_col_offset": 73,
             "end_lineno": 33,
             "lineno": 33,
             "name": "g",
             "type": "call"
            },
            {
             "body": [
              {
               "col_offset": 12,
               "dependencies": [
                "epoch_uri",
                "PROV",
                "Literal",
                "epoch"
               ],
               "end_col_offset": 72,
               "end_lineno": 35,
               "lineno": 35,
               "name": "g",
               "type": "call"
              }
             ],
             "col_offset": 8,
             "dependencies": [
              "epoch"
             ],
             "end_col_offset": 72,
             "end_lineno": 35,
             "lineno": 34,
             "orelse": [],
             "type": "condition"
            },
            {
             "col_offset": 8,
             "dependencies": [
              "epoch_uri",
              "PROV",
              "Literal",
              "epoch"
             ],
             "end_col_offset": 78,
             "end_lineno": 36,
             "lineno": 36,
             "name": "g",
             "type": "call"
            },
            {
             "col_offset": 8,
             "dependencies": [
              "epoch_uri",
              "PROV",
              "Literal",
              "epoch"
             ],
             "end_col_offset": 65,
             "end_lineno": 37,
             "lineno": 37,
             "name": "g",
             "type": "call"
            },
            {
             "col_offset": 8,
             "dependencies": [
              "epoch_uri",
              "PROV",
              "Literal",
              "epoch"
             ],
             "end_col_offset": 73,
             "end_lineno": 38,
             "lineno": 38,
             "name": "g",
             "type": "call"
            },
            {
             "col_offset": 8,
             "dependencies": [
              "epoch_uri",
              "PROV",
              "Literal",
              "epoch"
             ],
             "end_col_offset": 63,
             "end_lineno": 39,
             "lineno": 39,
             "name": "g",
             "type": "call"
            },
            {
             "col_offset": 8,
             "dependencies": [
              "epoch_uri",
              "PROV",
              "Literal",
              "epoch"
             ],
             "end_col_offset": 71,
             "end_lineno": 40,
             "lineno": 40,
             "name": "g",
             "type": "call"
            },
            {
             "body": [
              {
               "col_offset": 12,
               "dependencies": [
                "create_uri",
                "module"
               ],
               "end_col_offset": 73,
               "end_lineno": 44,
               "lineno": 44,
               "name": "module_uri",
               "type": "assign"
              },
              {
               "col_offset": 12,
               "dependencies": [
                "module_uri",
                "RDF",
                "PROV"
               ],
               "end_col_offset": 54,
               "end_lineno": 45,
               "lineno": 45,
               "name": "g",
               "type": "call"
              },
              {
               "col_offset": 12,
               "dependencies": [
                "module_uri",
                "PROV",
                "epoch_uri"
               ],
               "end_col_offset": 63,
               "end_lineno": 46,
               "lineno": 46,
               "name": "g",
               "type": "call"
              },
              {
               "body": [
                {
                 "col_offset": 16,
                 "dependencies": [
                  "module_uri",
                  "PROV",
                  "Literal",
                  "details"
                 ],
                 "end_col_offset": 87,
                 "end_lineno": 48,
                 "lineno": 48,
                 "name": "g",
                 "type": "call"
                }
               ],
               "col_offset": 12,
               "dependencies": [
                "details"
               ],
               "end_col_offset": 87,
               "end_lineno": 48,
               "lineno": 47,
               "orelse": [],
               "type": "condition"
              }
             ],
             "col_offset": 8,
             "dependencies": [
              "epoch"
             ],
             "end_col_offset": 87,
             "end_lineno": 48,
             "lineno": 43,
             "orelse": [],
             "type": "loop"
            },
            {
             "body": [
              {
               "body": [
                {
                 "col_offset": 16,
                 "dependencies": [
                  "create_uri",
                  "str",
                  "exec_data"
                 ],
                 "end_col_offset": 105,
                 "end_lineno": 53,
                 "lineno": 53,
                 "name": "exec_uri",
                 "type": "assign"
                },
                {
                 "col_offset": 16,
                 "dependencies": [
                  "exec_uri",
                  "RDF",
                  "PROV"
                 ],
                 "end_col_offset": 58,
                 "end_lineno": 54,
                 "lineno": 54,
                 "name": "g",
                 "type": "call"
                },
                {
                 "col_offset": 16,
                 "dependencies": [
                  "exec_uri",
                  "PROV",
                  "epoch_uri"
                 ],
                 "end_col_offset": 55,
                 "end_lineno": 55,
                 "lineno": 55,
                 "name": "g",
                 "type": "call"
                },
                {
                 "col_offset": 16,
                 "dependencies": [
                  "Literal",
                  "exec_data"
                 ],
                 "end_col_offset": 57,
                 "end_lineno": 58,
                 "lineno": 58,
                 "name": "code_literal",
                 "type": "assign"
                },
                {
                 "col_offset": 16,
                 "dependencies": [
                  "exec_uri",
                  "RDFS",
                  "code_literal"
                 ],
                 "end_col_offset": 59,
                 "end_lineno": 59,
                 "lineno": 59,
                 "name": "g",
                 "type": "call"
                },
                {
                 "body": [
                  {
                   "col_offset": 20,
                   "dependencies": [
                    "create_uri",
                    "imp"
                   ],
                   "end_col_offset": 78,
                   "end_lineno": 63,
                   "lineno": 63,
                   "name": "import_uri",
                   "type": "assign"
                  },
                  {
                   "col_offset": 20,
                   "dependencies": [
                    "import_uri",
                    "RDF",
                    "PROV"
                   ],
                   "end_col_offset": 62,
                   "end_lineno": 64,
                   "lineno": 64,
                   "name": "g",
                   "type": "call"
                  },
                  {
                   "col_offset": 20,
                   "dependencies": [
                    "import_uri",
                    "PROV",
                    "exec_uri"
                   ],
                   "end_col_offset": 70,
                   "end_lineno": 65,
                   "lineno": 65,
                   "name": "g",
                   "type": "call"
                  }
                 ],
                 "col_offset": 16,
                 "dependencies": [
                  "exec_data"
                 ],
                 "end_col_offset": 70,
                 "end_lineno": 65,
                 "lineno": 62,
                 "orelse": [],
                 "type": "loop"
                },
                {
                 "body": [
                  {
                   "col_offset": 20,
                   "dependencies": [
                    "create_uri",
                    "dep"
                   ],
                   "end_col_offset": 79,
                   "end_lineno": 69,
                   "lineno": 69,
                   "name": "dep_uri",
                   "type": "assign"
                  },
                  {
                   "col_offset": 20,
                   "dependencies": [
                    "dep_uri",
                    "RDF",
                    "PROV"
                   ],
                   "end_col_offset": 59,
                   "end_lineno": 70,
                   "lineno": 70,
                   "name": "g",
                   "type": "call"
                  },
                  {
                   "col_offset": 20,
                   "dependencies": [
                    "dep_uri",
                    "PROV",
                    "exec_uri"
                   ],
                   "end_col_offset": 67,
                   "end_lineno": 71,
                   "lineno": 71,
                   "name": "g",
                   "type": "call"
                  }
                 ],
                 "col_offset": 16,
                 "dependencies": [
                  "exec_data"
                 ],
                 "end_col_offset": 67,
                 "end_lineno": 71,
                 "lineno": 68,
                 "orelse": [],
                 "type": "loop"
                },
                {
                 "col_offset": 16,
                 "dependencies": [
                  "counter"
                 ],
                 "end_col_offset": 37,
                 "end_lineno": 72,
                 "lineno": 72,
                 "name": "counter",
                 "type": "assign"
                }
               ],
               "col_offset": 12,
               "dependencies": [
                "counter",
                "str"
               ],
               "end_col_offset": 37,
               "end_lineno": 72,
               "lineno": 52,
               "orelse": [],
               "type": "condition"
              }
             ],
             "col_offset": 8,
             "dependencies": [
              "epoch",
              "str"
             ],
             "end_col_offset": 37,
             "end_lineno": 72,
             "lineno": 51,
             "orelse": [],
             "type": "loop"
            }
           ],
           "col_offset": 4,
           "dependencies": [
            "counter",
            "str"
           ],
           "end_col_offset": 37,
           "end_lineno": 72,
           "lineno": 26,
           "orelse": [],
           "type": "condition"
          }
         ],
         "col_offset": 0,
         "dependencies": [
          "data",
          "str"
         ],
         "end_col_offset": 37,
         "end_lineno": 72,
         "lineno": 25,
         "orelse": [],
         "type": "loop"
        },
        {
         "col_offset": 0,
         "dependencies": [
          "g"
         ],
         "end_col_offset": 39,
         "end_lineno": 75,
         "lineno": 75,
         "name": "rdf_data",
         "type": "assign"
        },
        {
         "col_offset": 4,
         "dependencies": [
          "rdf_data"
         ],
         "end_col_offset": 21,
         "end_lineno": 77,
         "lineno": 77,
         "name": "f",
         "type": "call"
        }
       ],
       "execution_count": 2,
       "imports": [
        "json",
        "re",
        "Graph",
        "URIRef",
        "Literal",
        "Namespace",
        "RDF",
        "RDFS"
       ],
       "local": [
        "PROV",
        "EX",
        "g",
        "data",
        "create_uri",
        "counter",
        "epoch",
        "epoch_start_time",
        "epoch_uri",
        "module",
        "details",
        "module_uri",
        "exec_data",
        "exec_uri",
        "code_literal",
        "imp",
        "import_uri",
        "dep",
        "dep_uri",
        "rdf_data"
       ],
       "local_info": {
        "EX": "",
        "PROV": "",
        "code_literal": "",
        "counter": "",
        "create_uri": "",
        "data": "",
        "dep": "",
        "dep_uri": "",
        "details": "",
        "epoch": "",
        "epoch_start_time": "",
        "epoch_uri": "",
        "exec_data": "",
        "exec_uri": "",
        "g": "",
        "imp": "",
        "import_uri": "",
        "module": "",
        "module_uri": "",
        "rdf_data": ""
       },
       "remote": [
        "f",
        "suffix",
        "base",
        "str"
       ],
       "time": "Tue, 23 Jul 2024 08:40:25 GMT",
       "type": "execution"
      },
      {
       "cell_id": "8d0d19f9-e1ab-47a4-883c-0102e9876e06",
       "cell_outputs": [],
       "cell_source": "import json\nimport re\nfrom rdflib import Graph, URIRef, Literal, Namespace\nfrom rdflib.namespace import RDF, RDFS\n\n# Define namespaces\nPROV = Namespace(\"http://www.w3.org/ns/prov#\")\nEX = Namespace(\"http://example.org/\")\n\n# Create a new RDF graph\ng = Graph()\ng.bind(\"prov\", PROV)\ng.bind(\"ex\", EX)\n\n# Load the JSON data\nwith open(\"./prov-exports/simple_calcs.json\", \"r\") as f:\n    data = json.load(f)\n\n# Helper function to create valid URIs\ndef create_uri(base, suffix):\n    suffix = re.sub(r'\\W+', '_', suffix)  # Replace non-alphanumeric characters with underscores\n    return URIRef(base + suffix)\ncounter = 0\n# Process each epoch in the JSON data\nfor epoch in data[\"epochs\"]:\n    # Create an entity for the epoch\n    epoch_start_time = epoch[\"kernel_start_time\"]\n    epoch_uri = create_uri(\"http://example.org/epoch/\", epoch_start_time)\n    g.add((epoch_uri, RDF.type, PROV.Entity))\n\n    # Add attributes to the epoch entity\n    g.add((epoch_uri, PROV.startedAtTime, Literal(epoch_start_time)))\n    if \"time\" in epoch:\n        g.add((epoch_uri, PROV.endedAtTime, Literal(epoch[\"time\"])))\n    g.add((epoch_uri, PROV.wasAttributedTo, Literal(epoch[\"user_agent\"])))\n    g.add((epoch_uri, PROV.used, Literal(epoch[\"language\"])))\n    g.add((epoch_uri, PROV.used, Literal(epoch[\"language_version\"])))\n    g.add((epoch_uri, PROV.used, Literal(epoch[\"kernel\"])))\n    g.add((epoch_uri, PROV.used, Literal(epoch[\"kernel_version\"])))\n\n    # Add modules used\n    for module, details in epoch[\"modules\"].items():\n        module_uri = create_uri(\"http://example.org/module/\", module)\n        g.add((module_uri, RDF.type, PROV.Entity))\n        g.add((module_uri, PROV.wasGeneratedBy, epoch_uri))\n        if details[\"version\"]:\n            g.add((module_uri, PROV.hadPrimarySource, Literal(details[\"version\"])))\n\n    # Process each execution_data entry\n    for exec_data in epoch[\"execution_data\"]:\n        exec_uri = create_uri(\"http://example.org/execution/\", str(exec_data[\"execution_count\"]))\n        g.add((exec_uri, RDF.type, PROV.Activity))\n        g.add((exec_uri, PROV.used, epoch_uri))\n\n        # Add code as a property\n        code_literal = Literal(exec_data[\"code\"])\n        g.add((exec_uri, RDFS.label, code_literal))\n\n        # Add imports\n        for imp in exec_data.get(\"imports\", []):\n            import_uri = create_uri(\"http://example.org/import/\", imp)\n            g.add((import_uri, RDF.type, PROV.Entity))\n            g.add((import_uri, PROV.wasGeneratedBy, exec_uri))\n\n        # Add dependencies\n        for dep in exec_data.get(\"dependencies\", []):\n            dep_uri = create_uri(\"http://example.org/dependency/\", dep)\n            g.add((dep_uri, RDF.type, PROV.Entity))\n            g.add((dep_uri, PROV.wasGeneratedBy, exec_uri))\n\n# Serialize the graph to RDF format (Turtle in this case) and save to a file\nrdf_data = g.serialize(format=\"turtle\")\nwith open(\"output.ttl\", \"w\") as f:\n    f.write(rdf_data)\n",
       "data_values": [
        "http://www.w3.org/ns/prov#",
        "http://example.org/",
        "./prov-exports/simple_calcs.json",
        "http://example.org/epoch/",
        "http://example.org/module/",
        "http://example.org/execution/",
        "http://example.org/import/",
        "http://example.org/dependency/",
        "output.ttl"
       ],
       "data_vars": [
        "PROV",
        "EX",
        "g",
        "rdf_data",
        "f"
       ],
       "definitions": [
        {
         "col_offset": 0,
         "dependencies": [
          "Namespace"
         ],
         "end_col_offset": 46,
         "end_lineno": 7,
         "lineno": 7,
         "name": "PROV",
         "type": "assign"
        },
        {
         "col_offset": 0,
         "dependencies": [
          "Namespace"
         ],
         "end_col_offset": 37,
         "end_lineno": 8,
         "lineno": 8,
         "name": "EX",
         "type": "assign"
        },
        {
         "col_offset": 0,
         "dependencies": [
          "Graph"
         ],
         "end_col_offset": 11,
         "end_lineno": 11,
         "lineno": 11,
         "name": "g",
         "type": "assign"
        },
        {
         "col_offset": 0,
         "dependencies": [
          "PROV"
         ],
         "end_col_offset": 20,
         "end_lineno": 12,
         "lineno": 12,
         "name": "g",
         "type": "call"
        },
        {
         "col_offset": 0,
         "dependencies": [
          "EX"
         ],
         "end_col_offset": 16,
         "end_lineno": 13,
         "lineno": 13,
         "name": "g",
         "type": "call"
        },
        {
         "col_offset": 4,
         "dependencies": [
          "json",
          "f"
         ],
         "end_col_offset": 23,
         "end_lineno": 17,
         "lineno": 17,
         "name": "data",
         "type": "assign"
        },
        {
         "col_offset": 0,
         "dependencies": [
          "suffix",
          "URIRef",
          "base"
         ],
         "end_col_offset": 32,
         "end_lineno": 22,
         "lineno": 20,
         "name": "create_uri",
         "type": "function"
        },
        {
         "col_offset": 0,
         "dependencies": [],
         "end_col_offset": 11,
         "end_lineno": 23,
         "lineno": 23,
         "name": "counter",
         "type": "assign"
        },
        {
         "body": [
          {
           "col_offset": 4,
           "dependencies": [
            "epoch"
           ],
           "end_col_offset": 49,
           "end_lineno": 27,
           "lineno": 27,
           "name": "epoch_start_time",
           "type": "assign"
          },
          {
           "col_offset": 4,
           "dependencies": [
            "create_uri",
            "epoch_start_time"
           ],
           "end_col_offset": 73,
           "end_lineno": 28,
           "lineno": 28,
           "name": "epoch_uri",
           "type": "assign"
          },
          {
           "col_offset": 4,
           "dependencies": [
            "epoch_uri",
            "RDF",
            "PROV"
           ],
           "end_col_offset": 45,
           "end_lineno": 29,
           "lineno": 29,
           "name": "g",
           "type": "call"
          },
          {
           "col_offset": 4,
           "dependencies": [
            "epoch_uri",
            "PROV",
            "Literal",
            "epoch_start_time"
           ],
           "end_col_offset": 69,
           "end_lineno": 32,
           "lineno": 32,
           "name": "g",
           "type": "call"
          },
          {
           "body": [
            {
             "col_offset": 8,
             "dependencies": [
              "epoch_uri",
              "PROV",
              "Literal",
              "epoch"
             ],
             "end_col_offset": 68,
             "end_lineno": 34,
             "lineno": 34,
             "name": "g",
             "type": "call"
            }
           ],
           "col_offset": 4,
           "dependencies": [
            "epoch"
           ],
           "end_col_offset": 68,
           "end_lineno": 34,
           "lineno": 33,
           "orelse": [],
           "type": "condition"
          },
          {
           "col_offset": 4,
           "dependencies": [
            "epoch_uri",
            "PROV",
            "Literal",
            "epoch"
           ],
           "end_col_offset": 74,
           "end_lineno": 35,
           "lineno": 35,
           "name": "g",
           "type": "call"
          },
          {
           "col_offset": 4,
           "dependencies": [
            "epoch_uri",
            "PROV",
            "Literal",
            "epoch"
           ],
           "end_col_offset": 61,
           "end_lineno": 36,
           "lineno": 36,
           "name": "g",
           "type": "call"
          },
          {
           "col_offset": 4,
           "dependencies": [
            "epoch_uri",
            "PROV",
            "Literal",
            "epoch"
           ],
           "end_col_offset": 69,
           "end_lineno": 37,
           "lineno": 37,
           "name": "g",
           "type": "call"
          },
          {
           "col_offset": 4,
           "dependencies": [
            "epoch_uri",
            "PROV",
            "Literal",
            "epoch"
           ],
           "end_col_offset": 59,
           "end_lineno": 38,
           "lineno": 38,
           "name": "g",
           "type": "call"
          },
          {
           "col_offset": 4,
           "dependencies": [
            "epoch_uri",
            "PROV",
            "Literal",
            "epoch"
           ],
           "end_col_offset": 67,
           "end_lineno": 39,
           "lineno": 39,
           "name": "g",
           "type": "call"
          },
          {
           "body": [
            {
             "col_offset": 8,
             "dependencies": [
              "create_uri",
              "module"
             ],
             "end_col_offset": 69,
             "end_lineno": 43,
             "lineno": 43,
             "name": "module_uri",
             "type": "assign"
            },
            {
             "col_offset": 8,
             "dependencies": [
              "module_uri",
              "RDF",
              "PROV"
             ],
             "end_col_offset": 50,
             "end_lineno": 44,
             "lineno": 44,
             "name": "g",
             "type": "call"
            },
            {
             "col_offset": 8,
             "dependencies": [
              "module_uri",
              "PROV",
              "epoch_uri"
             ],
             "end_col_offset": 59,
             "end_lineno": 45,
             "lineno": 45,
             "name": "g",
             "type": "call"
            },
            {
             "body": [
              {
               "col_offset": 12,
               "dependencies": [
                "module_uri",
                "PROV",
                "Literal",
                "details"
               ],
               "end_col_offset": 83,
               "end_lineno": 47,
               "lineno": 47,
               "name": "g",
               "type": "call"
              }
             ],
             "col_offset": 8,
             "dependencies": [
              "details"
             ],
             "end_col_offset": 83,
             "end_lineno": 47,
             "lineno": 46,
             "orelse": [],
             "type": "condition"
            }
           ],
           "col_offset": 4,
           "dependencies": [
            "epoch"
           ],
           "end_col_offset": 83,
           "end_lineno": 47,
           "lineno": 42,
           "orelse": [],
           "type": "loop"
          },
          {
           "body": [
            {
             "col_offset": 8,
             "dependencies": [
              "create_uri",
              "str",
              "exec_data"
             ],
             "end_col_offset": 97,
             "end_lineno": 51,
             "lineno": 51,
             "name": "exec_uri",
             "type": "assign"
            },
            {
             "col_offset": 8,
             "dependencies": [
              "exec_uri",
              "RDF",
              "PROV"
             ],
             "end_col_offset": 50,
             "end_lineno": 52,
             "lineno": 52,
             "name": "g",
             "type": "call"
            },
            {
             "col_offset": 8,
             "dependencies": [
              "exec_uri",
              "PROV",
              "epoch_uri"
             ],
             "end_col_offset": 47,
             "end_lineno": 53,
             "lineno": 53,
             "name": "g",
             "type": "call"
            },
            {
             "col_offset": 8,
             "dependencies": [
              "Literal",
              "exec_data"
             ],
             "end_col_offset": 49,
             "end_lineno": 56,
             "lineno": 56,
             "name": "code_literal",
             "type": "assign"
            },
            {
             "col_offset": 8,
             "dependencies": [
              "exec_uri",
              "RDFS",
              "code_literal"
             ],
             "end_col_offset": 51,
             "end_lineno": 57,
             "lineno": 57,
             "name": "g",
             "type": "call"
            },
            {
             "body": [
              {
               "col_offset": 12,
               "dependencies": [
                "create_uri",
                "imp"
               ],
               "end_col_offset": 70,
               "end_lineno": 61,
               "lineno": 61,
               "name": "import_uri",
               "type": "assign"
              },
              {
               "col_offset": 12,
               "dependencies": [
                "import_uri",
                "RDF",
                "PROV"
               ],
               "end_col_offset": 54,
               "end_lineno": 62,
               "lineno": 62,
               "name": "g",
               "type": "call"
              },
              {
               "col_offset": 12,
               "dependencies": [
                "import_uri",
                "PROV",
                "exec_uri"
               ],
               "end_col_offset": 62,
               "end_lineno": 63,
               "lineno": 63,
               "name": "g",
               "type": "call"
              }
             ],
             "col_offset": 8,
             "dependencies": [
              "exec_data"
             ],
             "end_col_offset": 62,
             "end_lineno": 63,
             "lineno": 60,
             "orelse": [],
             "type": "loop"
            },
            {
             "body": [
              {
               "col_offset": 12,
               "dependencies": [
                "create_uri",
                "dep"
               ],
               "end_col_offset": 71,
               "end_lineno": 67,
               "lineno": 67,
               "name": "dep_uri",
               "type": "assign"
              },
              {
               "col_offset": 12,
               "dependencies": [
                "dep_uri",
                "RDF",
                "PROV"
               ],
               "end_col_offset": 51,
               "end_lineno": 68,
               "lineno": 68,
               "name": "g",
               "type": "call"
              },
              {
               "col_offset": 12,
               "dependencies": [
                "dep_uri",
                "PROV",
                "exec_uri"
               ],
               "end_col_offset": 59,
               "end_lineno": 69,
               "lineno": 69,
               "name": "g",
               "type": "call"
              }
             ],
             "col_offset": 8,
             "dependencies": [
              "exec_data"
             ],
             "end_col_offset": 59,
             "end_lineno": 69,
             "lineno": 66,
             "orelse": [],
             "type": "loop"
            }
           ],
           "col_offset": 4,
           "dependencies": [
            "epoch",
            "str"
           ],
           "end_col_offset": 59,
           "end_lineno": 69,
           "lineno": 50,
           "orelse": [],
           "type": "loop"
          }
         ],
         "col_offset": 0,
         "dependencies": [
          "data",
          "str"
         ],
         "end_col_offset": 59,
         "end_lineno": 69,
         "lineno": 25,
         "orelse": [],
         "type": "loop"
        },
        {
         "col_offset": 0,
         "dependencies": [
          "g"
         ],
         "end_col_offset": 39,
         "end_lineno": 72,
         "lineno": 72,
         "name": "rdf_data",
         "type": "assign"
        },
        {
         "col_offset": 4,
         "dependencies": [
          "rdf_data"
         ],
         "end_col_offset": 21,
         "end_lineno": 74,
         "lineno": 74,
         "name": "f",
         "type": "call"
        }
       ],
       "execution_count": 3,
       "imports": [
        "json",
        "re",
        "Graph",
        "URIRef",
        "Literal",
        "Namespace",
        "RDF",
        "RDFS"
       ],
       "local": [
        "PROV",
        "EX",
        "g",
        "data",
        "create_uri",
        "counter",
        "epoch",
        "epoch_start_time",
        "epoch_uri",
        "module",
        "details",
        "module_uri",
        "exec_data",
        "exec_uri",
        "code_literal",
        "imp",
        "import_uri",
        "dep",
        "dep_uri",
        "rdf_data"
       ],
       "local_info": {
        "EX": "",
        "PROV": "",
        "code_literal": "",
        "counter": "",
        "create_uri": "",
        "data": "",
        "dep": "",
        "dep_uri": "",
        "details": "",
        "epoch": "",
        "epoch_start_time": "",
        "epoch_uri": "",
        "exec_data": "",
        "exec_uri": "",
        "g": "",
        "imp": "",
        "import_uri": "",
        "module": "",
        "module_uri": "",
        "rdf_data": ""
       },
       "remote": [
        "f",
        "suffix",
        "base",
        "str"
       ],
       "time": "Tue, 23 Jul 2024 08:41:23 GMT",
       "type": "execution"
      }
     ],
     "environment": {
      "kernel": {
       "implementation": "ipython",
       "version": "7.34.0"
      },
      "language_info": {
       "mimetype": "text/x-python",
       "name": "python",
       "version": "3.11.9"
      },
      "time": "Tue, 23 Jul 2024 08:36:18 GMT",
      "user_agent": "Mozilla/5.0 (Macintosh; Intel Mac OS X 10_15_7) AppleWebKit/537.36 (KHTML, like Gecko) Chrome/124.0.0.0 Safari/537.36"
     },
     "modules": {
      "json": {
       "version": ""
      },
      "rdflib": {
       "imports": [
        "Graph",
        "URIRef",
        "Literal",
        "Namespace"
       ],
       "version": ""
      },
      "rdflib.namespace": {
       "imports": [
        "RDF",
        "RDFS"
       ],
       "version": ""
      },
      "re": {
       "version": ""
      }
     }
    },
    {
     "cells": [
      "8d0d19f9-e1ab-47a4-883c-0102e9876e06"
     ],
     "data": [
      {
       "cell_id": "8d0d19f9-e1ab-47a4-883c-0102e9876e06",
       "cell_outputs": [],
       "cell_source": "import json\nimport re\nfrom rdflib import Graph, URIRef, Literal, Namespace\nfrom rdflib.namespace import RDF, RDFS\n\n# Define namespaces\nPROV = Namespace(\"http://www.w3.org/ns/prov#\")\nEX = Namespace(\"http://example.org/\")\n\n# Create a new RDF graph\ng = Graph()\ng.bind(\"prov\", PROV)\ng.bind(\"ex\", EX)\n\n# Load the JSON data\nwith open(\"./prov-exports/MLPovLabExport (6).json\", \"r\") as f:\n    data = json.load(f)\n\n# Helper function to create valid URIs\ndef create_uri(base, suffix):\n    suffix = re.sub(r'\\W+', '_', suffix)  # Replace non-alphanumeric characters with underscores\n    return URIRef(base + suffix)\ncounter = 0\n# Process each epoch in the JSON data\nfor epoch in data[\"epochs\"]:\n    # Create an entity for the epoch\n    epoch_start_time = epoch[\"kernel_start_time\"]\n    epoch_uri = create_uri(\"http://example.org/epoch/\", epoch_start_time)\n    g.add((epoch_uri, RDF.type, PROV.Entity))\n\n    # Add attributes to the epoch entity\n    g.add((epoch_uri, PROV.startedAtTime, Literal(epoch_start_time)))\n    if \"time\" in epoch:\n        g.add((epoch_uri, PROV.endedAtTime, Literal(epoch[\"time\"])))\n    g.add((epoch_uri, PROV.wasAttributedTo, Literal(epoch[\"user_agent\"])))\n    g.add((epoch_uri, PROV.used, Literal(epoch[\"language\"])))\n    g.add((epoch_uri, PROV.used, Literal(epoch[\"language_version\"])))\n    g.add((epoch_uri, PROV.used, Literal(epoch[\"kernel\"])))\n    g.add((epoch_uri, PROV.used, Literal(epoch[\"kernel_version\"])))\n\n    # Add modules used\n    for module, details in epoch[\"modules\"].items():\n        module_uri = create_uri(\"http://example.org/module/\", module)\n        g.add((module_uri, RDF.type, PROV.Entity))\n        g.add((module_uri, PROV.wasGeneratedBy, epoch_uri))\n        if details[\"version\"]:\n            g.add((module_uri, PROV.hadPrimarySource, Literal(details[\"version\"])))\n\n    # Process each execution_data entry\n    for exec_data in epoch[\"execution_data\"]:\n        exec_uri = create_uri(\"http://example.org/execution/\", str(exec_data[\"execution_count\"]))\n        g.add((exec_uri, RDF.type, PROV.Activity))\n        g.add((exec_uri, PROV.used, epoch_uri))\n\n        # Add code as a property\n        code_literal = Literal(exec_data[\"code\"])\n        g.add((exec_uri, RDFS.label, code_literal))\n\n        # Add imports\n        for imp in exec_data.get(\"imports\", []):\n            import_uri = create_uri(\"http://example.org/import/\", imp)\n            g.add((import_uri, RDF.type, PROV.Entity))\n            g.add((import_uri, PROV.wasGeneratedBy, exec_uri))\n\n        # Add dependencies\n        for dep in exec_data.get(\"dependencies\", []):\n            dep_uri = create_uri(\"http://example.org/dependency/\", dep)\n            g.add((dep_uri, RDF.type, PROV.Entity))\n            g.add((dep_uri, PROV.wasGeneratedBy, exec_uri))\n\n# Serialize the graph to RDF format (Turtle in this case) and save to a file\nrdf_data = g.serialize(format=\"turtle\")\nwith open(\"output.ttl\", \"w\") as f:\n    f.write(rdf_data)\n",
       "data_values": [
        "http://www.w3.org/ns/prov#",
        "http://example.org/",
        "./prov-exports/MLPovLabExport (6).json",
        "http://example.org/epoch/",
        "http://example.org/module/",
        "http://example.org/execution/",
        "http://example.org/import/",
        "http://example.org/dependency/",
        "output.ttl"
       ],
       "data_vars": [
        "PROV",
        "EX",
        "g",
        "rdf_data",
        "f"
       ],
       "definitions": [
        {
         "col_offset": 0,
         "dependencies": [
          "Namespace"
         ],
         "end_col_offset": 46,
         "end_lineno": 7,
         "lineno": 7,
         "name": "PROV",
         "type": "assign"
        },
        {
         "col_offset": 0,
         "dependencies": [
          "Namespace"
         ],
         "end_col_offset": 37,
         "end_lineno": 8,
         "lineno": 8,
         "name": "EX",
         "type": "assign"
        },
        {
         "col_offset": 0,
         "dependencies": [
          "Graph"
         ],
         "end_col_offset": 11,
         "end_lineno": 11,
         "lineno": 11,
         "name": "g",
         "type": "assign"
        },
        {
         "col_offset": 0,
         "dependencies": [
          "PROV"
         ],
         "end_col_offset": 20,
         "end_lineno": 12,
         "lineno": 12,
         "name": "g",
         "type": "call"
        },
        {
         "col_offset": 0,
         "dependencies": [
          "EX"
         ],
         "end_col_offset": 16,
         "end_lineno": 13,
         "lineno": 13,
         "name": "g",
         "type": "call"
        },
        {
         "col_offset": 4,
         "dependencies": [
          "json",
          "f"
         ],
         "end_col_offset": 23,
         "end_lineno": 17,
         "lineno": 17,
         "name": "data",
         "type": "assign"
        },
        {
         "col_offset": 0,
         "dependencies": [
          "suffix",
          "URIRef",
          "base"
         ],
         "end_col_offset": 32,
         "end_lineno": 22,
         "lineno": 20,
         "name": "create_uri",
         "type": "function"
        },
        {
         "col_offset": 0,
         "dependencies": [],
         "end_col_offset": 11,
         "end_lineno": 23,
         "lineno": 23,
         "name": "counter",
         "type": "assign"
        },
        {
         "body": [
          {
           "col_offset": 4,
           "dependencies": [
            "epoch"
           ],
           "end_col_offset": 49,
           "end_lineno": 27,
           "lineno": 27,
           "name": "epoch_start_time",
           "type": "assign"
          },
          {
           "col_offset": 4,
           "dependencies": [
            "create_uri",
            "epoch_start_time"
           ],
           "end_col_offset": 73,
           "end_lineno": 28,
           "lineno": 28,
           "name": "epoch_uri",
           "type": "assign"
          },
          {
           "col_offset": 4,
           "dependencies": [
            "epoch_uri",
            "RDF",
            "PROV"
           ],
           "end_col_offset": 45,
           "end_lineno": 29,
           "lineno": 29,
           "name": "g",
           "type": "call"
          },
          {
           "col_offset": 4,
           "dependencies": [
            "epoch_uri",
            "PROV",
            "Literal",
            "epoch_start_time"
           ],
           "end_col_offset": 69,
           "end_lineno": 32,
           "lineno": 32,
           "name": "g",
           "type": "call"
          },
          {
           "body": [
            {
             "col_offset": 8,
             "dependencies": [
              "epoch_uri",
              "PROV",
              "Literal",
              "epoch"
             ],
             "end_col_offset": 68,
             "end_lineno": 34,
             "lineno": 34,
             "name": "g",
             "type": "call"
            }
           ],
           "col_offset": 4,
           "dependencies": [
            "epoch"
           ],
           "end_col_offset": 68,
           "end_lineno": 34,
           "lineno": 33,
           "orelse": [],
           "type": "condition"
          },
          {
           "col_offset": 4,
           "dependencies": [
            "epoch_uri",
            "PROV",
            "Literal",
            "epoch"
           ],
           "end_col_offset": 74,
           "end_lineno": 35,
           "lineno": 35,
           "name": "g",
           "type": "call"
          },
          {
           "col_offset": 4,
           "dependencies": [
            "epoch_uri",
            "PROV",
            "Literal",
            "epoch"
           ],
           "end_col_offset": 61,
           "end_lineno": 36,
           "lineno": 36,
           "name": "g",
           "type": "call"
          },
          {
           "col_offset": 4,
           "dependencies": [
            "epoch_uri",
            "PROV",
            "Literal",
            "epoch"
           ],
           "end_col_offset": 69,
           "end_lineno": 37,
           "lineno": 37,
           "name": "g",
           "type": "call"
          },
          {
           "col_offset": 4,
           "dependencies": [
            "epoch_uri",
            "PROV",
            "Literal",
            "epoch"
           ],
           "end_col_offset": 59,
           "end_lineno": 38,
           "lineno": 38,
           "name": "g",
           "type": "call"
          },
          {
           "col_offset": 4,
           "dependencies": [
            "epoch_uri",
            "PROV",
            "Literal",
            "epoch"
           ],
           "end_col_offset": 67,
           "end_lineno": 39,
           "lineno": 39,
           "name": "g",
           "type": "call"
          },
          {
           "body": [
            {
             "col_offset": 8,
             "dependencies": [
              "create_uri",
              "module"
             ],
             "end_col_offset": 69,
             "end_lineno": 43,
             "lineno": 43,
             "name": "module_uri",
             "type": "assign"
            },
            {
             "col_offset": 8,
             "dependencies": [
              "module_uri",
              "RDF",
              "PROV"
             ],
             "end_col_offset": 50,
             "end_lineno": 44,
             "lineno": 44,
             "name": "g",
             "type": "call"
            },
            {
             "col_offset": 8,
             "dependencies": [
              "module_uri",
              "PROV",
              "epoch_uri"
             ],
             "end_col_offset": 59,
             "end_lineno": 45,
             "lineno": 45,
             "name": "g",
             "type": "call"
            },
            {
             "body": [
              {
               "col_offset": 12,
               "dependencies": [
                "module_uri",
                "PROV",
                "Literal",
                "details"
               ],
               "end_col_offset": 83,
               "end_lineno": 47,
               "lineno": 47,
               "name": "g",
               "type": "call"
              }
             ],
             "col_offset": 8,
             "dependencies": [
              "details"
             ],
             "end_col_offset": 83,
             "end_lineno": 47,
             "lineno": 46,
             "orelse": [],
             "type": "condition"
            }
           ],
           "col_offset": 4,
           "dependencies": [
            "epoch"
           ],
           "end_col_offset": 83,
           "end_lineno": 47,
           "lineno": 42,
           "orelse": [],
           "type": "loop"
          },
          {
           "body": [
            {
             "col_offset": 8,
             "dependencies": [
              "create_uri",
              "str",
              "exec_data"
             ],
             "end_col_offset": 97,
             "end_lineno": 51,
             "lineno": 51,
             "name": "exec_uri",
             "type": "assign"
            },
            {
             "col_offset": 8,
             "dependencies": [
              "exec_uri",
              "RDF",
              "PROV"
             ],
             "end_col_offset": 50,
             "end_lineno": 52,
             "lineno": 52,
             "name": "g",
             "type": "call"
            },
            {
             "col_offset": 8,
             "dependencies": [
              "exec_uri",
              "PROV",
              "epoch_uri"
             ],
             "end_col_offset": 47,
             "end_lineno": 53,
             "lineno": 53,
             "name": "g",
             "type": "call"
            },
            {
             "col_offset": 8,
             "dependencies": [
              "Literal",
              "exec_data"
             ],
             "end_col_offset": 49,
             "end_lineno": 56,
             "lineno": 56,
             "name": "code_literal",
             "type": "assign"
            },
            {
             "col_offset": 8,
             "dependencies": [
              "exec_uri",
              "RDFS",
              "code_literal"
             ],
             "end_col_offset": 51,
             "end_lineno": 57,
             "lineno": 57,
             "name": "g",
             "type": "call"
            },
            {
             "body": [
              {
               "col_offset": 12,
               "dependencies": [
                "create_uri",
                "imp"
               ],
               "end_col_offset": 70,
               "end_lineno": 61,
               "lineno": 61,
               "name": "import_uri",
               "type": "assign"
              },
              {
               "col_offset": 12,
               "dependencies": [
                "import_uri",
                "RDF",
                "PROV"
               ],
               "end_col_offset": 54,
               "end_lineno": 62,
               "lineno": 62,
               "name": "g",
               "type": "call"
              },
              {
               "col_offset": 12,
               "dependencies": [
                "import_uri",
                "PROV",
                "exec_uri"
               ],
               "end_col_offset": 62,
               "end_lineno": 63,
               "lineno": 63,
               "name": "g",
               "type": "call"
              }
             ],
             "col_offset": 8,
             "dependencies": [
              "exec_data"
             ],
             "end_col_offset": 62,
             "end_lineno": 63,
             "lineno": 60,
             "orelse": [],
             "type": "loop"
            },
            {
             "body": [
              {
               "col_offset": 12,
               "dependencies": [
                "create_uri",
                "dep"
               ],
               "end_col_offset": 71,
               "end_lineno": 67,
               "lineno": 67,
               "name": "dep_uri",
               "type": "assign"
              },
              {
               "col_offset": 12,
               "dependencies": [
                "dep_uri",
                "RDF",
                "PROV"
               ],
               "end_col_offset": 51,
               "end_lineno": 68,
               "lineno": 68,
               "name": "g",
               "type": "call"
              },
              {
               "col_offset": 12,
               "dependencies": [
                "dep_uri",
                "PROV",
                "exec_uri"
               ],
               "end_col_offset": 59,
               "end_lineno": 69,
               "lineno": 69,
               "name": "g",
               "type": "call"
              }
             ],
             "col_offset": 8,
             "dependencies": [
              "exec_data"
             ],
             "end_col_offset": 59,
             "end_lineno": 69,
             "lineno": 66,
             "orelse": [],
             "type": "loop"
            }
           ],
           "col_offset": 4,
           "dependencies": [
            "epoch",
            "str"
           ],
           "end_col_offset": 59,
           "end_lineno": 69,
           "lineno": 50,
           "orelse": [],
           "type": "loop"
          }
         ],
         "col_offset": 0,
         "dependencies": [
          "data",
          "str"
         ],
         "end_col_offset": 59,
         "end_lineno": 69,
         "lineno": 25,
         "orelse": [],
         "type": "loop"
        },
        {
         "col_offset": 0,
         "dependencies": [
          "g"
         ],
         "end_col_offset": 39,
         "end_lineno": 72,
         "lineno": 72,
         "name": "rdf_data",
         "type": "assign"
        },
        {
         "col_offset": 4,
         "dependencies": [
          "rdf_data"
         ],
         "end_col_offset": 21,
         "end_lineno": 74,
         "lineno": 74,
         "name": "f",
         "type": "call"
        }
       ],
       "execution_count": 1,
       "imports": [
        "json",
        "re",
        "Graph",
        "URIRef",
        "Literal",
        "Namespace",
        "RDF",
        "RDFS"
       ],
       "local": [
        "PROV",
        "EX",
        "g",
        "data",
        "create_uri",
        "counter",
        "epoch",
        "epoch_start_time",
        "epoch_uri",
        "module",
        "details",
        "module_uri",
        "exec_data",
        "exec_uri",
        "code_literal",
        "imp",
        "import_uri",
        "dep",
        "dep_uri",
        "rdf_data"
       ],
       "local_info": {
        "EX": "",
        "PROV": "",
        "code_literal": "",
        "counter": "",
        "create_uri": "",
        "data": "",
        "dep": "",
        "dep_uri": "",
        "details": "",
        "epoch": "",
        "epoch_start_time": "",
        "epoch_uri": "",
        "exec_data": "",
        "exec_uri": "",
        "g": "",
        "imp": "",
        "import_uri": "",
        "module": "",
        "module_uri": "",
        "rdf_data": ""
       },
       "remote": [
        "f",
        "suffix",
        "base",
        "str"
       ],
       "time": "Tue, 23 Jul 2024 09:13:15 GMT",
       "type": "execution"
      },
      {
       "cell_id": "8d0d19f9-e1ab-47a4-883c-0102e9876e06",
       "cell_outputs": [],
       "cell_source": "import json\nimport re\nfrom rdflib import Graph, URIRef, Literal, Namespace\nfrom rdflib.namespace import RDF, RDFS\n\n# Define namespaces\nPROV = Namespace(\"http://www.w3.org/ns/prov#\")\nEX = Namespace(\"http://example.org/\")\n\n# Create a new RDF graph\ng = Graph()\ng.bind(\"prov\", PROV)\ng.bind(\"ex\", EX)\n\n# Load the JSON data\nwith open(\"./prov-exports/MLPovLabExport (6).json\", \"r\") as f:\n    data = json.load(f)\n\n# Helper function to create valid URIs\ndef create_uri(base, suffix):\n    suffix = re.sub(r'\\W+', '_', suffix)  # Replace non-alphanumeric characters with underscores\n    return URIRef(base + suffix)\ncounter = 0\n# Process each epoch in the JSON data\nfor epoch in data[\"epochs\"]:\n    # Create an entity for the epoch\n    epoch_start_time = epoch[\"kernel_start_time\"]\n    epoch_uri = create_uri(\"http://example.org/epoch/\", epoch_start_time)\n    g.add((epoch_uri, RDF.type, PROV.Entity))\n\n    # Add attributes to the epoch entity\n    g.add((epoch_uri, PROV.startedAtTime, Literal(epoch_start_time)))\n    if \"time\" in epoch:\n        g.add((epoch_uri, PROV.endedAtTime, Literal(epoch[\"time\"])))\n        g.add((epoch_uri, PROV.used, Literal(f'Language: {epoch[\"language\"]}')))\n        g.add((epoch_uri, PROV.used, Literal(f'Language Version: {epoch[\"language_version\"]}')))\n\n        # Adding kernel and version\n        g.add((epoch_uri, PROV.used, Literal(f'Kernel: {epoch[\"kernel\"]}')))\n        g.add((epoch_uri, PROV.used, Literal(f'Kernel Version: {epoch[\"kernel_version\"]}')))\n\n    # Add modules used\n    for module, details in epoch[\"modules\"].items():\n        module_uri = create_uri(\"http://example.org/module/\", module)\n        g.add((module_uri, RDF.type, PROV.Entity))\n        g.add((module_uri, PROV.wasGeneratedBy, epoch_uri))\n        if details[\"version\"]:\n            g.add((module_uri, PROV.hadPrimarySource, Literal(details[\"version\"])))\n\n    # Process each execution_data entry\n    for exec_data in epoch[\"execution_data\"]:\n        exec_uri = create_uri(\"http://example.org/execution/\", str(exec_data[\"execution_count\"]))\n        g.add((exec_uri, RDF.type, PROV.Activity))\n        g.add((exec_uri, PROV.used, epoch_uri))\n\n        # Add code as a property\n        code_literal = Literal(exec_data[\"code\"])\n        g.add((exec_uri, RDFS.label, code_literal))\n\n        # Add imports\n        for imp in exec_data.get(\"imports\", []):\n            import_uri = create_uri(\"http://example.org/import/\", imp)\n            g.add((import_uri, RDF.type, PROV.Entity))\n            g.add((import_uri, PROV.wasGeneratedBy, exec_uri))\n\n        # Add dependencies\n        for dep in exec_data.get(\"dependencies\", []):\n            dep_uri = create_uri(\"http://example.org/dependency/\", dep)\n            g.add((dep_uri, RDF.type, PROV.Entity))\n            g.add((dep_uri, PROV.wasGeneratedBy, exec_uri))\n\n# Serialize the graph to RDF format (Turtle in this case) and save to a file\nrdf_data = g.serialize(format=\"turtle\")\nwith open(\"output.ttl\", \"w\") as f:\n    f.write(rdf_data)\n",
       "data_values": [
        "http://www.w3.org/ns/prov#",
        "http://example.org/",
        "./prov-exports/MLPovLabExport (6).json",
        "http://example.org/epoch/",
        "http://example.org/module/",
        "http://example.org/execution/",
        "http://example.org/import/",
        "http://example.org/dependency/",
        "output.ttl"
       ],
       "data_vars": [
        "PROV",
        "EX",
        "g",
        "rdf_data",
        "f"
       ],
       "definitions": [
        {
         "col_offset": 0,
         "dependencies": [
          "Namespace"
         ],
         "end_col_offset": 46,
         "end_lineno": 7,
         "lineno": 7,
         "name": "PROV",
         "type": "assign"
        },
        {
         "col_offset": 0,
         "dependencies": [
          "Namespace"
         ],
         "end_col_offset": 37,
         "end_lineno": 8,
         "lineno": 8,
         "name": "EX",
         "type": "assign"
        },
        {
         "col_offset": 0,
         "dependencies": [
          "Graph"
         ],
         "end_col_offset": 11,
         "end_lineno": 11,
         "lineno": 11,
         "name": "g",
         "type": "assign"
        },
        {
         "col_offset": 0,
         "dependencies": [
          "PROV"
         ],
         "end_col_offset": 20,
         "end_lineno": 12,
         "lineno": 12,
         "name": "g",
         "type": "call"
        },
        {
         "col_offset": 0,
         "dependencies": [
          "EX"
         ],
         "end_col_offset": 16,
         "end_lineno": 13,
         "lineno": 13,
         "name": "g",
         "type": "call"
        },
        {
         "col_offset": 4,
         "dependencies": [
          "json",
          "f"
         ],
         "end_col_offset": 23,
         "end_lineno": 17,
         "lineno": 17,
         "name": "data",
         "type": "assign"
        },
        {
         "col_offset": 0,
         "dependencies": [
          "suffix",
          "URIRef",
          "base"
         ],
         "end_col_offset": 32,
         "end_lineno": 22,
         "lineno": 20,
         "name": "create_uri",
         "type": "function"
        },
        {
         "col_offset": 0,
         "dependencies": [],
         "end_col_offset": 11,
         "end_lineno": 23,
         "lineno": 23,
         "name": "counter",
         "type": "assign"
        },
        {
         "body": [
          {
           "col_offset": 4,
           "dependencies": [
            "epoch"
           ],
           "end_col_offset": 49,
           "end_lineno": 27,
           "lineno": 27,
           "name": "epoch_start_time",
           "type": "assign"
          },
          {
           "col_offset": 4,
           "dependencies": [
            "create_uri",
            "epoch_start_time"
           ],
           "end_col_offset": 73,
           "end_lineno": 28,
           "lineno": 28,
           "name": "epoch_uri",
           "type": "assign"
          },
          {
           "col_offset": 4,
           "dependencies": [
            "epoch_uri",
            "RDF",
            "PROV"
           ],
           "end_col_offset": 45,
           "end_lineno": 29,
           "lineno": 29,
           "name": "g",
           "type": "call"
          },
          {
           "col_offset": 4,
           "dependencies": [
            "epoch_uri",
            "PROV",
            "Literal",
            "epoch_start_time"
           ],
           "end_col_offset": 69,
           "end_lineno": 32,
           "lineno": 32,
           "name": "g",
           "type": "call"
          },
          {
           "body": [
            {
             "col_offset": 8,
             "dependencies": [
              "epoch_uri",
              "PROV",
              "Literal",
              "epoch"
             ],
             "end_col_offset": 68,
             "end_lineno": 34,
             "lineno": 34,
             "name": "g",
             "type": "call"
            },
            {
             "col_offset": 8,
             "dependencies": [
              "epoch_uri",
              "PROV",
              "Literal",
              "epoch"
             ],
             "end_col_offset": 80,
             "end_lineno": 35,
             "lineno": 35,
             "name": "g",
             "type": "call"
            },
            {
             "col_offset": 8,
             "dependencies": [
              "epoch_uri",
              "PROV",
              "Literal",
              "epoch"
             ],
             "end_col_offset": 96,
             "end_lineno": 36,
             "lineno": 36,
             "name": "g",
             "type": "call"
            },
            {
             "col_offset": 8,
             "dependencies": [
              "epoch_uri",
              "PROV",
              "Literal",
              "epoch"
             ],
             "end_col_offset": 76,
             "end_lineno": 39,
             "lineno": 39,
             "name": "g",
             "type": "call"
            },
            {
             "col_offset": 8,
             "dependencies": [
              "epoch_uri",
              "PROV",
              "Literal",
              "epoch"
             ],
             "end_col_offset": 92,
             "end_lineno": 40,
             "lineno": 40,
             "name": "g",
             "type": "call"
            }
           ],
           "col_offset": 4,
           "dependencies": [
            "epoch"
           ],
           "end_col_offset": 92,
           "end_lineno": 40,
           "lineno": 33,
           "orelse": [],
           "type": "condition"
          },
          {
           "body": [
            {
             "col_offset": 8,
             "dependencies": [
              "create_uri",
              "module"
             ],
             "end_col_offset": 69,
             "end_lineno": 44,
             "lineno": 44,
             "name": "module_uri",
             "type": "assign"
            },
            {
             "col_offset": 8,
             "dependencies": [
              "module_uri",
              "RDF",
              "PROV"
             ],
             "end_col_offset": 50,
             "end_lineno": 45,
             "lineno": 45,
             "name": "g",
             "type": "call"
            },
            {
             "col_offset": 8,
             "dependencies": [
              "module_uri",
              "PROV",
              "epoch_uri"
             ],
             "end_col_offset": 59,
             "end_lineno": 46,
             "lineno": 46,
             "name": "g",
             "type": "call"
            },
            {
             "body": [
              {
               "col_offset": 12,
               "dependencies": [
                "module_uri",
                "PROV",
                "Literal",
                "details"
               ],
               "end_col_offset": 83,
               "end_lineno": 48,
               "lineno": 48,
               "name": "g",
               "type": "call"
              }
             ],
             "col_offset": 8,
             "dependencies": [
              "details"
             ],
             "end_col_offset": 83,
             "end_lineno": 48,
             "lineno": 47,
             "orelse": [],
             "type": "condition"
            }
           ],
           "col_offset": 4,
           "dependencies": [
            "epoch"
           ],
           "end_col_offset": 83,
           "end_lineno": 48,
           "lineno": 43,
           "orelse": [],
           "type": "loop"
          },
          {
           "body": [
            {
             "col_offset": 8,
             "dependencies": [
              "create_uri",
              "str",
              "exec_data"
             ],
             "end_col_offset": 97,
             "end_lineno": 52,
             "lineno": 52,
             "name": "exec_uri",
             "type": "assign"
            },
            {
             "col_offset": 8,
             "dependencies": [
              "exec_uri",
              "RDF",
              "PROV"
             ],
             "end_col_offset": 50,
             "end_lineno": 53,
             "lineno": 53,
             "name": "g",
             "type": "call"
            },
            {
             "col_offset": 8,
             "dependencies": [
              "exec_uri",
              "PROV",
              "epoch_uri"
             ],
             "end_col_offset": 47,
             "end_lineno": 54,
             "lineno": 54,
             "name": "g",
             "type": "call"
            },
            {
             "col_offset": 8,
             "dependencies": [
              "Literal",
              "exec_data"
             ],
             "end_col_offset": 49,
             "end_lineno": 57,
             "lineno": 57,
             "name": "code_literal",
             "type": "assign"
            },
            {
             "col_offset": 8,
             "dependencies": [
              "exec_uri",
              "RDFS",
              "code_literal"
             ],
             "end_col_offset": 51,
             "end_lineno": 58,
             "lineno": 58,
             "name": "g",
             "type": "call"
            },
            {
             "body": [
              {
               "col_offset": 12,
               "dependencies": [
                "create_uri",
                "imp"
               ],
               "end_col_offset": 70,
               "end_lineno": 62,
               "lineno": 62,
               "name": "import_uri",
               "type": "assign"
              },
              {
               "col_offset": 12,
               "dependencies": [
                "import_uri",
                "RDF",
                "PROV"
               ],
               "end_col_offset": 54,
               "end_lineno": 63,
               "lineno": 63,
               "name": "g",
               "type": "call"
              },
              {
               "col_offset": 12,
               "dependencies": [
                "import_uri",
                "PROV",
                "exec_uri"
               ],
               "end_col_offset": 62,
               "end_lineno": 64,
               "lineno": 64,
               "name": "g",
               "type": "call"
              }
             ],
             "col_offset": 8,
             "dependencies": [
              "exec_data"
             ],
             "end_col_offset": 62,
             "end_lineno": 64,
             "lineno": 61,
             "orelse": [],
             "type": "loop"
            },
            {
             "body": [
              {
               "col_offset": 12,
               "dependencies": [
                "create_uri",
                "dep"
               ],
               "end_col_offset": 71,
               "end_lineno": 68,
               "lineno": 68,
               "name": "dep_uri",
               "type": "assign"
              },
              {
               "col_offset": 12,
               "dependencies": [
                "dep_uri",
                "RDF",
                "PROV"
               ],
               "end_col_offset": 51,
               "end_lineno": 69,
               "lineno": 69,
               "name": "g",
               "type": "call"
              },
              {
               "col_offset": 12,
               "dependencies": [
                "dep_uri",
                "PROV",
                "exec_uri"
               ],
               "end_col_offset": 59,
               "end_lineno": 70,
               "lineno": 70,
               "name": "g",
               "type": "call"
              }
             ],
             "col_offset": 8,
             "dependencies": [
              "exec_data"
             ],
             "end_col_offset": 59,
             "end_lineno": 70,
             "lineno": 67,
             "orelse": [],
             "type": "loop"
            }
           ],
           "col_offset": 4,
           "dependencies": [
            "epoch",
            "str"
           ],
           "end_col_offset": 59,
           "end_lineno": 70,
           "lineno": 51,
           "orelse": [],
           "type": "loop"
          }
         ],
         "col_offset": 0,
         "dependencies": [
          "data",
          "str"
         ],
         "end_col_offset": 59,
         "end_lineno": 70,
         "lineno": 25,
         "orelse": [],
         "type": "loop"
        },
        {
         "col_offset": 0,
         "dependencies": [
          "g"
         ],
         "end_col_offset": 39,
         "end_lineno": 73,
         "lineno": 73,
         "name": "rdf_data",
         "type": "assign"
        },
        {
         "col_offset": 4,
         "dependencies": [
          "rdf_data"
         ],
         "end_col_offset": 21,
         "end_lineno": 75,
         "lineno": 75,
         "name": "f",
         "type": "call"
        }
       ],
       "execution_count": 2,
       "imports": [
        "json",
        "re",
        "Graph",
        "URIRef",
        "Literal",
        "Namespace",
        "RDF",
        "RDFS"
       ],
       "local": [
        "PROV",
        "EX",
        "g",
        "data",
        "create_uri",
        "counter",
        "epoch",
        "epoch_start_time",
        "epoch_uri",
        "module",
        "details",
        "module_uri",
        "exec_data",
        "exec_uri",
        "code_literal",
        "imp",
        "import_uri",
        "dep",
        "dep_uri",
        "rdf_data"
       ],
       "local_info": {
        "EX": "",
        "PROV": "",
        "code_literal": "",
        "counter": "",
        "create_uri": "",
        "data": "",
        "dep": "",
        "dep_uri": "",
        "details": "",
        "epoch": "",
        "epoch_start_time": "",
        "epoch_uri": "",
        "exec_data": "",
        "exec_uri": "",
        "g": "",
        "imp": "",
        "import_uri": "",
        "module": "",
        "module_uri": "",
        "rdf_data": ""
       },
       "remote": [
        "f",
        "suffix",
        "base",
        "str"
       ],
       "time": "Tue, 23 Jul 2024 10:24:56 GMT",
       "type": "execution"
      },
      {
       "cell_id": "8d0d19f9-e1ab-47a4-883c-0102e9876e06",
       "cell_outputs": [],
       "cell_source": "import json\nimport re\nfrom rdflib import Graph, URIRef, Literal, Namespace\nfrom rdflib.namespace import RDF, RDFS\n\n# Define namespaces\nPROV = Namespace(\"http://www.w3.org/ns/prov#\")\nEX = Namespace(\"http://example.org/\")\n\n# Create a new RDF graph\ng = Graph()\ng.bind(\"prov\", PROV)\ng.bind(\"ex\", EX)\n\n# Load the JSON data\nwith open(\"./prov-exports/simple_calcs.json\", \"r\") as f:\n    data = json.load(f)\n\n# Helper function to create valid URIs\ndef create_uri(base, suffix):\n    suffix = re.sub(r'\\W+', '_', suffix)  # Replace non-alphanumeric characters with underscores\n    return URIRef(base + suffix)\ncounter = 0\n# Process each epoch in the JSON data\nfor epoch in data[\"epochs\"]:\n    # Create an entity for the epoch\n    epoch_start_time = epoch[\"kernel_start_time\"]\n    epoch_uri = create_uri(\"http://example.org/epoch/\", epoch_start_time)\n    g.add((epoch_uri, RDF.type, PROV.Entity))\n\n    # Add attributes to the epoch entity\n    g.add((epoch_uri, PROV.startedAtTime, Literal(epoch_start_time)))\n    if \"time\" in epoch:\n        g.add((epoch_uri, PROV.endedAtTime, Literal(epoch[\"time\"])))\n    # Adding language and version\n    g.add((epoch_uri, PROV.used, Literal(epoch[\"language\"])))\n    g.add((epoch_uri, PROV.used, Literal(f'Language: {epoch[\"language\"]}')))\n    g.add((epoch_uri, PROV.used, Literal(f'Language Version: {epoch[\"language_version\"]}')))\n\n    # Adding kernel and version\n    g.add((epoch_uri, PROV.used, Literal(epoch[\"kernel\"])))\n    g.add((epoch_uri, PROV.used, Literal(f'Kernel: {epoch[\"kernel\"]}')))\n    g.add((epoch_uri, PROV.used, Literal(f'Kernel Version: {epoch[\"kernel_version\"]}')))\n\n\n    # Add modules used\n    for module, details in epoch[\"modules\"].items():\n        module_uri = create_uri(\"http://example.org/module/\", module)\n        g.add((module_uri, RDF.type, PROV.Entity))\n        g.add((module_uri, PROV.wasGeneratedBy, epoch_uri))\n        if details[\"version\"]:\n            g.add((module_uri, PROV.hadPrimarySource, Literal(details[\"version\"])))\n\n    # Process each execution_data entry\n    for exec_data in epoch[\"execution_data\"]:\n        exec_uri = create_uri(\"http://example.org/execution/\", str(exec_data[\"execution_count\"]))\n        g.add((exec_uri, RDF.type, PROV.Activity))\n        g.add((exec_uri, PROV.used, epoch_uri))\n\n        # Add code as a property\n        code_literal = Literal(exec_data[\"code\"])\n        g.add((exec_uri, RDFS.label, code_literal))\n\n        # Add imports\n        for imp in exec_data.get(\"imports\", []):\n            import_uri = create_uri(\"http://example.org/import/\", imp)\n            g.add((import_uri, RDF.type, PROV.Entity))\n            g.add((import_uri, PROV.wasGeneratedBy, exec_uri))\n\n        # Add dependencies\n        for dep in exec_data.get(\"dependencies\", []):\n            dep_uri = create_uri(\"http://example.org/dependency/\", dep)\n            g.add((dep_uri, RDF.type, PROV.Entity))\n            g.add((dep_uri, PROV.wasGeneratedBy, exec_uri))\n\n# Serialize the graph to RDF format (Turtle in this case) and save to a file\nrdf_data = g.serialize(format=\"turtle\")\nwith open(\"output.ttl\", \"w\") as f:\n    f.write(rdf_data)\n",
       "data_values": [
        "http://www.w3.org/ns/prov#",
        "http://example.org/",
        "./prov-exports/simple_calcs.json",
        "http://example.org/epoch/",
        "http://example.org/module/",
        "http://example.org/execution/",
        "http://example.org/import/",
        "http://example.org/dependency/",
        "output.ttl"
       ],
       "data_vars": [
        "PROV",
        "EX",
        "g",
        "rdf_data",
        "f"
       ],
       "definitions": [
        {
         "col_offset": 0,
         "dependencies": [
          "Namespace"
         ],
         "end_col_offset": 46,
         "end_lineno": 7,
         "lineno": 7,
         "name": "PROV",
         "type": "assign"
        },
        {
         "col_offset": 0,
         "dependencies": [
          "Namespace"
         ],
         "end_col_offset": 37,
         "end_lineno": 8,
         "lineno": 8,
         "name": "EX",
         "type": "assign"
        },
        {
         "col_offset": 0,
         "dependencies": [
          "Graph"
         ],
         "end_col_offset": 11,
         "end_lineno": 11,
         "lineno": 11,
         "name": "g",
         "type": "assign"
        },
        {
         "col_offset": 0,
         "dependencies": [
          "PROV"
         ],
         "end_col_offset": 20,
         "end_lineno": 12,
         "lineno": 12,
         "name": "g",
         "type": "call"
        },
        {
         "col_offset": 0,
         "dependencies": [
          "EX"
         ],
         "end_col_offset": 16,
         "end_lineno": 13,
         "lineno": 13,
         "name": "g",
         "type": "call"
        },
        {
         "col_offset": 4,
         "dependencies": [
          "json",
          "f"
         ],
         "end_col_offset": 23,
         "end_lineno": 17,
         "lineno": 17,
         "name": "data",
         "type": "assign"
        },
        {
         "col_offset": 0,
         "dependencies": [
          "suffix",
          "URIRef",
          "base"
         ],
         "end_col_offset": 32,
         "end_lineno": 22,
         "lineno": 20,
         "name": "create_uri",
         "type": "function"
        },
        {
         "col_offset": 0,
         "dependencies": [],
         "end_col_offset": 11,
         "end_lineno": 23,
         "lineno": 23,
         "name": "counter",
         "type": "assign"
        },
        {
         "body": [
          {
           "col_offset": 4,
           "dependencies": [
            "epoch"
           ],
           "end_col_offset": 49,
           "end_lineno": 27,
           "lineno": 27,
           "name": "epoch_start_time",
           "type": "assign"
          },
          {
           "col_offset": 4,
           "dependencies": [
            "create_uri",
            "epoch_start_time"
           ],
           "end_col_offset": 73,
           "end_lineno": 28,
           "lineno": 28,
           "name": "epoch_uri",
           "type": "assign"
          },
          {
           "col_offset": 4,
           "dependencies": [
            "epoch_uri",
            "RDF",
            "PROV"
           ],
           "end_col_offset": 45,
           "end_lineno": 29,
           "lineno": 29,
           "name": "g",
           "type": "call"
          },
          {
           "col_offset": 4,
           "dependencies": [
            "epoch_uri",
            "PROV",
            "Literal",
            "epoch_start_time"
           ],
           "end_col_offset": 69,
           "end_lineno": 32,
           "lineno": 32,
           "name": "g",
           "type": "call"
          },
          {
           "body": [
            {
             "col_offset": 8,
             "dependencies": [
              "epoch_uri",
              "PROV",
              "Literal",
              "epoch"
             ],
             "end_col_offset": 68,
             "end_lineno": 34,
             "lineno": 34,
             "name": "g",
             "type": "call"
            }
           ],
           "col_offset": 4,
           "dependencies": [
            "epoch"
           ],
           "end_col_offset": 68,
           "end_lineno": 34,
           "lineno": 33,
           "orelse": [],
           "type": "condition"
          },
          {
           "col_offset": 4,
           "dependencies": [
            "epoch_uri",
            "PROV",
            "Literal",
            "epoch"
           ],
           "end_col_offset": 61,
           "end_lineno": 36,
           "lineno": 36,
           "name": "g",
           "type": "call"
          },
          {
           "col_offset": 4,
           "dependencies": [
            "epoch_uri",
            "PROV",
            "Literal",
            "epoch"
           ],
           "end_col_offset": 76,
           "end_lineno": 37,
           "lineno": 37,
           "name": "g",
           "type": "call"
          },
          {
           "col_offset": 4,
           "dependencies": [
            "epoch_uri",
            "PROV",
            "Literal",
            "epoch"
           ],
           "end_col_offset": 92,
           "end_lineno": 38,
           "lineno": 38,
           "name": "g",
           "type": "call"
          },
          {
           "col_offset": 4,
           "dependencies": [
            "epoch_uri",
            "PROV",
            "Literal",
            "epoch"
           ],
           "end_col_offset": 59,
           "end_lineno": 41,
           "lineno": 41,
           "name": "g",
           "type": "call"
          },
          {
           "col_offset": 4,
           "dependencies": [
            "epoch_uri",
            "PROV",
            "Literal",
            "epoch"
           ],
           "end_col_offset": 72,
           "end_lineno": 42,
           "lineno": 42,
           "name": "g",
           "type": "call"
          },
          {
           "col_offset": 4,
           "dependencies": [
            "epoch_uri",
            "PROV",
            "Literal",
            "epoch"
           ],
           "end_col_offset": 88,
           "end_lineno": 43,
           "lineno": 43,
           "name": "g",
           "type": "call"
          },
          {
           "body": [
            {
             "col_offset": 8,
             "dependencies": [
              "create_uri",
              "module"
             ],
             "end_col_offset": 69,
             "end_lineno": 48,
             "lineno": 48,
             "name": "module_uri",
             "type": "assign"
            },
            {
             "col_offset": 8,
             "dependencies": [
              "module_uri",
              "RDF",
              "PROV"
             ],
             "end_col_offset": 50,
             "end_lineno": 49,
             "lineno": 49,
             "name": "g",
             "type": "call"
            },
            {
             "col_offset": 8,
             "dependencies": [
              "module_uri",
              "PROV",
              "epoch_uri"
             ],
             "end_col_offset": 59,
             "end_lineno": 50,
             "lineno": 50,
             "name": "g",
             "type": "call"
            },
            {
             "body": [
              {
               "col_offset": 12,
               "dependencies": [
                "module_uri",
                "PROV",
                "Literal",
                "details"
               ],
               "end_col_offset": 83,
               "end_lineno": 52,
               "lineno": 52,
               "name": "g",
               "type": "call"
              }
             ],
             "col_offset": 8,
             "dependencies": [
              "details"
             ],
             "end_col_offset": 83,
             "end_lineno": 52,
             "lineno": 51,
             "orelse": [],
             "type": "condition"
            }
           ],
           "col_offset": 4,
           "dependencies": [
            "epoch"
           ],
           "end_col_offset": 83,
           "end_lineno": 52,
           "lineno": 47,
           "orelse": [],
           "type": "loop"
          },
          {
           "body": [
            {
             "col_offset": 8,
             "dependencies": [
              "create_uri",
              "str",
              "exec_data"
             ],
             "end_col_offset": 97,
             "end_lineno": 56,
             "lineno": 56,
             "name": "exec_uri",
             "type": "assign"
            },
            {
             "col_offset": 8,
             "dependencies": [
              "exec_uri",
              "RDF",
              "PROV"
             ],
             "end_col_offset": 50,
             "end_lineno": 57,
             "lineno": 57,
             "name": "g",
             "type": "call"
            },
            {
             "col_offset": 8,
             "dependencies": [
              "exec_uri",
              "PROV",
              "epoch_uri"
             ],
             "end_col_offset": 47,
             "end_lineno": 58,
             "lineno": 58,
             "name": "g",
             "type": "call"
            },
            {
             "col_offset": 8,
             "dependencies": [
              "Literal",
              "exec_data"
             ],
             "end_col_offset": 49,
             "end_lineno": 61,
             "lineno": 61,
             "name": "code_literal",
             "type": "assign"
            },
            {
             "col_offset": 8,
             "dependencies": [
              "exec_uri",
              "RDFS",
              "code_literal"
             ],
             "end_col_offset": 51,
             "end_lineno": 62,
             "lineno": 62,
             "name": "g",
             "type": "call"
            },
            {
             "body": [
              {
               "col_offset": 12,
               "dependencies": [
                "create_uri",
                "imp"
               ],
               "end_col_offset": 70,
               "end_lineno": 66,
               "lineno": 66,
               "name": "import_uri",
               "type": "assign"
              },
              {
               "col_offset": 12,
               "dependencies": [
                "import_uri",
                "RDF",
                "PROV"
               ],
               "end_col_offset": 54,
               "end_lineno": 67,
               "lineno": 67,
               "name": "g",
               "type": "call"
              },
              {
               "col_offset": 12,
               "dependencies": [
                "import_uri",
                "PROV",
                "exec_uri"
               ],
               "end_col_offset": 62,
               "end_lineno": 68,
               "lineno": 68,
               "name": "g",
               "type": "call"
              }
             ],
             "col_offset": 8,
             "dependencies": [
              "exec_data"
             ],
             "end_col_offset": 62,
             "end_lineno": 68,
             "lineno": 65,
             "orelse": [],
             "type": "loop"
            },
            {
             "body": [
              {
               "col_offset": 12,
               "dependencies": [
                "create_uri",
                "dep"
               ],
               "end_col_offset": 71,
               "end_lineno": 72,
               "lineno": 72,
               "name": "dep_uri",
               "type": "assign"
              },
              {
               "col_offset": 12,
               "dependencies": [
                "dep_uri",
                "RDF",
                "PROV"
               ],
               "end_col_offset": 51,
               "end_lineno": 73,
               "lineno": 73,
               "name": "g",
               "type": "call"
              },
              {
               "col_offset": 12,
               "dependencies": [
                "dep_uri",
                "PROV",
                "exec_uri"
               ],
               "end_col_offset": 59,
               "end_lineno": 74,
               "lineno": 74,
               "name": "g",
               "type": "call"
              }
             ],
             "col_offset": 8,
             "dependencies": [
              "exec_data"
             ],
             "end_col_offset": 59,
             "end_lineno": 74,
             "lineno": 71,
             "orelse": [],
             "type": "loop"
            }
           ],
           "col_offset": 4,
           "dependencies": [
            "epoch",
            "str"
           ],
           "end_col_offset": 59,
           "end_lineno": 74,
           "lineno": 55,
           "orelse": [],
           "type": "loop"
          }
         ],
         "col_offset": 0,
         "dependencies": [
          "data",
          "str"
         ],
         "end_col_offset": 59,
         "end_lineno": 74,
         "lineno": 25,
         "orelse": [],
         "type": "loop"
        },
        {
         "col_offset": 0,
         "dependencies": [
          "g"
         ],
         "end_col_offset": 39,
         "end_lineno": 77,
         "lineno": 77,
         "name": "rdf_data",
         "type": "assign"
        },
        {
         "col_offset": 4,
         "dependencies": [
          "rdf_data"
         ],
         "end_col_offset": 21,
         "end_lineno": 79,
         "lineno": 79,
         "name": "f",
         "type": "call"
        }
       ],
       "execution_count": 3,
       "imports": [
        "json",
        "re",
        "Graph",
        "URIRef",
        "Literal",
        "Namespace",
        "RDF",
        "RDFS"
       ],
       "local": [
        "PROV",
        "EX",
        "g",
        "data",
        "create_uri",
        "counter",
        "epoch",
        "epoch_start_time",
        "epoch_uri",
        "module",
        "details",
        "module_uri",
        "exec_data",
        "exec_uri",
        "code_literal",
        "imp",
        "import_uri",
        "dep",
        "dep_uri",
        "rdf_data"
       ],
       "local_info": {
        "EX": "",
        "PROV": "",
        "code_literal": "",
        "counter": "",
        "create_uri": "",
        "data": "",
        "dep": "",
        "dep_uri": "",
        "details": "",
        "epoch": "",
        "epoch_start_time": "",
        "epoch_uri": "",
        "exec_data": "",
        "exec_uri": "",
        "g": "",
        "imp": "",
        "import_uri": "",
        "module": "",
        "module_uri": "",
        "rdf_data": ""
       },
       "remote": [
        "f",
        "suffix",
        "base",
        "str"
       ],
       "time": "Tue, 23 Jul 2024 10:30:53 GMT",
       "type": "execution"
      },
      {
       "cell_id": "8d0d19f9-e1ab-47a4-883c-0102e9876e06",
       "cell_outputs": [],
       "cell_source": "import json\nimport re\nfrom rdflib import Graph, URIRef, Literal, Namespace\nfrom rdflib.namespace import RDF, RDFS\n\n# Define namespaces\nPROV = Namespace(\"http://www.w3.org/ns/prov#\")\nEX = Namespace(\"http://example.org/\")\n\n# Create a new RDF graph\ng = Graph()\ng.bind(\"prov\", PROV)\ng.bind(\"ex\", EX)\n\n# Load the JSON data\nwith open(\"./prov-exports/MLPovLabExport (5).json\", \"r\") as f:\n    data = json.load(f)\n\n# Helper function to create valid URIs\ndef create_uri(base, suffix):\n    suffix = re.sub(r'\\W+', '_', suffix)  # Replace non-alphanumeric characters with underscores\n    return URIRef(base + suffix)\ncounter = 0\n# Process each epoch in the JSON data\nfor epoch in data[\"epochs\"]:\n    # Create an entity for the epoch\n    epoch_start_time = epoch[\"kernel_start_time\"]\n    epoch_uri = create_uri(\"http://example.org/epoch/\", epoch_start_time)\n    g.add((epoch_uri, RDF.type, PROV.Entity))\n\n    # Add attributes to the epoch entity\n    g.add((epoch_uri, PROV.startedAtTime, Literal(epoch_start_time)))\n    if \"time\" in epoch:\n        g.add((epoch_uri, PROV.endedAtTime, Literal(epoch[\"time\"])))\n    # Adding language and version\n    g.add((epoch_uri, PROV.used, Literal(epoch[\"language\"])))\n    g.add((epoch_uri, PROV.used, Literal(f'Language: {epoch[\"language\"]}')))\n    g.add((epoch_uri, PROV.used, Literal(f'Language Version: {epoch[\"language_version\"]}')))\n\n    # Adding kernel and version\n    g.add((epoch_uri, PROV.used, Literal(epoch[\"kernel\"])))\n    g.add((epoch_uri, PROV.used, Literal(f'Kernel: {epoch[\"kernel\"]}')))\n    g.add((epoch_uri, PROV.used, Literal(f'Kernel Version: {epoch[\"kernel_version\"]}')))\n\n\n    # Add modules used\n    for module, details in epoch[\"modules\"].items():\n        module_uri = create_uri(\"http://example.org/module/\", module)\n        g.add((module_uri, RDF.type, PROV.Entity))\n        g.add((module_uri, PROV.wasGeneratedBy, epoch_uri))\n        if details[\"version\"]:\n            g.add((module_uri, PROV.hadPrimarySource, Literal(details[\"version\"])))\n\n    # Process each execution_data entry\n    for exec_data in epoch[\"execution_data\"]:\n        exec_uri = create_uri(\"http://example.org/execution/\", str(exec_data[\"execution_count\"]))\n        g.add((exec_uri, RDF.type, PROV.Activity))\n        g.add((exec_uri, PROV.used, epoch_uri))\n\n        # Add code as a property\n        code_literal = Literal(exec_data[\"code\"])\n        g.add((exec_uri, RDFS.label, code_literal))\n\n        # Add imports\n        for imp in exec_data.get(\"imports\", []):\n            import_uri = create_uri(\"http://example.org/import/\", imp)\n            g.add((import_uri, RDF.type, PROV.Entity))\n            g.add((import_uri, PROV.wasGeneratedBy, exec_uri))\n\n        # Add dependencies\n        for dep in exec_data.get(\"dependencies\", []):\n            dep_uri = create_uri(\"http://example.org/dependency/\", dep)\n            g.add((dep_uri, RDF.type, PROV.Entity))\n            g.add((dep_uri, PROV.wasGeneratedBy, exec_uri))\n\n# Serialize the graph to RDF format (Turtle in this case) and save to a file\nrdf_data = g.serialize(format=\"turtle\")\nwith open(\"output.ttl\", \"w\") as f:\n    f.write(rdf_data)\n",
       "data_values": [
        "http://www.w3.org/ns/prov#",
        "http://example.org/",
        "./prov-exports/MLPovLabExport (5).json",
        "http://example.org/epoch/",
        "http://example.org/module/",
        "http://example.org/execution/",
        "http://example.org/import/",
        "http://example.org/dependency/"
       ],
       "data_vars": [
        "PROV",
        "EX",
        "g",
        "rdf_data",
        "f"
       ],
       "definitions": [
        {
         "col_offset": 0,
         "dependencies": [
          "Namespace"
         ],
         "end_col_offset": 46,
         "end_lineno": 7,
         "lineno": 7,
         "name": "PROV",
         "type": "assign"
        },
        {
         "col_offset": 0,
         "dependencies": [
          "Namespace"
         ],
         "end_col_offset": 37,
         "end_lineno": 8,
         "lineno": 8,
         "name": "EX",
         "type": "assign"
        },
        {
         "col_offset": 0,
         "dependencies": [
          "Graph"
         ],
         "end_col_offset": 11,
         "end_lineno": 11,
         "lineno": 11,
         "name": "g",
         "type": "assign"
        },
        {
         "col_offset": 0,
         "dependencies": [
          "PROV"
         ],
         "end_col_offset": 20,
         "end_lineno": 12,
         "lineno": 12,
         "name": "g",
         "type": "call"
        },
        {
         "col_offset": 0,
         "dependencies": [
          "EX"
         ],
         "end_col_offset": 16,
         "end_lineno": 13,
         "lineno": 13,
         "name": "g",
         "type": "call"
        },
        {
         "col_offset": 4,
         "dependencies": [
          "json",
          "f"
         ],
         "end_col_offset": 23,
         "end_lineno": 17,
         "lineno": 17,
         "name": "data",
         "type": "assign"
        },
        {
         "col_offset": 0,
         "dependencies": [
          "suffix",
          "URIRef",
          "base"
         ],
         "end_col_offset": 32,
         "end_lineno": 22,
         "lineno": 20,
         "name": "create_uri",
         "type": "function"
        },
        {
         "col_offset": 0,
         "dependencies": [],
         "end_col_offset": 11,
         "end_lineno": 23,
         "lineno": 23,
         "name": "counter",
         "type": "assign"
        },
        {
         "body": [
          {
           "col_offset": 4,
           "dependencies": [
            "epoch"
           ],
           "end_col_offset": 49,
           "end_lineno": 27,
           "lineno": 27,
           "name": "epoch_start_time",
           "type": "assign"
          },
          {
           "col_offset": 4,
           "dependencies": [
            "create_uri",
            "epoch_start_time"
           ],
           "end_col_offset": 73,
           "end_lineno": 28,
           "lineno": 28,
           "name": "epoch_uri",
           "type": "assign"
          },
          {
           "col_offset": 4,
           "dependencies": [
            "epoch_uri",
            "RDF",
            "PROV"
           ],
           "end_col_offset": 45,
           "end_lineno": 29,
           "lineno": 29,
           "name": "g",
           "type": "call"
          },
          {
           "col_offset": 4,
           "dependencies": [
            "epoch_uri",
            "PROV",
            "Literal",
            "epoch_start_time"
           ],
           "end_col_offset": 69,
           "end_lineno": 32,
           "lineno": 32,
           "name": "g",
           "type": "call"
          },
          {
           "body": [
            {
             "col_offset": 8,
             "dependencies": [
              "epoch_uri",
              "PROV",
              "Literal",
              "epoch"
             ],
             "end_col_offset": 68,
             "end_lineno": 34,
             "lineno": 34,
             "name": "g",
             "type": "call"
            }
           ],
           "col_offset": 4,
           "dependencies": [
            "epoch"
           ],
           "end_col_offset": 68,
           "end_lineno": 34,
           "lineno": 33,
           "orelse": [],
           "type": "condition"
          },
          {
           "col_offset": 4,
           "dependencies": [
            "epoch_uri",
            "PROV",
            "Literal",
            "epoch"
           ],
           "end_col_offset": 61,
           "end_lineno": 36,
           "lineno": 36,
           "name": "g",
           "type": "call"
          },
          {
           "col_offset": 4,
           "dependencies": [
            "epoch_uri",
            "PROV",
            "Literal",
            "epoch"
           ],
           "end_col_offset": 76,
           "end_lineno": 37,
           "lineno": 37,
           "name": "g",
           "type": "call"
          },
          {
           "col_offset": 4,
           "dependencies": [
            "epoch_uri",
            "PROV",
            "Literal",
            "epoch"
           ],
           "end_col_offset": 92,
           "end_lineno": 38,
           "lineno": 38,
           "name": "g",
           "type": "call"
          },
          {
           "col_offset": 4,
           "dependencies": [
            "epoch_uri",
            "PROV",
            "Literal",
            "epoch"
           ],
           "end_col_offset": 59,
           "end_lineno": 41,
           "lineno": 41,
           "name": "g",
           "type": "call"
          },
          {
           "col_offset": 4,
           "dependencies": [
            "epoch_uri",
            "PROV",
            "Literal",
            "epoch"
           ],
           "end_col_offset": 72,
           "end_lineno": 42,
           "lineno": 42,
           "name": "g",
           "type": "call"
          },
          {
           "col_offset": 4,
           "dependencies": [
            "epoch_uri",
            "PROV",
            "Literal",
            "epoch"
           ],
           "end_col_offset": 88,
           "end_lineno": 43,
           "lineno": 43,
           "name": "g",
           "type": "call"
          },
          {
           "body": [
            {
             "col_offset": 8,
             "dependencies": [
              "create_uri",
              "module"
             ],
             "end_col_offset": 69,
             "end_lineno": 48,
             "lineno": 48,
             "name": "module_uri",
             "type": "assign"
            },
            {
             "col_offset": 8,
             "dependencies": [
              "module_uri",
              "RDF",
              "PROV"
             ],
             "end_col_offset": 50,
             "end_lineno": 49,
             "lineno": 49,
             "name": "g",
             "type": "call"
            },
            {
             "col_offset": 8,
             "dependencies": [
              "module_uri",
              "PROV",
              "epoch_uri"
             ],
             "end_col_offset": 59,
             "end_lineno": 50,
             "lineno": 50,
             "name": "g",
             "type": "call"
            },
            {
             "body": [
              {
               "col_offset": 12,
               "dependencies": [
                "module_uri",
                "PROV",
                "Literal",
                "details"
               ],
               "end_col_offset": 83,
               "end_lineno": 52,
               "lineno": 52,
               "name": "g",
               "type": "call"
              }
             ],
             "col_offset": 8,
             "dependencies": [
              "details"
             ],
             "end_col_offset": 83,
             "end_lineno": 52,
             "lineno": 51,
             "orelse": [],
             "type": "condition"
            }
           ],
           "col_offset": 4,
           "dependencies": [
            "epoch"
           ],
           "end_col_offset": 83,
           "end_lineno": 52,
           "lineno": 47,
           "orelse": [],
           "type": "loop"
          },
          {
           "body": [
            {
             "col_offset": 8,
             "dependencies": [
              "create_uri",
              "str",
              "exec_data"
             ],
             "end_col_offset": 97,
             "end_lineno": 56,
             "lineno": 56,
             "name": "exec_uri",
             "type": "assign"
            },
            {
             "col_offset": 8,
             "dependencies": [
              "exec_uri",
              "RDF",
              "PROV"
             ],
             "end_col_offset": 50,
             "end_lineno": 57,
             "lineno": 57,
             "name": "g",
             "type": "call"
            },
            {
             "col_offset": 8,
             "dependencies": [
              "exec_uri",
              "PROV",
              "epoch_uri"
             ],
             "end_col_offset": 47,
             "end_lineno": 58,
             "lineno": 58,
             "name": "g",
             "type": "call"
            },
            {
             "col_offset": 8,
             "dependencies": [
              "Literal",
              "exec_data"
             ],
             "end_col_offset": 49,
             "end_lineno": 61,
             "lineno": 61,
             "name": "code_literal",
             "type": "assign"
            },
            {
             "col_offset": 8,
             "dependencies": [
              "exec_uri",
              "RDFS",
              "code_literal"
             ],
             "end_col_offset": 51,
             "end_lineno": 62,
             "lineno": 62,
             "name": "g",
             "type": "call"
            },
            {
             "body": [
              {
               "col_offset": 12,
               "dependencies": [
                "create_uri",
                "imp"
               ],
               "end_col_offset": 70,
               "end_lineno": 66,
               "lineno": 66,
               "name": "import_uri",
               "type": "assign"
              },
              {
               "col_offset": 12,
               "dependencies": [
                "import_uri",
                "RDF",
                "PROV"
               ],
               "end_col_offset": 54,
               "end_lineno": 67,
               "lineno": 67,
               "name": "g",
               "type": "call"
              },
              {
               "col_offset": 12,
               "dependencies": [
                "import_uri",
                "PROV",
                "exec_uri"
               ],
               "end_col_offset": 62,
               "end_lineno": 68,
               "lineno": 68,
               "name": "g",
               "type": "call"
              }
             ],
             "col_offset": 8,
             "dependencies": [
              "exec_data"
             ],
             "end_col_offset": 62,
             "end_lineno": 68,
             "lineno": 65,
             "orelse": [],
             "type": "loop"
            },
            {
             "body": [
              {
               "col_offset": 12,
               "dependencies": [
                "create_uri",
                "dep"
               ],
               "end_col_offset": 71,
               "end_lineno": 72,
               "lineno": 72,
               "name": "dep_uri",
               "type": "assign"
              },
              {
               "col_offset": 12,
               "dependencies": [
                "dep_uri",
                "RDF",
                "PROV"
               ],
               "end_col_offset": 51,
               "end_lineno": 73,
               "lineno": 73,
               "name": "g",
               "type": "call"
              },
              {
               "col_offset": 12,
               "dependencies": [
                "dep_uri",
                "PROV",
                "exec_uri"
               ],
               "end_col_offset": 59,
               "end_lineno": 74,
               "lineno": 74,
               "name": "g",
               "type": "call"
              }
             ],
             "col_offset": 8,
             "dependencies": [
              "exec_data"
             ],
             "end_col_offset": 59,
             "end_lineno": 74,
             "lineno": 71,
             "orelse": [],
             "type": "loop"
            }
           ],
           "col_offset": 4,
           "dependencies": [
            "epoch",
            "str"
           ],
           "end_col_offset": 59,
           "end_lineno": 74,
           "lineno": 55,
           "orelse": [],
           "type": "loop"
          }
         ],
         "col_offset": 0,
         "dependencies": [
          "data",
          "str"
         ],
         "end_col_offset": 59,
         "end_lineno": 74,
         "lineno": 25,
         "orelse": [],
         "type": "loop"
        },
        {
         "col_offset": 0,
         "dependencies": [
          "g"
         ],
         "end_col_offset": 39,
         "end_lineno": 77,
         "lineno": 77,
         "name": "rdf_data",
         "type": "assign"
        },
        {
         "col_offset": 4,
         "dependencies": [
          "rdf_data"
         ],
         "end_col_offset": 21,
         "end_lineno": 79,
         "lineno": 79,
         "name": "f",
         "type": "call"
        }
       ],
       "execution_count": 4,
       "imports": [
        "json",
        "re",
        "Graph",
        "URIRef",
        "Literal",
        "Namespace",
        "RDF",
        "RDFS"
       ],
       "local": [
        "PROV",
        "EX",
        "g",
        "data",
        "create_uri",
        "counter",
        "epoch",
        "epoch_start_time",
        "epoch_uri",
        "module",
        "details",
        "module_uri",
        "exec_data",
        "exec_uri",
        "code_literal",
        "imp",
        "import_uri",
        "dep",
        "dep_uri",
        "rdf_data"
       ],
       "local_info": {
        "EX": "",
        "PROV": "",
        "code_literal": "",
        "counter": "",
        "create_uri": "",
        "data": "",
        "dep": "",
        "dep_uri": "",
        "details": "",
        "epoch": "",
        "epoch_start_time": "",
        "epoch_uri": "",
        "exec_data": "",
        "exec_uri": "",
        "g": "",
        "imp": "",
        "import_uri": "",
        "module": "",
        "module_uri": "",
        "rdf_data": ""
       },
       "remote": [
        "f",
        "suffix",
        "base",
        "str"
       ],
       "time": "Tue, 23 Jul 2024 10:31:37 GMT",
       "type": "execution"
      },
      {
       "cell_id": "8d0d19f9-e1ab-47a4-883c-0102e9876e06",
       "cell_outputs": [
        {
         "ename": "AttributeError",
         "evalue": "term 'value' not in namespace 'http://www.w3.org/2000/01/rdf-schema#'",
         "output_type": "error",
         "traceback": [
          "\u001b[0;31m---------------------------------------------------------------------------\u001b[0m",
          "\u001b[0;31mAttributeError\u001b[0m                            Traceback (most recent call last)",
          "\u001b[0;32m/var/folders/c3/g4m0wsf90vxfl77fq2qw6gjm0000gn/T/ipykernel_19350/2047773638.py\u001b[0m in \u001b[0;36m<cell line: 0>\u001b[0;34m()\u001b[0m\n\u001b[1;32m     60\u001b[0m         \u001b[0;31m# Add code as a property\u001b[0m\u001b[0;34m\u001b[0m\u001b[0;34m\u001b[0m\u001b[0m\n\u001b[1;32m     61\u001b[0m         \u001b[0mcode_literal\u001b[0m \u001b[0;34m=\u001b[0m \u001b[0mLiteral\u001b[0m\u001b[0;34m(\u001b[0m\u001b[0mexec_data\u001b[0m\u001b[0;34m[\u001b[0m\u001b[0;34m\"code\"\u001b[0m\u001b[0;34m]\u001b[0m\u001b[0;34m)\u001b[0m\u001b[0;34m\u001b[0m\u001b[0;34m\u001b[0m\u001b[0m\n\u001b[0;32m---> 62\u001b[0;31m         \u001b[0mg\u001b[0m\u001b[0;34m.\u001b[0m\u001b[0madd\u001b[0m\u001b[0;34m(\u001b[0m\u001b[0;34m(\u001b[0m\u001b[0mexec_uri\u001b[0m\u001b[0;34m,\u001b[0m \u001b[0mRDFS\u001b[0m\u001b[0;34m.\u001b[0m\u001b[0mvalue\u001b[0m\u001b[0;34m,\u001b[0m \u001b[0mcode_literal\u001b[0m\u001b[0;34m)\u001b[0m\u001b[0;34m)\u001b[0m\u001b[0;34m\u001b[0m\u001b[0;34m\u001b[0m\u001b[0m\n\u001b[0m\u001b[1;32m     63\u001b[0m \u001b[0;34m\u001b[0m\u001b[0m\n\u001b[1;32m     64\u001b[0m         \u001b[0;31m# Add imports\u001b[0m\u001b[0;34m\u001b[0m\u001b[0;34m\u001b[0m\u001b[0m\n",
          "\u001b[0;32m/opt/homebrew/lib/python3.11/site-packages/rdflib/namespace/__init__.py\u001b[0m in \u001b[0;36m__getattr__\u001b[0;34m(cls, name)\u001b[0m\n\u001b[1;32m    263\u001b[0m \u001b[0;34m\u001b[0m\u001b[0m\n\u001b[1;32m    264\u001b[0m     \u001b[0;32mdef\u001b[0m \u001b[0m__getattr__\u001b[0m\u001b[0;34m(\u001b[0m\u001b[0mcls\u001b[0m\u001b[0;34m,\u001b[0m \u001b[0mname\u001b[0m\u001b[0;34m:\u001b[0m \u001b[0mstr\u001b[0m\u001b[0;34m)\u001b[0m\u001b[0;34m:\u001b[0m\u001b[0;34m\u001b[0m\u001b[0;34m\u001b[0m\u001b[0m\n\u001b[0;32m--> 265\u001b[0;31m         \u001b[0;32mreturn\u001b[0m \u001b[0mcls\u001b[0m\u001b[0;34m.\u001b[0m\u001b[0m__getitem__\u001b[0m\u001b[0;34m(\u001b[0m\u001b[0mname\u001b[0m\u001b[0;34m)\u001b[0m\u001b[0;34m\u001b[0m\u001b[0;34m\u001b[0m\u001b[0m\n\u001b[0m\u001b[1;32m    266\u001b[0m \u001b[0;34m\u001b[0m\u001b[0m\n\u001b[1;32m    267\u001b[0m     \u001b[0;32mdef\u001b[0m \u001b[0m__repr__\u001b[0m\u001b[0;34m(\u001b[0m\u001b[0mcls\u001b[0m\u001b[0;34m)\u001b[0m \u001b[0;34m->\u001b[0m \u001b[0mstr\u001b[0m\u001b[0;34m:\u001b[0m\u001b[0;34m\u001b[0m\u001b[0;34m\u001b[0m\u001b[0m\n",
          "\u001b[0;32m/opt/homebrew/lib/python3.11/site-packages/rdflib/namespace/__init__.py\u001b[0m in \u001b[0;36m__getitem__\u001b[0;34m(cls, name, default)\u001b[0m\n\u001b[1;32m    254\u001b[0m         \u001b[0;32mif\u001b[0m \u001b[0;34m(\u001b[0m\u001b[0mcls\u001b[0m\u001b[0;34m.\u001b[0m\u001b[0m_warn\u001b[0m \u001b[0;32mor\u001b[0m \u001b[0mcls\u001b[0m\u001b[0;34m.\u001b[0m\u001b[0m_fail\u001b[0m\u001b[0;34m)\u001b[0m \u001b[0;32mand\u001b[0m \u001b[0mname\u001b[0m \u001b[0;32mnot\u001b[0m \u001b[0;32min\u001b[0m \u001b[0mcls\u001b[0m\u001b[0;34m:\u001b[0m\u001b[0;34m\u001b[0m\u001b[0;34m\u001b[0m\u001b[0m\n\u001b[1;32m    255\u001b[0m             \u001b[0;32mif\u001b[0m \u001b[0mcls\u001b[0m\u001b[0;34m.\u001b[0m\u001b[0m_fail\u001b[0m\u001b[0;34m:\u001b[0m\u001b[0;34m\u001b[0m\u001b[0;34m\u001b[0m\u001b[0m\n\u001b[0;32m--> 256\u001b[0;31m                 \u001b[0;32mraise\u001b[0m \u001b[0mAttributeError\u001b[0m\u001b[0;34m(\u001b[0m\u001b[0;34mf\"term '{name}' not in namespace '{cls._NS}'\"\u001b[0m\u001b[0;34m)\u001b[0m\u001b[0;34m\u001b[0m\u001b[0;34m\u001b[0m\u001b[0m\n\u001b[0m\u001b[1;32m    257\u001b[0m             \u001b[0;32melse\u001b[0m\u001b[0;34m:\u001b[0m\u001b[0;34m\u001b[0m\u001b[0;34m\u001b[0m\u001b[0m\n\u001b[1;32m    258\u001b[0m                 warnings.warn(\n",
          "\u001b[0;31mAttributeError\u001b[0m: term 'value' not in namespace 'http://www.w3.org/2000/01/rdf-schema#'"
         ]
        }
       ],
       "cell_source": "import json\nimport re\nfrom rdflib import Graph, URIRef, Literal, Namespace\nfrom rdflib.namespace import RDF, RDFS\n\n# Define namespaces\nPROV = Namespace(\"http://www.w3.org/ns/prov#\")\nEX = Namespace(\"http://example.org/\")\n\n# Create a new RDF graph\ng = Graph()\ng.bind(\"prov\", PROV)\ng.bind(\"ex\", EX)\n\n# Load the JSON data\nwith open(\"./prov-exports/MLPovLabExport (5).json\", \"r\") as f:\n    data = json.load(f)\n\n# Helper function to create valid URIs\ndef create_uri(base, suffix):\n    suffix = re.sub(r'\\W+', '_', suffix)  # Replace non-alphanumeric characters with underscores\n    return URIRef(base + suffix)\ncounter = 0\n# Process each epoch in the JSON data\nfor epoch in data[\"epochs\"]:\n    # Create an entity for the epoch\n    epoch_start_time = epoch[\"kernel_start_time\"]\n    epoch_uri = create_uri(\"http://example.org/epoch/\", epoch_start_time)\n    g.add((epoch_uri, RDF.type, PROV.Entity))\n\n    # Add attributes to the epoch entity\n    g.add((epoch_uri, PROV.startedAtTime, Literal(epoch_start_time)))\n    if \"time\" in epoch:\n        g.add((epoch_uri, PROV.endedAtTime, Literal(epoch[\"time\"])))\n    # Adding language and version\n    g.add((epoch_uri, PROV.used, Literal(epoch[\"language\"])))\n    g.add((epoch_uri, PROV.used, Literal(f'Language: {epoch[\"language\"]}')))\n    g.add((epoch_uri, PROV.used, Literal(f'Language Version: {epoch[\"language_version\"]}')))\n\n    # Adding kernel and version\n    g.add((epoch_uri, PROV.used, Literal(epoch[\"kernel\"])))\n    g.add((epoch_uri, PROV.used, Literal(f'Kernel: {epoch[\"kernel\"]}')))\n    g.add((epoch_uri, PROV.used, Literal(f'Kernel Version: {epoch[\"kernel_version\"]}')))\n\n\n    # Add modules used\n    for module, details in epoch[\"modules\"].items():\n        module_uri = create_uri(\"http://example.org/module/\", module)\n        g.add((module_uri, RDF.type, PROV.Entity))\n        g.add((module_uri, PROV.wasGeneratedBy, epoch_uri))\n        if details[\"version\"]:\n            g.add((module_uri, PROV.hadPrimarySource, Literal(details[\"version\"])))\n\n    # Process each execution_data entry\n    for exec_data in epoch[\"execution_data\"]:\n        exec_uri = create_uri(\"http://example.org/execution/\", str(exec_data[\"execution_count\"]))\n        g.add((exec_uri, RDF.type, PROV.Activity))\n        g.add((exec_uri, PROV.used, epoch_uri))\n\n        # Add code as a property\n        code_literal = Literal(exec_data[\"code\"])\n        g.add((exec_uri, RDFS.value, code_literal))\n\n        # Add imports\n        for imp in exec_data.get(\"imports\", []):\n            import_uri = create_uri(\"http://example.org/import/\", imp)\n            g.add((import_uri, RDF.type, PROV.Entity))\n            g.add((import_uri, PROV.wasGeneratedBy, exec_uri))\n\n        # Add dependencies\n        for dep in exec_data.get(\"dependencies\", []):\n            dep_uri = create_uri(\"http://example.org/dependency/\", dep)\n            g.add((dep_uri, RDF.type, PROV.Entity))\n            g.add((dep_uri, PROV.wasGeneratedBy, exec_uri))\n\n# Serialize the graph to RDF format (Turtle in this case) and save to a file\nrdf_data = g.serialize(format=\"turtle\")\nwith open(\"output.ttl\", \"w\") as f:\n    f.write(rdf_data)\n",
       "data_values": [
        "http://www.w3.org/ns/prov#",
        "http://example.org/",
        "./prov-exports/MLPovLabExport (5).json",
        "http://example.org/epoch/",
        "http://example.org/module/",
        "http://example.org/execution/",
        "http://example.org/import/",
        "http://example.org/dependency/"
       ],
       "data_vars": [
        "PROV",
        "EX",
        "g",
        "rdf_data",
        "f"
       ],
       "definitions": [
        {
         "col_offset": 0,
         "dependencies": [
          "Namespace"
         ],
         "end_col_offset": 46,
         "end_lineno": 7,
         "lineno": 7,
         "name": "PROV",
         "type": "assign"
        },
        {
         "col_offset": 0,
         "dependencies": [
          "Namespace"
         ],
         "end_col_offset": 37,
         "end_lineno": 8,
         "lineno": 8,
         "name": "EX",
         "type": "assign"
        },
        {
         "col_offset": 0,
         "dependencies": [
          "Graph"
         ],
         "end_col_offset": 11,
         "end_lineno": 11,
         "lineno": 11,
         "name": "g",
         "type": "assign"
        },
        {
         "col_offset": 0,
         "dependencies": [
          "PROV"
         ],
         "end_col_offset": 20,
         "end_lineno": 12,
         "lineno": 12,
         "name": "g",
         "type": "call"
        },
        {
         "col_offset": 0,
         "dependencies": [
          "EX"
         ],
         "end_col_offset": 16,
         "end_lineno": 13,
         "lineno": 13,
         "name": "g",
         "type": "call"
        },
        {
         "col_offset": 4,
         "dependencies": [
          "json",
          "f"
         ],
         "end_col_offset": 23,
         "end_lineno": 17,
         "lineno": 17,
         "name": "data",
         "type": "assign"
        },
        {
         "col_offset": 0,
         "dependencies": [
          "suffix",
          "URIRef",
          "base"
         ],
         "end_col_offset": 32,
         "end_lineno": 22,
         "lineno": 20,
         "name": "create_uri",
         "type": "function"
        },
        {
         "col_offset": 0,
         "dependencies": [],
         "end_col_offset": 11,
         "end_lineno": 23,
         "lineno": 23,
         "name": "counter",
         "type": "assign"
        },
        {
         "body": [
          {
           "col_offset": 4,
           "dependencies": [
            "epoch"
           ],
           "end_col_offset": 49,
           "end_lineno": 27,
           "lineno": 27,
           "name": "epoch_start_time",
           "type": "assign"
          },
          {
           "col_offset": 4,
           "dependencies": [
            "create_uri",
            "epoch_start_time"
           ],
           "end_col_offset": 73,
           "end_lineno": 28,
           "lineno": 28,
           "name": "epoch_uri",
           "type": "assign"
          },
          {
           "col_offset": 4,
           "dependencies": [
            "epoch_uri",
            "RDF",
            "PROV"
           ],
           "end_col_offset": 45,
           "end_lineno": 29,
           "lineno": 29,
           "name": "g",
           "type": "call"
          },
          {
           "col_offset": 4,
           "dependencies": [
            "epoch_uri",
            "PROV",
            "Literal",
            "epoch_start_time"
           ],
           "end_col_offset": 69,
           "end_lineno": 32,
           "lineno": 32,
           "name": "g",
           "type": "call"
          },
          {
           "body": [
            {
             "col_offset": 8,
             "dependencies": [
              "epoch_uri",
              "PROV",
              "Literal",
              "epoch"
             ],
             "end_col_offset": 68,
             "end_lineno": 34,
             "lineno": 34,
             "name": "g",
             "type": "call"
            }
           ],
           "col_offset": 4,
           "dependencies": [
            "epoch"
           ],
           "end_col_offset": 68,
           "end_lineno": 34,
           "lineno": 33,
           "orelse": [],
           "type": "condition"
          },
          {
           "col_offset": 4,
           "dependencies": [
            "epoch_uri",
            "PROV",
            "Literal",
            "epoch"
           ],
           "end_col_offset": 61,
           "end_lineno": 36,
           "lineno": 36,
           "name": "g",
           "type": "call"
          },
          {
           "col_offset": 4,
           "dependencies": [
            "epoch_uri",
            "PROV",
            "Literal",
            "epoch"
           ],
           "end_col_offset": 76,
           "end_lineno": 37,
           "lineno": 37,
           "name": "g",
           "type": "call"
          },
          {
           "col_offset": 4,
           "dependencies": [
            "epoch_uri",
            "PROV",
            "Literal",
            "epoch"
           ],
           "end_col_offset": 92,
           "end_lineno": 38,
           "lineno": 38,
           "name": "g",
           "type": "call"
          },
          {
           "col_offset": 4,
           "dependencies": [
            "epoch_uri",
            "PROV",
            "Literal",
            "epoch"
           ],
           "end_col_offset": 59,
           "end_lineno": 41,
           "lineno": 41,
           "name": "g",
           "type": "call"
          },
          {
           "col_offset": 4,
           "dependencies": [
            "epoch_uri",
            "PROV",
            "Literal",
            "epoch"
           ],
           "end_col_offset": 72,
           "end_lineno": 42,
           "lineno": 42,
           "name": "g",
           "type": "call"
          },
          {
           "col_offset": 4,
           "dependencies": [
            "epoch_uri",
            "PROV",
            "Literal",
            "epoch"
           ],
           "end_col_offset": 88,
           "end_lineno": 43,
           "lineno": 43,
           "name": "g",
           "type": "call"
          },
          {
           "body": [
            {
             "col_offset": 8,
             "dependencies": [
              "create_uri",
              "module"
             ],
             "end_col_offset": 69,
             "end_lineno": 48,
             "lineno": 48,
             "name": "module_uri",
             "type": "assign"
            },
            {
             "col_offset": 8,
             "dependencies": [
              "module_uri",
              "RDF",
              "PROV"
             ],
             "end_col_offset": 50,
             "end_lineno": 49,
             "lineno": 49,
             "name": "g",
             "type": "call"
            },
            {
             "col_offset": 8,
             "dependencies": [
              "module_uri",
              "PROV",
              "epoch_uri"
             ],
             "end_col_offset": 59,
             "end_lineno": 50,
             "lineno": 50,
             "name": "g",
             "type": "call"
            },
            {
             "body": [
              {
               "col_offset": 12,
               "dependencies": [
                "module_uri",
                "PROV",
                "Literal",
                "details"
               ],
               "end_col_offset": 83,
               "end_lineno": 52,
               "lineno": 52,
               "name": "g",
               "type": "call"
              }
             ],
             "col_offset": 8,
             "dependencies": [
              "details"
             ],
             "end_col_offset": 83,
             "end_lineno": 52,
             "lineno": 51,
             "orelse": [],
             "type": "condition"
            }
           ],
           "col_offset": 4,
           "dependencies": [
            "epoch"
           ],
           "end_col_offset": 83,
           "end_lineno": 52,
           "lineno": 47,
           "orelse": [],
           "type": "loop"
          },
          {
           "body": [
            {
             "col_offset": 8,
             "dependencies": [
              "create_uri",
              "str",
              "exec_data"
             ],
             "end_col_offset": 97,
             "end_lineno": 56,
             "lineno": 56,
             "name": "exec_uri",
             "type": "assign"
            },
            {
             "col_offset": 8,
             "dependencies": [
              "exec_uri",
              "RDF",
              "PROV"
             ],
             "end_col_offset": 50,
             "end_lineno": 57,
             "lineno": 57,
             "name": "g",
             "type": "call"
            },
            {
             "col_offset": 8,
             "dependencies": [
              "exec_uri",
              "PROV",
              "epoch_uri"
             ],
             "end_col_offset": 47,
             "end_lineno": 58,
             "lineno": 58,
             "name": "g",
             "type": "call"
            },
            {
             "col_offset": 8,
             "dependencies": [
              "Literal",
              "exec_data"
             ],
             "end_col_offset": 49,
             "end_lineno": 61,
             "lineno": 61,
             "name": "code_literal",
             "type": "assign"
            },
            {
             "col_offset": 8,
             "dependencies": [
              "exec_uri",
              "RDFS",
              "code_literal"
             ],
             "end_col_offset": 51,
             "end_lineno": 62,
             "lineno": 62,
             "name": "g",
             "type": "call"
            },
            {
             "body": [
              {
               "col_offset": 12,
               "dependencies": [
                "create_uri",
                "imp"
               ],
               "end_col_offset": 70,
               "end_lineno": 66,
               "lineno": 66,
               "name": "import_uri",
               "type": "assign"
              },
              {
               "col_offset": 12,
               "dependencies": [
                "import_uri",
                "RDF",
                "PROV"
               ],
               "end_col_offset": 54,
               "end_lineno": 67,
               "lineno": 67,
               "name": "g",
               "type": "call"
              },
              {
               "col_offset": 12,
               "dependencies": [
                "import_uri",
                "PROV",
                "exec_uri"
               ],
               "end_col_offset": 62,
               "end_lineno": 68,
               "lineno": 68,
               "name": "g",
               "type": "call"
              }
             ],
             "col_offset": 8,
             "dependencies": [
              "exec_data"
             ],
             "end_col_offset": 62,
             "end_lineno": 68,
             "lineno": 65,
             "orelse": [],
             "type": "loop"
            },
            {
             "body": [
              {
               "col_offset": 12,
               "dependencies": [
                "create_uri",
                "dep"
               ],
               "end_col_offset": 71,
               "end_lineno": 72,
               "lineno": 72,
               "name": "dep_uri",
               "type": "assign"
              },
              {
               "col_offset": 12,
               "dependencies": [
                "dep_uri",
                "RDF",
                "PROV"
               ],
               "end_col_offset": 51,
               "end_lineno": 73,
               "lineno": 73,
               "name": "g",
               "type": "call"
              },
              {
               "col_offset": 12,
               "dependencies": [
                "dep_uri",
                "PROV",
                "exec_uri"
               ],
               "end_col_offset": 59,
               "end_lineno": 74,
               "lineno": 74,
               "name": "g",
               "type": "call"
              }
             ],
             "col_offset": 8,
             "dependencies": [
              "exec_data"
             ],
             "end_col_offset": 59,
             "end_lineno": 74,
             "lineno": 71,
             "orelse": [],
             "type": "loop"
            }
           ],
           "col_offset": 4,
           "dependencies": [
            "epoch",
            "str"
           ],
           "end_col_offset": 59,
           "end_lineno": 74,
           "lineno": 55,
           "orelse": [],
           "type": "loop"
          }
         ],
         "col_offset": 0,
         "dependencies": [
          "data",
          "str"
         ],
         "end_col_offset": 59,
         "end_lineno": 74,
         "lineno": 25,
         "orelse": [],
         "type": "loop"
        },
        {
         "col_offset": 0,
         "dependencies": [
          "g"
         ],
         "end_col_offset": 39,
         "end_lineno": 77,
         "lineno": 77,
         "name": "rdf_data",
         "type": "assign"
        },
        {
         "col_offset": 4,
         "dependencies": [
          "rdf_data"
         ],
         "end_col_offset": 21,
         "end_lineno": 79,
         "lineno": 79,
         "name": "f",
         "type": "call"
        }
       ],
       "execution_count": 5,
       "imports": [
        "json",
        "re",
        "Graph",
        "URIRef",
        "Literal",
        "Namespace",
        "RDF",
        "RDFS"
       ],
       "local": [
        "PROV",
        "EX",
        "g",
        "data",
        "create_uri",
        "counter",
        "epoch",
        "epoch_start_time",
        "epoch_uri",
        "module",
        "details",
        "module_uri",
        "exec_data",
        "exec_uri",
        "code_literal",
        "imp",
        "import_uri",
        "dep",
        "dep_uri",
        "rdf_data"
       ],
       "local_info": {
        "EX": "",
        "PROV": "",
        "code_literal": "",
        "counter": "",
        "create_uri": "",
        "data": "",
        "dep": "",
        "dep_uri": "",
        "details": "",
        "epoch": "",
        "epoch_start_time": "",
        "epoch_uri": "",
        "exec_data": "",
        "exec_uri": "",
        "g": "",
        "imp": "",
        "import_uri": "",
        "module": "",
        "module_uri": "",
        "rdf_data": ""
       },
       "remote": [
        "f",
        "suffix",
        "base",
        "str"
       ],
       "time": "Tue, 23 Jul 2024 10:48:31 GMT",
       "type": "error"
      },
      {
       "cell_id": "8d0d19f9-e1ab-47a4-883c-0102e9876e06",
       "cell_outputs": [],
       "cell_source": "import json\nimport re\nfrom rdflib import Graph, URIRef, Literal, Namespace\nfrom rdflib.namespace import RDF, RDFS\n\n# Define namespaces\nPROV = Namespace(\"http://www.w3.org/ns/prov#\")\nEX = Namespace(\"http://example.org/\")\n\n# Create a new RDF graph\ng = Graph()\ng.bind(\"prov\", PROV)\ng.bind(\"ex\", EX)\n\n# Load the JSON data\nwith open(\"./prov-exports/MLPovLabExport (5).json\", \"r\") as f:\n    data = json.load(f)\n\n# Helper function to create valid URIs\ndef create_uri(base, suffix):\n    suffix = re.sub(r'\\W+', '_', suffix)  # Replace non-alphanumeric characters with underscores\n    return URIRef(base + suffix)\ncounter = 0\n# Process each epoch in the JSON data\nfor epoch in data[\"epochs\"]:\n    # Create an entity for the epoch\n    epoch_start_time = epoch[\"kernel_start_time\"]\n    epoch_uri = create_uri(\"http://example.org/epoch/\", epoch_start_time)\n    g.add((epoch_uri, RDF.type, PROV.Entity))\n\n    # Add attributes to the epoch entity\n    g.add((epoch_uri, PROV.startedAtTime, Literal(epoch_start_time)))\n    if \"time\" in epoch:\n        g.add((epoch_uri, PROV.endedAtTime, Literal(epoch[\"time\"])))\n    # Adding language and version\n    g.add((epoch_uri, PROV.used, Literal(epoch[\"language\"])))\n    g.add((epoch_uri, PROV.used, Literal(f'Language: {epoch[\"language\"]}')))\n    g.add((epoch_uri, PROV.used, Literal(f'Language Version: {epoch[\"language_version\"]}')))\n\n    # Adding kernel and version\n    g.add((epoch_uri, PROV.used, Literal(epoch[\"kernel\"])))\n    g.add((epoch_uri, PROV.used, Literal(f'Kernel: {epoch[\"kernel\"]}')))\n    g.add((epoch_uri, PROV.used, Literal(f'Kernel Version: {epoch[\"kernel_version\"]}')))\n\n\n    # Add modules used\n    for module, details in epoch[\"modules\"].items():\n        module_uri = create_uri(\"http://example.org/module/\", module)\n        g.add((module_uri, RDF.type, PROV.Entity))\n        g.add((module_uri, PROV.wasGeneratedBy, epoch_uri))\n        if details[\"version\"]:\n            g.add((module_uri, PROV.hadPrimarySource, Literal(details[\"version\"])))\n\n    # Process each execution_data entry\n    for exec_data in epoch[\"execution_data\"]:\n        exec_uri = create_uri(\"http://example.org/execution/\", str(exec_data[\"execution_count\"]))\n        g.add((exec_uri, RDF.type, PROV.Activity))\n        g.add((exec_uri, PROV.used, epoch_uri))\n\n        # Add code as a property\n        code_literal = Literal(exec_data[\"code\"])\n        g.add((exec_uri, PROV.value, code_literal))\n\n        # Add imports\n        for imp in exec_data.get(\"imports\", []):\n            import_uri = create_uri(\"http://example.org/import/\", imp)\n            g.add((import_uri, RDF.type, PROV.Entity))\n            g.add((import_uri, PROV.wasGeneratedBy, exec_uri))\n\n        # Add dependencies\n        for dep in exec_data.get(\"dependencies\", []):\n            dep_uri = create_uri(\"http://example.org/dependency/\", dep)\n            g.add((dep_uri, RDF.type, PROV.Entity))\n            g.add((dep_uri, PROV.wasGeneratedBy, exec_uri))\n\n# Serialize the graph to RDF format (Turtle in this case) and save to a file\nrdf_data = g.serialize(format=\"turtle\")\nwith open(\"output.ttl\", \"w\") as f:\n    f.write(rdf_data)\n",
       "data_values": [
        "http://www.w3.org/ns/prov#",
        "http://example.org/",
        "./prov-exports/MLPovLabExport (5).json",
        "http://example.org/epoch/",
        "http://example.org/module/",
        "http://example.org/execution/",
        "http://example.org/import/",
        "http://example.org/dependency/",
        "output.ttl"
       ],
       "data_vars": [
        "PROV",
        "EX",
        "g",
        "rdf_data",
        "f"
       ],
       "definitions": [
        {
         "col_offset": 0,
         "dependencies": [
          "Namespace"
         ],
         "end_col_offset": 46,
         "end_lineno": 7,
         "lineno": 7,
         "name": "PROV",
         "type": "assign"
        },
        {
         "col_offset": 0,
         "dependencies": [
          "Namespace"
         ],
         "end_col_offset": 37,
         "end_lineno": 8,
         "lineno": 8,
         "name": "EX",
         "type": "assign"
        },
        {
         "col_offset": 0,
         "dependencies": [
          "Graph"
         ],
         "end_col_offset": 11,
         "end_lineno": 11,
         "lineno": 11,
         "name": "g",
         "type": "assign"
        },
        {
         "col_offset": 0,
         "dependencies": [
          "PROV"
         ],
         "end_col_offset": 20,
         "end_lineno": 12,
         "lineno": 12,
         "name": "g",
         "type": "call"
        },
        {
         "col_offset": 0,
         "dependencies": [
          "EX"
         ],
         "end_col_offset": 16,
         "end_lineno": 13,
         "lineno": 13,
         "name": "g",
         "type": "call"
        },
        {
         "col_offset": 4,
         "dependencies": [
          "json",
          "f"
         ],
         "end_col_offset": 23,
         "end_lineno": 17,
         "lineno": 17,
         "name": "data",
         "type": "assign"
        },
        {
         "col_offset": 0,
         "dependencies": [
          "suffix",
          "URIRef",
          "base"
         ],
         "end_col_offset": 32,
         "end_lineno": 22,
         "lineno": 20,
         "name": "create_uri",
         "type": "function"
        },
        {
         "col_offset": 0,
         "dependencies": [],
         "end_col_offset": 11,
         "end_lineno": 23,
         "lineno": 23,
         "name": "counter",
         "type": "assign"
        },
        {
         "body": [
          {
           "col_offset": 4,
           "dependencies": [
            "epoch"
           ],
           "end_col_offset": 49,
           "end_lineno": 27,
           "lineno": 27,
           "name": "epoch_start_time",
           "type": "assign"
          },
          {
           "col_offset": 4,
           "dependencies": [
            "create_uri",
            "epoch_start_time"
           ],
           "end_col_offset": 73,
           "end_lineno": 28,
           "lineno": 28,
           "name": "epoch_uri",
           "type": "assign"
          },
          {
           "col_offset": 4,
           "dependencies": [
            "epoch_uri",
            "RDF",
            "PROV"
           ],
           "end_col_offset": 45,
           "end_lineno": 29,
           "lineno": 29,
           "name": "g",
           "type": "call"
          },
          {
           "col_offset": 4,
           "dependencies": [
            "epoch_uri",
            "PROV",
            "Literal",
            "epoch_start_time"
           ],
           "end_col_offset": 69,
           "end_lineno": 32,
           "lineno": 32,
           "name": "g",
           "type": "call"
          },
          {
           "body": [
            {
             "col_offset": 8,
             "dependencies": [
              "epoch_uri",
              "PROV",
              "Literal",
              "epoch"
             ],
             "end_col_offset": 68,
             "end_lineno": 34,
             "lineno": 34,
             "name": "g",
             "type": "call"
            }
           ],
           "col_offset": 4,
           "dependencies": [
            "epoch"
           ],
           "end_col_offset": 68,
           "end_lineno": 34,
           "lineno": 33,
           "orelse": [],
           "type": "condition"
          },
          {
           "col_offset": 4,
           "dependencies": [
            "epoch_uri",
            "PROV",
            "Literal",
            "epoch"
           ],
           "end_col_offset": 61,
           "end_lineno": 36,
           "lineno": 36,
           "name": "g",
           "type": "call"
          },
          {
           "col_offset": 4,
           "dependencies": [
            "epoch_uri",
            "PROV",
            "Literal",
            "epoch"
           ],
           "end_col_offset": 76,
           "end_lineno": 37,
           "lineno": 37,
           "name": "g",
           "type": "call"
          },
          {
           "col_offset": 4,
           "dependencies": [
            "epoch_uri",
            "PROV",
            "Literal",
            "epoch"
           ],
           "end_col_offset": 92,
           "end_lineno": 38,
           "lineno": 38,
           "name": "g",
           "type": "call"
          },
          {
           "col_offset": 4,
           "dependencies": [
            "epoch_uri",
            "PROV",
            "Literal",
            "epoch"
           ],
           "end_col_offset": 59,
           "end_lineno": 41,
           "lineno": 41,
           "name": "g",
           "type": "call"
          },
          {
           "col_offset": 4,
           "dependencies": [
            "epoch_uri",
            "PROV",
            "Literal",
            "epoch"
           ],
           "end_col_offset": 72,
           "end_lineno": 42,
           "lineno": 42,
           "name": "g",
           "type": "call"
          },
          {
           "col_offset": 4,
           "dependencies": [
            "epoch_uri",
            "PROV",
            "Literal",
            "epoch"
           ],
           "end_col_offset": 88,
           "end_lineno": 43,
           "lineno": 43,
           "name": "g",
           "type": "call"
          },
          {
           "body": [
            {
             "col_offset": 8,
             "dependencies": [
              "create_uri",
              "module"
             ],
             "end_col_offset": 69,
             "end_lineno": 48,
             "lineno": 48,
             "name": "module_uri",
             "type": "assign"
            },
            {
             "col_offset": 8,
             "dependencies": [
              "module_uri",
              "RDF",
              "PROV"
             ],
             "end_col_offset": 50,
             "end_lineno": 49,
             "lineno": 49,
             "name": "g",
             "type": "call"
            },
            {
             "col_offset": 8,
             "dependencies": [
              "module_uri",
              "PROV",
              "epoch_uri"
             ],
             "end_col_offset": 59,
             "end_lineno": 50,
             "lineno": 50,
             "name": "g",
             "type": "call"
            },
            {
             "body": [
              {
               "col_offset": 12,
               "dependencies": [
                "module_uri",
                "PROV",
                "Literal",
                "details"
               ],
               "end_col_offset": 83,
               "end_lineno": 52,
               "lineno": 52,
               "name": "g",
               "type": "call"
              }
             ],
             "col_offset": 8,
             "dependencies": [
              "details"
             ],
             "end_col_offset": 83,
             "end_lineno": 52,
             "lineno": 51,
             "orelse": [],
             "type": "condition"
            }
           ],
           "col_offset": 4,
           "dependencies": [
            "epoch"
           ],
           "end_col_offset": 83,
           "end_lineno": 52,
           "lineno": 47,
           "orelse": [],
           "type": "loop"
          },
          {
           "body": [
            {
             "col_offset": 8,
             "dependencies": [
              "create_uri",
              "str",
              "exec_data"
             ],
             "end_col_offset": 97,
             "end_lineno": 56,
             "lineno": 56,
             "name": "exec_uri",
             "type": "assign"
            },
            {
             "col_offset": 8,
             "dependencies": [
              "exec_uri",
              "RDF",
              "PROV"
             ],
             "end_col_offset": 50,
             "end_lineno": 57,
             "lineno": 57,
             "name": "g",
             "type": "call"
            },
            {
             "col_offset": 8,
             "dependencies": [
              "exec_uri",
              "PROV",
              "epoch_uri"
             ],
             "end_col_offset": 47,
             "end_lineno": 58,
             "lineno": 58,
             "name": "g",
             "type": "call"
            },
            {
             "col_offset": 8,
             "dependencies": [
              "Literal",
              "exec_data"
             ],
             "end_col_offset": 49,
             "end_lineno": 61,
             "lineno": 61,
             "name": "code_literal",
             "type": "assign"
            },
            {
             "col_offset": 8,
             "dependencies": [
              "exec_uri",
              "PROV",
              "code_literal"
             ],
             "end_col_offset": 51,
             "end_lineno": 62,
             "lineno": 62,
             "name": "g",
             "type": "call"
            },
            {
             "body": [
              {
               "col_offset": 12,
               "dependencies": [
                "create_uri",
                "imp"
               ],
               "end_col_offset": 70,
               "end_lineno": 66,
               "lineno": 66,
               "name": "import_uri",
               "type": "assign"
              },
              {
               "col_offset": 12,
               "dependencies": [
                "import_uri",
                "RDF",
                "PROV"
               ],
               "end_col_offset": 54,
               "end_lineno": 67,
               "lineno": 67,
               "name": "g",
               "type": "call"
              },
              {
               "col_offset": 12,
               "dependencies": [
                "import_uri",
                "PROV",
                "exec_uri"
               ],
               "end_col_offset": 62,
               "end_lineno": 68,
               "lineno": 68,
               "name": "g",
               "type": "call"
              }
             ],
             "col_offset": 8,
             "dependencies": [
              "exec_data"
             ],
             "end_col_offset": 62,
             "end_lineno": 68,
             "lineno": 65,
             "orelse": [],
             "type": "loop"
            },
            {
             "body": [
              {
               "col_offset": 12,
               "dependencies": [
                "create_uri",
                "dep"
               ],
               "end_col_offset": 71,
               "end_lineno": 72,
               "lineno": 72,
               "name": "dep_uri",
               "type": "assign"
              },
              {
               "col_offset": 12,
               "dependencies": [
                "dep_uri",
                "RDF",
                "PROV"
               ],
               "end_col_offset": 51,
               "end_lineno": 73,
               "lineno": 73,
               "name": "g",
               "type": "call"
              },
              {
               "col_offset": 12,
               "dependencies": [
                "dep_uri",
                "PROV",
                "exec_uri"
               ],
               "end_col_offset": 59,
               "end_lineno": 74,
               "lineno": 74,
               "name": "g",
               "type": "call"
              }
             ],
             "col_offset": 8,
             "dependencies": [
              "exec_data"
             ],
             "end_col_offset": 59,
             "end_lineno": 74,
             "lineno": 71,
             "orelse": [],
             "type": "loop"
            }
           ],
           "col_offset": 4,
           "dependencies": [
            "epoch",
            "str"
           ],
           "end_col_offset": 59,
           "end_lineno": 74,
           "lineno": 55,
           "orelse": [],
           "type": "loop"
          }
         ],
         "col_offset": 0,
         "dependencies": [
          "data",
          "str"
         ],
         "end_col_offset": 59,
         "end_lineno": 74,
         "lineno": 25,
         "orelse": [],
         "type": "loop"
        },
        {
         "col_offset": 0,
         "dependencies": [
          "g"
         ],
         "end_col_offset": 39,
         "end_lineno": 77,
         "lineno": 77,
         "name": "rdf_data",
         "type": "assign"
        },
        {
         "col_offset": 4,
         "dependencies": [
          "rdf_data"
         ],
         "end_col_offset": 21,
         "end_lineno": 79,
         "lineno": 79,
         "name": "f",
         "type": "call"
        }
       ],
       "execution_count": 6,
       "imports": [
        "json",
        "re",
        "Graph",
        "URIRef",
        "Literal",
        "Namespace",
        "RDF",
        "RDFS"
       ],
       "local": [
        "PROV",
        "EX",
        "g",
        "data",
        "create_uri",
        "counter",
        "epoch",
        "epoch_start_time",
        "epoch_uri",
        "module",
        "details",
        "module_uri",
        "exec_data",
        "exec_uri",
        "code_literal",
        "imp",
        "import_uri",
        "dep",
        "dep_uri",
        "rdf_data"
       ],
       "local_info": {
        "EX": "",
        "PROV": "",
        "code_literal": "",
        "counter": "",
        "create_uri": "",
        "data": "",
        "dep": "",
        "dep_uri": "",
        "details": "",
        "epoch": "",
        "epoch_start_time": "",
        "epoch_uri": "",
        "exec_data": "",
        "exec_uri": "",
        "g": "",
        "imp": "",
        "import_uri": "",
        "module": "",
        "module_uri": "",
        "rdf_data": ""
       },
       "remote": [
        "f",
        "suffix",
        "base",
        "str"
       ],
       "time": "Tue, 23 Jul 2024 10:49:51 GMT",
       "type": "execution"
      },
      {
       "cell_id": "8d0d19f9-e1ab-47a4-883c-0102e9876e06",
       "cell_outputs": [],
       "cell_source": "import json\nimport re\nfrom rdflib import Graph, URIRef, Literal, Namespace\nfrom rdflib.namespace import RDF, RDFS\n\n# Define namespaces\nPROV = Namespace(\"http://www.w3.org/ns/prov#\")\nEX = Namespace(\"http://example.org/\")\n\n# Create a new RDF graph\ng = Graph()\ng.bind(\"prov\", PROV)\ng.bind(\"ex\", EX)\n\n# Load the JSON data\nwith open(\"./prov-exports/MLPovLabExport (5).json\", \"r\") as f:\n    data = json.load(f)\n\n# Helper function to create valid URIs\ndef create_uri(base, suffix):\n    suffix = re.sub(r'\\W+', '_', suffix)  # Replace non-alphanumeric characters with underscores\n    return URIRef(base + suffix)\n\n# Process each epoch in the JSON data\nfor epoch in data[\"epochs\"]:\n    # Create an entity for the epoch\n    epoch_start_time = epoch[\"kernel_start_time\"]\n    epoch_uri = create_uri(\"http://example.org/epoch/\", epoch_start_time)\n    g.add((epoch_uri, RDF.type, PROV.Entity))\n    g.add((epoch_uri, PROV.wasAttributedTo, Literal(epoch[\"user_agent\"])))\n\n    # Add attributes to the epoch entity\n    g.add((epoch_uri, PROV.startedAtTime, Literal(epoch_start_time)))\n    if \"time\" in epoch:\n        g.add((epoch_uri, PROV.endedAtTime, Literal(epoch[\"time\"])))\n\n    # Adding language and version\n    g.add((epoch_uri, PROV.used, Literal(epoch[\"language\"])))\n    g.add((epoch_uri, PROV.used, Literal(f'Language: {epoch[\"language\"]}')))\n    g.add((epoch_uri, PROV.used, Literal(f'Language Version: {epoch[\"language_version\"]}')))\n\n    # Adding kernel and version\n    g.add((epoch_uri, PROV.used, Literal(epoch[\"kernel\"])))\n    g.add((epoch_uri, PROV.used, Literal(f'Kernel: {epoch[\"kernel\"]}')))\n    g.add((epoch_uri, PROV.used, Literal(f'Kernel Version: {epoch[\"kernel_version\"]}')))\n\n    # Add modules used\n    for module, details in epoch[\"modules\"].items():\n        module_uri = create_uri(\"http://example.org/module/\", module)\n        g.add((module_uri, RDF.type, PROV.Entity))\n        g.add((module_uri, PROV.wasGeneratedBy, epoch_uri))\n        if details[\"version\"]:\n            g.add((module_uri, PROV.hadPrimarySource, Literal(details[\"version\"])))\n\n    # Process each execution_data entry\n    for exec_data in epoch[\"execution_data\"]:\n        exec_uri = create_uri(\"http://example.org/execution/\", str(exec_data[\"execution_count\"]))\n        g.add((exec_uri, RDF.type, PROV.Activity))\n        g.add((exec_uri, PROV.used, epoch_uri))\n\n        # Add code as a property\n        code_literal = Literal(exec_data[\"code\"])\n        g.add((exec_uri, PROV.value, code_literal))\n\n        # Add imports\n        for imp in exec_data.get(\"imports\", []):\n            import_uri = create_uri(\"http://example.org/import/\", imp)\n            g.add((import_uri, RDF.type, PROV.Entity))\n            g.add((import_uri, PROV.wasGeneratedBy, exec_uri))\n\n        # Add dependencies\n        for dep in exec_data.get(\"dependencies\", []):\n            dep_uri = create_uri(\"http://example.org/dependency/\", dep)\n            g.add((dep_uri, RDF.type, PROV.Entity))\n            g.add((dep_uri, PROV.wasGeneratedBy, exec_uri))\n\n# Serialize the graph to RDF format (Turtle in this case) and save to a file\nrdf_data = g.serialize(format=\"turtle\")\nwith open(\"output.ttl\", \"w\") as f:\n    f.write(rdf_data)\n",
       "data_values": [
        "http://www.w3.org/ns/prov#",
        "http://example.org/",
        "./prov-exports/MLPovLabExport (5).json",
        "http://example.org/epoch/",
        "http://example.org/module/",
        "http://example.org/execution/",
        "http://example.org/import/",
        "http://example.org/dependency/",
        "output.ttl"
       ],
       "data_vars": [
        "PROV",
        "EX",
        "g",
        "rdf_data",
        "f"
       ],
       "definitions": [
        {
         "col_offset": 0,
         "dependencies": [
          "Namespace"
         ],
         "end_col_offset": 46,
         "end_lineno": 7,
         "lineno": 7,
         "name": "PROV",
         "type": "assign"
        },
        {
         "col_offset": 0,
         "dependencies": [
          "Namespace"
         ],
         "end_col_offset": 37,
         "end_lineno": 8,
         "lineno": 8,
         "name": "EX",
         "type": "assign"
        },
        {
         "col_offset": 0,
         "dependencies": [
          "Graph"
         ],
         "end_col_offset": 11,
         "end_lineno": 11,
         "lineno": 11,
         "name": "g",
         "type": "assign"
        },
        {
         "col_offset": 0,
         "dependencies": [
          "PROV"
         ],
         "end_col_offset": 20,
         "end_lineno": 12,
         "lineno": 12,
         "name": "g",
         "type": "call"
        },
        {
         "col_offset": 0,
         "dependencies": [
          "EX"
         ],
         "end_col_offset": 16,
         "end_lineno": 13,
         "lineno": 13,
         "name": "g",
         "type": "call"
        },
        {
         "col_offset": 4,
         "dependencies": [
          "json",
          "f"
         ],
         "end_col_offset": 23,
         "end_lineno": 17,
         "lineno": 17,
         "name": "data",
         "type": "assign"
        },
        {
         "col_offset": 0,
         "dependencies": [
          "suffix",
          "URIRef",
          "base"
         ],
         "end_col_offset": 32,
         "end_lineno": 22,
         "lineno": 20,
         "name": "create_uri",
         "type": "function"
        },
        {
         "body": [
          {
           "col_offset": 4,
           "dependencies": [
            "epoch"
           ],
           "end_col_offset": 49,
           "end_lineno": 27,
           "lineno": 27,
           "name": "epoch_start_time",
           "type": "assign"
          },
          {
           "col_offset": 4,
           "dependencies": [
            "create_uri",
            "epoch_start_time"
           ],
           "end_col_offset": 73,
           "end_lineno": 28,
           "lineno": 28,
           "name": "epoch_uri",
           "type": "assign"
          },
          {
           "col_offset": 4,
           "dependencies": [
            "epoch_uri",
            "RDF",
            "PROV"
           ],
           "end_col_offset": 45,
           "end_lineno": 29,
           "lineno": 29,
           "name": "g",
           "type": "call"
          },
          {
           "col_offset": 4,
           "dependencies": [
            "epoch_uri",
            "PROV",
            "Literal",
            "epoch"
           ],
           "end_col_offset": 74,
           "end_lineno": 30,
           "lineno": 30,
           "name": "g",
           "type": "call"
          },
          {
           "col_offset": 4,
           "dependencies": [
            "epoch_uri",
            "PROV",
            "Literal",
            "epoch_start_time"
           ],
           "end_col_offset": 69,
           "end_lineno": 33,
           "lineno": 33,
           "name": "g",
           "type": "call"
          },
          {
           "body": [
            {
             "col_offset": 8,
             "dependencies": [
              "epoch_uri",
              "PROV",
              "Literal",
              "epoch"
             ],
             "end_col_offset": 68,
             "end_lineno": 35,
             "lineno": 35,
             "name": "g",
             "type": "call"
            }
           ],
           "col_offset": 4,
           "dependencies": [
            "epoch"
           ],
           "end_col_offset": 68,
           "end_lineno": 35,
           "lineno": 34,
           "orelse": [],
           "type": "condition"
          },
          {
           "col_offset": 4,
           "dependencies": [
            "epoch_uri",
            "PROV",
            "Literal",
            "epoch"
           ],
           "end_col_offset": 61,
           "end_lineno": 38,
           "lineno": 38,
           "name": "g",
           "type": "call"
          },
          {
           "col_offset": 4,
           "dependencies": [
            "epoch_uri",
            "PROV",
            "Literal",
            "epoch"
           ],
           "end_col_offset": 76,
           "end_lineno": 39,
           "lineno": 39,
           "name": "g",
           "type": "call"
          },
          {
           "col_offset": 4,
           "dependencies": [
            "epoch_uri",
            "PROV",
            "Literal",
            "epoch"
           ],
           "end_col_offset": 92,
           "end_lineno": 40,
           "lineno": 40,
           "name": "g",
           "type": "call"
          },
          {
           "col_offset": 4,
           "dependencies": [
            "epoch_uri",
            "PROV",
            "Literal",
            "epoch"
           ],
           "end_col_offset": 59,
           "end_lineno": 43,
           "lineno": 43,
           "name": "g",
           "type": "call"
          },
          {
           "col_offset": 4,
           "dependencies": [
            "epoch_uri",
            "PROV",
            "Literal",
            "epoch"
           ],
           "end_col_offset": 72,
           "end_lineno": 44,
           "lineno": 44,
           "name": "g",
           "type": "call"
          },
          {
           "col_offset": 4,
           "dependencies": [
            "epoch_uri",
            "PROV",
            "Literal",
            "epoch"
           ],
           "end_col_offset": 88,
           "end_lineno": 45,
           "lineno": 45,
           "name": "g",
           "type": "call"
          },
          {
           "body": [
            {
             "col_offset": 8,
             "dependencies": [
              "create_uri",
              "module"
             ],
             "end_col_offset": 69,
             "end_lineno": 49,
             "lineno": 49,
             "name": "module_uri",
             "type": "assign"
            },
            {
             "col_offset": 8,
             "dependencies": [
              "module_uri",
              "RDF",
              "PROV"
             ],
             "end_col_offset": 50,
             "end_lineno": 50,
             "lineno": 50,
             "name": "g",
             "type": "call"
            },
            {
             "col_offset": 8,
             "dependencies": [
              "module_uri",
              "PROV",
              "epoch_uri"
             ],
             "end_col_offset": 59,
             "end_lineno": 51,
             "lineno": 51,
             "name": "g",
             "type": "call"
            },
            {
             "body": [
              {
               "col_offset": 12,
               "dependencies": [
                "module_uri",
                "PROV",
                "Literal",
                "details"
               ],
               "end_col_offset": 83,
               "end_lineno": 53,
               "lineno": 53,
               "name": "g",
               "type": "call"
              }
             ],
             "col_offset": 8,
             "dependencies": [
              "details"
             ],
             "end_col_offset": 83,
             "end_lineno": 53,
             "lineno": 52,
             "orelse": [],
             "type": "condition"
            }
           ],
           "col_offset": 4,
           "dependencies": [
            "epoch"
           ],
           "end_col_offset": 83,
           "end_lineno": 53,
           "lineno": 48,
           "orelse": [],
           "type": "loop"
          },
          {
           "body": [
            {
             "col_offset": 8,
             "dependencies": [
              "create_uri",
              "str",
              "exec_data"
             ],
             "end_col_offset": 97,
             "end_lineno": 57,
             "lineno": 57,
             "name": "exec_uri",
             "type": "assign"
            },
            {
             "col_offset": 8,
             "dependencies": [
              "exec_uri",
              "RDF",
              "PROV"
             ],
             "end_col_offset": 50,
             "end_lineno": 58,
             "lineno": 58,
             "name": "g",
             "type": "call"
            },
            {
             "col_offset": 8,
             "dependencies": [
              "exec_uri",
              "PROV",
              "epoch_uri"
             ],
             "end_col_offset": 47,
             "end_lineno": 59,
             "lineno": 59,
             "name": "g",
             "type": "call"
            },
            {
             "col_offset": 8,
             "dependencies": [
              "Literal",
              "exec_data"
             ],
             "end_col_offset": 49,
             "end_lineno": 62,
             "lineno": 62,
             "name": "code_literal",
             "type": "assign"
            },
            {
             "col_offset": 8,
             "dependencies": [
              "exec_uri",
              "PROV",
              "code_literal"
             ],
             "end_col_offset": 51,
             "end_lineno": 63,
             "lineno": 63,
             "name": "g",
             "type": "call"
            },
            {
             "body": [
              {
               "col_offset": 12,
               "dependencies": [
                "create_uri",
                "imp"
               ],
               "end_col_offset": 70,
               "end_lineno": 67,
               "lineno": 67,
               "name": "import_uri",
               "type": "assign"
              },
              {
               "col_offset": 12,
               "dependencies": [
                "import_uri",
                "RDF",
                "PROV"
               ],
               "end_col_offset": 54,
               "end_lineno": 68,
               "lineno": 68,
               "name": "g",
               "type": "call"
              },
              {
               "col_offset": 12,
               "dependencies": [
                "import_uri",
                "PROV",
                "exec_uri"
               ],
               "end_col_offset": 62,
               "end_lineno": 69,
               "lineno": 69,
               "name": "g",
               "type": "call"
              }
             ],
             "col_offset": 8,
             "dependencies": [
              "exec_data"
             ],
             "end_col_offset": 62,
             "end_lineno": 69,
             "lineno": 66,
             "orelse": [],
             "type": "loop"
            },
            {
             "body": [
              {
               "col_offset": 12,
               "dependencies": [
                "create_uri",
                "dep"
               ],
               "end_col_offset": 71,
               "end_lineno": 73,
               "lineno": 73,
               "name": "dep_uri",
               "type": "assign"
              },
              {
               "col_offset": 12,
               "dependencies": [
                "dep_uri",
                "RDF",
                "PROV"
               ],
               "end_col_offset": 51,
               "end_lineno": 74,
               "lineno": 74,
               "name": "g",
               "type": "call"
              },
              {
               "col_offset": 12,
               "dependencies": [
                "dep_uri",
                "PROV",
                "exec_uri"
               ],
               "end_col_offset": 59,
               "end_lineno": 75,
               "lineno": 75,
               "name": "g",
               "type": "call"
              }
             ],
             "col_offset": 8,
             "dependencies": [
              "exec_data"
             ],
             "end_col_offset": 59,
             "end_lineno": 75,
             "lineno": 72,
             "orelse": [],
             "type": "loop"
            }
           ],
           "col_offset": 4,
           "dependencies": [
            "epoch",
            "str"
           ],
           "end_col_offset": 59,
           "end_lineno": 75,
           "lineno": 56,
           "orelse": [],
           "type": "loop"
          }
         ],
         "col_offset": 0,
         "dependencies": [
          "data",
          "str"
         ],
         "end_col_offset": 59,
         "end_lineno": 75,
         "lineno": 25,
         "orelse": [],
         "type": "loop"
        },
        {
         "col_offset": 0,
         "dependencies": [
          "g"
         ],
         "end_col_offset": 39,
         "end_lineno": 78,
         "lineno": 78,
         "name": "rdf_data",
         "type": "assign"
        },
        {
         "col_offset": 4,
         "dependencies": [
          "rdf_data"
         ],
         "end_col_offset": 21,
         "end_lineno": 80,
         "lineno": 80,
         "name": "f",
         "type": "call"
        }
       ],
       "execution_count": 7,
       "imports": [
        "json",
        "re",
        "Graph",
        "URIRef",
        "Literal",
        "Namespace",
        "RDF",
        "RDFS"
       ],
       "local": [
        "PROV",
        "EX",
        "g",
        "data",
        "create_uri",
        "epoch",
        "epoch_start_time",
        "epoch_uri",
        "module",
        "details",
        "module_uri",
        "exec_data",
        "exec_uri",
        "code_literal",
        "imp",
        "import_uri",
        "dep",
        "dep_uri",
        "rdf_data"
       ],
       "local_info": {
        "EX": "",
        "PROV": "",
        "code_literal": "",
        "create_uri": "",
        "data": "",
        "dep": "",
        "dep_uri": "",
        "details": "",
        "epoch": "",
        "epoch_start_time": "",
        "epoch_uri": "",
        "exec_data": "",
        "exec_uri": "",
        "g": "",
        "imp": "",
        "import_uri": "",
        "module": "",
        "module_uri": "",
        "rdf_data": ""
       },
       "remote": [
        "f",
        "suffix",
        "base",
        "str"
       ],
       "time": "Tue, 23 Jul 2024 10:54:17 GMT",
       "type": "execution"
      },
      {
       "cell_id": "8d0d19f9-e1ab-47a4-883c-0102e9876e06",
       "cell_outputs": [],
       "cell_source": "import json\nimport re\nfrom rdflib import Graph, URIRef, Literal, Namespace\nfrom rdflib.namespace import RDF, RDFS\n\n# Define namespaces\nPROV = Namespace(\"http://www.w3.org/ns/prov#\")\nEX = Namespace(\"http://example.org/\")\n\n# Create a new RDF graph\ng = Graph()\ng.bind(\"prov\", PROV)\ng.bind(\"ex\", EX)\n\n# Load the JSON data\nwith open(\"./prov-exports/MLPovLabExport (5).json\", \"r\") as f:\n    data = json.load(f)\n\n# Helper function to create valid URIs\ndef create_uri(base, suffix):\n    suffix = re.sub(r'\\W+', '_', suffix)  # Replace non-alphanumeric characters with underscores\n    return URIRef(base + suffix)\n\n# Process each epoch in the JSON data\nfor epoch in data[\"epochs\"]:\n    # Create an entity for the epoch\n    epoch_start_time = epoch[\"kernel_start_time\"]\n    epoch_uri = create_uri(\"http://example.org/epoch/\", epoch_start_time)\n    g.add((epoch_uri, RDF.type, PROV.Entity))\n    g.add((epoch_uri, PROV.wasAttributedTo, Literal(epoch[\"user_agent\"])))\n\n    # Add attributes to the epoch entity\n    g.add((epoch_uri, PROV.startedAtTime, Literal(epoch_start_time)))\n    if \"time\" in epoch:\n        g.add((epoch_uri, PROV.endedAtTime, Literal(epoch[\"time\"])))\n\n    # Adding language and version\n    g.add((epoch_uri, PROV.used, Literal(epoch[\"language\"])))\n    g.add((epoch_uri, PROV.used, Literal(f'Language: {epoch[\"language\"]}')))\n    g.add((epoch_uri, PROV.used, Literal(f'Language Version: {epoch[\"language_version\"]}')))\n\n    # Adding kernel and version\n    g.add((epoch_uri, PROV.used, Literal(epoch[\"kernel\"])))\n    g.add((epoch_uri, PROV.used, Literal(f'Kernel: {epoch[\"kernel\"]}')))\n    g.add((epoch_uri, PROV.used, Literal(f'Kernel Version: {epoch[\"kernel_version\"]}')))\n\n    # Add modules used\n    for module, details in epoch[\"modules\"].items():\n        module_uri = create_uri(\"http://example.org/module/\", module)\n        g.add((module_uri, RDF.type, PROV.Entity))\n        g.add((module_uri, PROV.wasGeneratedBy, epoch_uri))\n        if details[\"version\"]:\n            g.add((module_uri, PROV.hadPrimarySource, Literal(details[\"version\"])))\n\n    # Process each execution_data entry\n    for exec_data in epoch[\"execution_data\"]:\n        exec_uri = create_uri(\"http://example.org/execution/\", str(exec_data[\"execution_count\"]))\n        g.add((exec_uri, RDF.type, PROV.Activity))\n        g.add((exec_uri, PROV.used, epoch_uri))\n\n        # Add code as a property\n        code_literal = Literal(exec_data[\"code\"])\n        g.add((exec_uri, PROV.value, code_literal))\n\n        # Add imports\n        for imp in exec_data.get(\"imports\", []):\n            import_uri = create_uri(\"http://example.org/import/\", imp)\n            g.add((import_uri, RDF.type, PROV.Entity))\n            g.add((import_uri, PROV.wasGeneratedBy, exec_uri))\n\n        # Add dependencies\n        for dep in exec_data.get(\"dependencies\", []):\n            dep_uri = create_uri(\"http://example.org/dependency/\", dep)\n            g.add((dep_uri, RDF.type, PROV.Entity))\n            g.add((dep_uri, PROV.wasGeneratedBy, exec_uri))\n\n# Serialize the graph to RDF format (Turtle in this case) and save to a file\nrdf_data = g.serialize(format=\"turtle\")\nwith open(\"output.ttl\", \"w\") as f:\n    f.write(rdf_data)\n",
       "data_values": [
        "http://www.w3.org/ns/prov#",
        "http://example.org/",
        "./prov-exports/MLPovLabExport (5).json",
        "http://example.org/epoch/",
        "http://example.org/module/",
        "http://example.org/execution/",
        "http://example.org/import/",
        "http://example.org/dependency/",
        "output.ttl"
       ],
       "data_vars": [
        "PROV",
        "EX",
        "g",
        "rdf_data",
        "f"
       ],
       "definitions": [
        {
         "col_offset": 0,
         "dependencies": [
          "Namespace"
         ],
         "end_col_offset": 46,
         "end_lineno": 7,
         "lineno": 7,
         "name": "PROV",
         "type": "assign"
        },
        {
         "col_offset": 0,
         "dependencies": [
          "Namespace"
         ],
         "end_col_offset": 37,
         "end_lineno": 8,
         "lineno": 8,
         "name": "EX",
         "type": "assign"
        },
        {
         "col_offset": 0,
         "dependencies": [
          "Graph"
         ],
         "end_col_offset": 11,
         "end_lineno": 11,
         "lineno": 11,
         "name": "g",
         "type": "assign"
        },
        {
         "col_offset": 0,
         "dependencies": [
          "PROV"
         ],
         "end_col_offset": 20,
         "end_lineno": 12,
         "lineno": 12,
         "name": "g",
         "type": "call"
        },
        {
         "col_offset": 0,
         "dependencies": [
          "EX"
         ],
         "end_col_offset": 16,
         "end_lineno": 13,
         "lineno": 13,
         "name": "g",
         "type": "call"
        },
        {
         "col_offset": 4,
         "dependencies": [
          "json",
          "f"
         ],
         "end_col_offset": 23,
         "end_lineno": 17,
         "lineno": 17,
         "name": "data",
         "type": "assign"
        },
        {
         "col_offset": 0,
         "dependencies": [
          "suffix",
          "URIRef",
          "base"
         ],
         "end_col_offset": 32,
         "end_lineno": 22,
         "lineno": 20,
         "name": "create_uri",
         "type": "function"
        },
        {
         "body": [
          {
           "col_offset": 4,
           "dependencies": [
            "epoch"
           ],
           "end_col_offset": 49,
           "end_lineno": 27,
           "lineno": 27,
           "name": "epoch_start_time",
           "type": "assign"
          },
          {
           "col_offset": 4,
           "dependencies": [
            "create_uri",
            "epoch_start_time"
           ],
           "end_col_offset": 73,
           "end_lineno": 28,
           "lineno": 28,
           "name": "epoch_uri",
           "type": "assign"
          },
          {
           "col_offset": 4,
           "dependencies": [
            "epoch_uri",
            "RDF",
            "PROV"
           ],
           "end_col_offset": 45,
           "end_lineno": 29,
           "lineno": 29,
           "name": "g",
           "type": "call"
          },
          {
           "col_offset": 4,
           "dependencies": [
            "epoch_uri",
            "PROV",
            "Literal",
            "epoch"
           ],
           "end_col_offset": 74,
           "end_lineno": 30,
           "lineno": 30,
           "name": "g",
           "type": "call"
          },
          {
           "col_offset": 4,
           "dependencies": [
            "epoch_uri",
            "PROV",
            "Literal",
            "epoch_start_time"
           ],
           "end_col_offset": 69,
           "end_lineno": 33,
           "lineno": 33,
           "name": "g",
           "type": "call"
          },
          {
           "body": [
            {
             "col_offset": 8,
             "dependencies": [
              "epoch_uri",
              "PROV",
              "Literal",
              "epoch"
             ],
             "end_col_offset": 68,
             "end_lineno": 35,
             "lineno": 35,
             "name": "g",
             "type": "call"
            }
           ],
           "col_offset": 4,
           "dependencies": [
            "epoch"
           ],
           "end_col_offset": 68,
           "end_lineno": 35,
           "lineno": 34,
           "orelse": [],
           "type": "condition"
          },
          {
           "col_offset": 4,
           "dependencies": [
            "epoch_uri",
            "PROV",
            "Literal",
            "epoch"
           ],
           "end_col_offset": 61,
           "end_lineno": 38,
           "lineno": 38,
           "name": "g",
           "type": "call"
          },
          {
           "col_offset": 4,
           "dependencies": [
            "epoch_uri",
            "PROV",
            "Literal",
            "epoch"
           ],
           "end_col_offset": 76,
           "end_lineno": 39,
           "lineno": 39,
           "name": "g",
           "type": "call"
          },
          {
           "col_offset": 4,
           "dependencies": [
            "epoch_uri",
            "PROV",
            "Literal",
            "epoch"
           ],
           "end_col_offset": 92,
           "end_lineno": 40,
           "lineno": 40,
           "name": "g",
           "type": "call"
          },
          {
           "col_offset": 4,
           "dependencies": [
            "epoch_uri",
            "PROV",
            "Literal",
            "epoch"
           ],
           "end_col_offset": 59,
           "end_lineno": 43,
           "lineno": 43,
           "name": "g",
           "type": "call"
          },
          {
           "col_offset": 4,
           "dependencies": [
            "epoch_uri",
            "PROV",
            "Literal",
            "epoch"
           ],
           "end_col_offset": 72,
           "end_lineno": 44,
           "lineno": 44,
           "name": "g",
           "type": "call"
          },
          {
           "col_offset": 4,
           "dependencies": [
            "epoch_uri",
            "PROV",
            "Literal",
            "epoch"
           ],
           "end_col_offset": 88,
           "end_lineno": 45,
           "lineno": 45,
           "name": "g",
           "type": "call"
          },
          {
           "body": [
            {
             "col_offset": 8,
             "dependencies": [
              "create_uri",
              "module"
             ],
             "end_col_offset": 69,
             "end_lineno": 49,
             "lineno": 49,
             "name": "module_uri",
             "type": "assign"
            },
            {
             "col_offset": 8,
             "dependencies": [
              "module_uri",
              "RDF",
              "PROV"
             ],
             "end_col_offset": 50,
             "end_lineno": 50,
             "lineno": 50,
             "name": "g",
             "type": "call"
            },
            {
             "col_offset": 8,
             "dependencies": [
              "module_uri",
              "PROV",
              "epoch_uri"
             ],
             "end_col_offset": 59,
             "end_lineno": 51,
             "lineno": 51,
             "name": "g",
             "type": "call"
            },
            {
             "body": [
              {
               "col_offset": 12,
               "dependencies": [
                "module_uri",
                "PROV",
                "Literal",
                "details"
               ],
               "end_col_offset": 83,
               "end_lineno": 53,
               "lineno": 53,
               "name": "g",
               "type": "call"
              }
             ],
             "col_offset": 8,
             "dependencies": [
              "details"
             ],
             "end_col_offset": 83,
             "end_lineno": 53,
             "lineno": 52,
             "orelse": [],
             "type": "condition"
            }
           ],
           "col_offset": 4,
           "dependencies": [
            "epoch"
           ],
           "end_col_offset": 83,
           "end_lineno": 53,
           "lineno": 48,
           "orelse": [],
           "type": "loop"
          },
          {
           "body": [
            {
             "col_offset": 8,
             "dependencies": [
              "create_uri",
              "str",
              "exec_data"
             ],
             "end_col_offset": 97,
             "end_lineno": 57,
             "lineno": 57,
             "name": "exec_uri",
             "type": "assign"
            },
            {
             "col_offset": 8,
             "dependencies": [
              "exec_uri",
              "RDF",
              "PROV"
             ],
             "end_col_offset": 50,
             "end_lineno": 58,
             "lineno": 58,
             "name": "g",
             "type": "call"
            },
            {
             "col_offset": 8,
             "dependencies": [
              "exec_uri",
              "PROV",
              "epoch_uri"
             ],
             "end_col_offset": 47,
             "end_lineno": 59,
             "lineno": 59,
             "name": "g",
             "type": "call"
            },
            {
             "col_offset": 8,
             "dependencies": [
              "Literal",
              "exec_data"
             ],
             "end_col_offset": 49,
             "end_lineno": 62,
             "lineno": 62,
             "name": "code_literal",
             "type": "assign"
            },
            {
             "col_offset": 8,
             "dependencies": [
              "exec_uri",
              "PROV",
              "code_literal"
             ],
             "end_col_offset": 51,
             "end_lineno": 63,
             "lineno": 63,
             "name": "g",
             "type": "call"
            },
            {
             "body": [
              {
               "col_offset": 12,
               "dependencies": [
                "create_uri",
                "imp"
               ],
               "end_col_offset": 70,
               "end_lineno": 67,
               "lineno": 67,
               "name": "import_uri",
               "type": "assign"
              },
              {
               "col_offset": 12,
               "dependencies": [
                "import_uri",
                "RDF",
                "PROV"
               ],
               "end_col_offset": 54,
               "end_lineno": 68,
               "lineno": 68,
               "name": "g",
               "type": "call"
              },
              {
               "col_offset": 12,
               "dependencies": [
                "import_uri",
                "PROV",
                "exec_uri"
               ],
               "end_col_offset": 62,
               "end_lineno": 69,
               "lineno": 69,
               "name": "g",
               "type": "call"
              }
             ],
             "col_offset": 8,
             "dependencies": [
              "exec_data"
             ],
             "end_col_offset": 62,
             "end_lineno": 69,
             "lineno": 66,
             "orelse": [],
             "type": "loop"
            },
            {
             "body": [
              {
               "col_offset": 12,
               "dependencies": [
                "create_uri",
                "dep"
               ],
               "end_col_offset": 71,
               "end_lineno": 73,
               "lineno": 73,
               "name": "dep_uri",
               "type": "assign"
              },
              {
               "col_offset": 12,
               "dependencies": [
                "dep_uri",
                "RDF",
                "PROV"
               ],
               "end_col_offset": 51,
               "end_lineno": 74,
               "lineno": 74,
               "name": "g",
               "type": "call"
              },
              {
               "col_offset": 12,
               "dependencies": [
                "dep_uri",
                "PROV",
                "exec_uri"
               ],
               "end_col_offset": 59,
               "end_lineno": 75,
               "lineno": 75,
               "name": "g",
               "type": "call"
              }
             ],
             "col_offset": 8,
             "dependencies": [
              "exec_data"
             ],
             "end_col_offset": 59,
             "end_lineno": 75,
             "lineno": 72,
             "orelse": [],
             "type": "loop"
            }
           ],
           "col_offset": 4,
           "dependencies": [
            "epoch",
            "str"
           ],
           "end_col_offset": 59,
           "end_lineno": 75,
           "lineno": 56,
           "orelse": [],
           "type": "loop"
          }
         ],
         "col_offset": 0,
         "dependencies": [
          "data",
          "str"
         ],
         "end_col_offset": 59,
         "end_lineno": 75,
         "lineno": 25,
         "orelse": [],
         "type": "loop"
        },
        {
         "col_offset": 0,
         "dependencies": [
          "g"
         ],
         "end_col_offset": 39,
         "end_lineno": 78,
         "lineno": 78,
         "name": "rdf_data",
         "type": "assign"
        },
        {
         "col_offset": 4,
         "dependencies": [
          "rdf_data"
         ],
         "end_col_offset": 21,
         "end_lineno": 80,
         "lineno": 80,
         "name": "f",
         "type": "call"
        }
       ],
       "execution_count": 8,
       "imports": [
        "json",
        "re",
        "Graph",
        "URIRef",
        "Literal",
        "Namespace",
        "RDF",
        "RDFS"
       ],
       "local": [
        "PROV",
        "EX",
        "g",
        "data",
        "create_uri",
        "epoch",
        "epoch_start_time",
        "epoch_uri",
        "module",
        "details",
        "module_uri",
        "exec_data",
        "exec_uri",
        "code_literal",
        "imp",
        "import_uri",
        "dep",
        "dep_uri",
        "rdf_data"
       ],
       "local_info": {
        "EX": "",
        "PROV": "",
        "code_literal": "",
        "create_uri": "",
        "data": "",
        "dep": "",
        "dep_uri": "",
        "details": "",
        "epoch": "",
        "epoch_start_time": "",
        "epoch_uri": "",
        "exec_data": "",
        "exec_uri": "",
        "g": "",
        "imp": "",
        "import_uri": "",
        "module": "",
        "module_uri": "",
        "rdf_data": ""
       },
       "remote": [
        "f",
        "suffix",
        "base",
        "str"
       ],
       "time": "Tue, 23 Jul 2024 10:54:35 GMT",
       "type": "execution"
      },
      {
       "cell_id": "8d0d19f9-e1ab-47a4-883c-0102e9876e06",
       "cell_outputs": [],
       "cell_source": "import json\nimport re\nfrom rdflib import Graph, URIRef, Literal, Namespace\nfrom rdflib.namespace import RDF, RDFS\n\n# Define namespaces\nPROV = Namespace(\"http://www.w3.org/ns/prov#\")\nEX = Namespace(\"http://example.org/\")\n\n# Create a new RDF graph\ng = Graph()\ng.bind(\"prov\", PROV)\ng.bind(\"ex\", EX)\n\n# Load the JSON data\nwith open(\"./prov-exports/MLPovLabExport (5).json\", \"r\") as f:\n    data = json.load(f)\n\n# Helper function to create valid URIs\ndef create_uri(base, suffix):\n    suffix = re.sub(r'\\W+', '_', suffix)  # Replace non-alphanumeric characters with underscores\n    return URIRef(base + suffix)\n\n# Process each epoch in the JSON data\nfor epoch in data[\"epochs\"]:\n    # Create an activity for the epoch\n    epoch_start_time = epoch[\"kernel_start_time\"]\n    epoch_uri = create_uri(\"http://example.org/epoch/\", epoch_start_time)\n    g.add((epoch_uri, RDF.type, PROV.Activity))\n    g.add((epoch_uri, PROV.startedAtTime, Literal(epoch_start_time)))\n    if \"time\" in epoch:\n        g.add((epoch_uri, PROV.endedAtTime, Literal(epoch[\"time\"])))\n    g.add((epoch_uri, PROV.wasAssociatedWith, Literal(epoch[\"user_agent\"])))\n\n    # Add attributes to the activity (not used by PROV directly, but can be helpful)\n    g.add((epoch_uri, RDFS.label, Literal(f\"Epoch starting at {epoch_start_time}\")))\n\n    # Adding language and version as entities\n    language_entity = create_uri(\"http://example.org/language/\", epoch[\"language\"])\n    g.add((language_entity, RDF.type, PROV.Entity))\n    g.add((language_entity, RDFS.label, Literal(f\"Language: {epoch['language']}\")))\n    g.add((epoch_uri, PROV.used, language_entity))\n\n    language_version_entity = create_uri(\"http://example.org/language_version/\", epoch[\"language_version\"])\n    g.add((language_version_entity, RDF.type, PROV.Entity))\n    g.add((language_version_entity, RDFS.label, Literal(f\"Language Version: {epoch['language_version']}\")))\n    g.add((epoch_uri, PROV.used, language_version_entity))\n\n    # Adding kernel and version as entities\n    kernel_entity = create_uri(\"http://example.org/kernel/\", epoch[\"kernel\"])\n    g.add((kernel_entity, RDF.type, PROV.Entity))\n    g.add((kernel_entity, RDFS.label, Literal(f\"Kernel: {epoch['kernel']}\")))\n    g.add((epoch_uri, PROV.used, kernel_entity))\n\n    kernel_version_entity = create_uri(\"http://example.org/kernel_version/\", epoch[\"kernel_version\"])\n    g.add((kernel_version_entity, RDF.type, PROV.Entity))\n    g.add((kernel_version_entity, RDFS.label, Literal(f\"Kernel Version: {epoch['kernel_version']}\")))\n    g.add((epoch_uri, PROV.used, kernel_version_entity))\n\n    # Add modules used as entities\n    for module, details in epoch[\"modules\"].items():\n        module_uri = create_uri(\"http://example.org/module/\", module)\n        g.add((module_uri, RDF.type, PROV.Entity))\n        g.add((module_uri, RDFS.label, Literal(f\"Module: {module}\")))\n        if details[\"version\"]:\n            module_version_entity = create_uri(\"http://example.org/module_version/\", details[\"version\"])\n            g.add((module_version_entity, RDF.type, PROV.Entity))\n            g.add((module_version_entity, RDFS.label, Literal(f\"Module Version: {details['version']}\")))\n            g.add((module_uri, PROV.hadPrimarySource, module_version_entity))\n        g.add((epoch_uri, PROV.used, module_uri))\n\n    # Process each execution_data entry\n    for exec_data in epoch[\"execution_data\"]:\n        exec_uri = create_uri(\"http://example.org/execution/\", str(exec_data[\"execution_count\"]))\n        g.add((exec_uri, RDF.type, PROV.Activity))\n        g.add((exec_uri, PROV.used, epoch_uri))\n\n        # Add code as an entity\n        code_entity = create_uri(\"http://example.org/code/\", str(exec_data[\"execution_count\"]))\n        code_literal = Literal(exec_data[\"code\"])\n        g.add((code_entity, RDF.type, PROV.Entity))\n        g.add((code_entity, PROV.value, code_literal))\n        g.add((exec_uri, PROV.generated, code_entity))\n\n        # Add imports as entities\n        for imp in exec_data.get(\"imports\", []):\n            import_uri = create_uri(\"http://example.org/import/\", imp)\n            g.add((import_uri, RDF.type, PROV.Entity))\n            g.add((import_uri, RDFS.label, Literal(f\"Import: {imp}\")))\n            g.add((exec_uri, PROV.used, import_uri))\n\n        # Add dependencies as entities\n        for dep in exec_data.get(\"dependencies\", []):\n            dep_uri = create_uri(\"http://example.org/dependency/\", dep)\n            g.add((dep_uri, RDF.type, PROV.Entity))\n            g.add((dep_uri, RDFS.label, Literal(f\"Dependency: {dep}\")))\n            g.add((exec_uri, PROV.used, dep_uri))\n\n# Serialize the graph to RDF format (Turtle in this case) and save to a file\nrdf_data = g.serialize(format=\"turtle\")\nwith open(\"output.ttl\", \"w\") as f:\n    f.write(rdf_data)\n",
       "data_values": [
        "http://www.w3.org/ns/prov#",
        "http://example.org/",
        "./prov-exports/MLPovLabExport (5).json",
        "http://example.org/epoch/",
        "http://example.org/language/",
        "http://example.org/language_version/",
        "http://example.org/kernel/",
        "http://example.org/kernel_version/",
        "http://example.org/module/",
        "http://example.org/module_version/",
        "http://example.org/execution/",
        "http://example.org/code/",
        "http://example.org/import/",
        "http://example.org/dependency/",
        "output.ttl"
       ],
       "data_vars": [
        "PROV",
        "EX",
        "g",
        "rdf_data",
        "f"
       ],
       "definitions": [
        {
         "col_offset": 0,
         "dependencies": [
          "Namespace"
         ],
         "end_col_offset": 46,
         "end_lineno": 7,
         "lineno": 7,
         "name": "PROV",
         "type": "assign"
        },
        {
         "col_offset": 0,
         "dependencies": [
          "Namespace"
         ],
         "end_col_offset": 37,
         "end_lineno": 8,
         "lineno": 8,
         "name": "EX",
         "type": "assign"
        },
        {
         "col_offset": 0,
         "dependencies": [
          "Graph"
         ],
         "end_col_offset": 11,
         "end_lineno": 11,
         "lineno": 11,
         "name": "g",
         "type": "assign"
        },
        {
         "col_offset": 0,
         "dependencies": [
          "PROV"
         ],
         "end_col_offset": 20,
         "end_lineno": 12,
         "lineno": 12,
         "name": "g",
         "type": "call"
        },
        {
         "col_offset": 0,
         "dependencies": [
          "EX"
         ],
         "end_col_offset": 16,
         "end_lineno": 13,
         "lineno": 13,
         "name": "g",
         "type": "call"
        },
        {
         "col_offset": 4,
         "dependencies": [
          "json",
          "f"
         ],
         "end_col_offset": 23,
         "end_lineno": 17,
         "lineno": 17,
         "name": "data",
         "type": "assign"
        },
        {
         "col_offset": 0,
         "dependencies": [
          "suffix",
          "URIRef",
          "base"
         ],
         "end_col_offset": 32,
         "end_lineno": 22,
         "lineno": 20,
         "name": "create_uri",
         "type": "function"
        },
        {
         "body": [
          {
           "col_offset": 4,
           "dependencies": [
            "epoch"
           ],
           "end_col_offset": 49,
           "end_lineno": 27,
           "lineno": 27,
           "name": "epoch_start_time",
           "type": "assign"
          },
          {
           "col_offset": 4,
           "dependencies": [
            "create_uri",
            "epoch_start_time"
           ],
           "end_col_offset": 73,
           "end_lineno": 28,
           "lineno": 28,
           "name": "epoch_uri",
           "type": "assign"
          },
          {
           "col_offset": 4,
           "dependencies": [
            "epoch_uri",
            "RDF",
            "PROV"
           ],
           "end_col_offset": 47,
           "end_lineno": 29,
           "lineno": 29,
           "name": "g",
           "type": "call"
          },
          {
           "col_offset": 4,
           "dependencies": [
            "epoch_uri",
            "PROV",
            "Literal",
            "epoch_start_time"
           ],
           "end_col_offset": 69,
           "end_lineno": 30,
           "lineno": 30,
           "name": "g",
           "type": "call"
          },
          {
           "body": [
            {
             "col_offset": 8,
             "dependencies": [
              "epoch_uri",
              "PROV",
              "Literal",
              "epoch"
             ],
             "end_col_offset": 68,
             "end_lineno": 32,
             "lineno": 32,
             "name": "g",
             "type": "call"
            }
           ],
           "col_offset": 4,
           "dependencies": [
            "epoch"
           ],
           "end_col_offset": 68,
           "end_lineno": 32,
           "lineno": 31,
           "orelse": [],
           "type": "condition"
          },
          {
           "col_offset": 4,
           "dependencies": [
            "epoch_uri",
            "PROV",
            "Literal",
            "epoch"
           ],
           "end_col_offset": 76,
           "end_lineno": 33,
           "lineno": 33,
           "name": "g",
           "type": "call"
          },
          {
           "col_offset": 4,
           "dependencies": [
            "epoch_uri",
            "RDFS",
            "Literal",
            "epoch_start_time"
           ],
           "end_col_offset": 84,
           "end_lineno": 36,
           "lineno": 36,
           "name": "g",
           "type": "call"
          },
          {
           "col_offset": 4,
           "dependencies": [
            "create_uri",
            "epoch"
           ],
           "end_col_offset": 83,
           "end_lineno": 39,
           "lineno": 39,
           "name": "language_entity",
           "type": "assign"
          },
          {
           "col_offset": 4,
           "dependencies": [
            "language_entity",
            "RDF",
            "PROV"
           ],
           "end_col_offset": 51,
           "end_lineno": 40,
           "lineno": 40,
           "name": "g",
           "type": "call"
          },
          {
           "col_offset": 4,
           "dependencies": [
            "language_entity",
            "RDFS",
            "Literal",
            "epoch"
           ],
           "end_col_offset": 83,
           "end_lineno": 41,
           "lineno": 41,
           "name": "g",
           "type": "call"
          },
          {
           "col_offset": 4,
           "dependencies": [
            "epoch_uri",
            "PROV",
            "language_entity"
           ],
           "end_col_offset": 50,
           "end_lineno": 42,
           "lineno": 42,
           "name": "g",
           "type": "call"
          },
          {
           "col_offset": 4,
           "dependencies": [
            "create_uri",
            "epoch"
           ],
           "end_col_offset": 107,
           "end_lineno": 44,
           "lineno": 44,
           "name": "language_version_entity",
           "type": "assign"
          },
          {
           "col_offset": 4,
           "dependencies": [
            "language_version_entity",
            "RDF",
            "PROV"
           ],
           "end_col_offset": 59,
           "end_lineno": 45,
           "lineno": 45,
           "name": "g",
           "type": "call"
          },
          {
           "col_offset": 4,
           "dependencies": [
            "language_version_entity",
            "RDFS",
            "Literal",
            "epoch"
           ],
           "end_col_offset": 107,
           "end_lineno": 46,
           "lineno": 46,
           "name": "g",
           "type": "call"
          },
          {
           "col_offset": 4,
           "dependencies": [
            "epoch_uri",
            "PROV",
            "language_version_entity"
           ],
           "end_col_offset": 58,
           "end_lineno": 47,
           "lineno": 47,
           "name": "g",
           "type": "call"
          },
          {
           "col_offset": 4,
           "dependencies": [
            "create_uri",
            "epoch"
           ],
           "end_col_offset": 77,
           "end_lineno": 50,
           "lineno": 50,
           "name": "kernel_entity",
           "type": "assign"
          },
          {
           "col_offset": 4,
           "dependencies": [
            "kernel_entity",
            "RDF",
            "PROV"
           ],
           "end_col_offset": 49,
           "end_lineno": 51,
           "lineno": 51,
           "name": "g",
           "type": "call"
          },
          {
           "col_offset": 4,
           "dependencies": [
            "kernel_entity",
            "RDFS",
            "Literal",
            "epoch"
           ],
           "end_col_offset": 77,
           "end_lineno": 52,
           "lineno": 52,
           "name": "g",
           "type": "call"
          },
          {
           "col_offset": 4,
           "dependencies": [
            "epoch_uri",
            "PROV",
            "kernel_entity"
           ],
           "end_col_offset": 48,
           "end_lineno": 53,
           "lineno": 53,
           "name": "g",
           "type": "call"
          },
          {
           "col_offset": 4,
           "dependencies": [
            "create_uri",
            "epoch"
           ],
           "end_col_offset": 101,
           "end_lineno": 55,
           "lineno": 55,
           "name": "kernel_version_entity",
           "type": "assign"
          },
          {
           "col_offset": 4,
           "dependencies": [
            "kernel_version_entity",
            "RDF",
            "PROV"
           ],
           "end_col_offset": 57,
           "end_lineno": 56,
           "lineno": 56,
           "name": "g",
           "type": "call"
          },
          {
           "col_offset": 4,
           "dependencies": [
            "kernel_version_entity",
            "RDFS",
            "Literal",
            "epoch"
           ],
           "end_col_offset": 101,
           "end_lineno": 57,
           "lineno": 57,
           "name": "g",
           "type": "call"
          },
          {
           "col_offset": 4,
           "dependencies": [
            "epoch_uri",
            "PROV",
            "kernel_version_entity"
           ],
           "end_col_offset": 56,
           "end_lineno": 58,
           "lineno": 58,
           "name": "g",
           "type": "call"
          },
          {
           "body": [
            {
             "col_offset": 8,
             "dependencies": [
              "create_uri",
              "module"
             ],
             "end_col_offset": 69,
             "end_lineno": 62,
             "lineno": 62,
             "name": "module_uri",
             "type": "assign"
            },
            {
             "col_offset": 8,
             "dependencies": [
              "module_uri",
              "RDF",
              "PROV"
             ],
             "end_col_offset": 50,
             "end_lineno": 63,
             "lineno": 63,
             "name": "g",
             "type": "call"
            },
            {
             "col_offset": 8,
             "dependencies": [
              "module_uri",
              "RDFS",
              "Literal",
              "module"
             ],
             "end_col_offset": 69,
             "end_lineno": 64,
             "lineno": 64,
             "name": "g",
             "type": "call"
            },
            {
             "body": [
              {
               "col_offset": 12,
               "dependencies": [
                "create_uri",
                "details"
               ],
               "end_col_offset": 104,
               "end_lineno": 66,
               "lineno": 66,
               "name": "module_version_entity",
               "type": "assign"
              },
              {
               "col_offset": 12,
               "dependencies": [
                "module_version_entity",
                "RDF",
                "PROV"
               ],
               "end_col_offset": 65,
               "end_lineno": 67,
               "lineno": 67,
               "name": "g",
               "type": "call"
              },
              {
               "col_offset": 12,
               "dependencies": [
                "module_version_entity",
                "RDFS",
                "Literal",
                "details"
               ],
               "end_col_offset": 104,
               "end_lineno": 68,
               "lineno": 68,
               "name": "g",
               "type": "call"
              },
              {
               "col_offset": 12,
               "dependencies": [
                "module_uri",
                "PROV",
                "module_version_entity"
               ],
               "end_col_offset": 77,
               "end_lineno": 69,
               "lineno": 69,
               "name": "g",
               "type": "call"
              }
             ],
             "col_offset": 8,
             "dependencies": [
              "details"
             ],
             "end_col_offset": 77,
             "end_lineno": 69,
             "lineno": 65,
             "orelse": [],
             "type": "condition"
            },
            {
             "col_offset": 8,
             "dependencies": [
              "epoch_uri",
              "PROV",
              "module_uri"
             ],
             "end_col_offset": 49,
             "end_lineno": 70,
             "lineno": 70,
             "name": "g",
             "type": "call"
            }
           ],
           "col_offset": 4,
           "dependencies": [
            "epoch"
           ],
           "end_col_offset": 49,
           "end_lineno": 70,
           "lineno": 61,
           "orelse": [],
           "type": "loop"
          },
          {
           "body": [
            {
             "col_offset": 8,
             "dependencies": [
              "create_uri",
              "str",
              "exec_data"
             ],
             "end_col_offset": 97,
             "end_lineno": 74,
             "lineno": 74,
             "name": "exec_uri",
             "type": "assign"
            },
            {
             "col_offset": 8,
             "dependencies": [
              "exec_uri",
              "RDF",
              "PROV"
             ],
             "end_col_offset": 50,
             "end_lineno": 75,
             "lineno": 75,
             "name": "g",
             "type": "call"
            },
            {
             "col_offset": 8,
             "dependencies": [
              "exec_uri",
              "PROV",
              "epoch_uri"
             ],
             "end_col_offset": 47,
             "end_lineno": 76,
             "lineno": 76,
             "name": "g",
             "type": "call"
            },
            {
             "col_offset": 8,
             "dependencies": [
              "create_uri",
              "str",
              "exec_data"
             ],
             "end_col_offset": 95,
             "end_lineno": 79,
             "lineno": 79,
             "name": "code_entity",
             "type": "assign"
            },
            {
             "col_offset": 8,
             "dependencies": [
              "Literal",
              "exec_data"
             ],
             "end_col_offset": 49,
             "end_lineno": 80,
             "lineno": 80,
             "name": "code_literal",
             "type": "assign"
            },
            {
             "col_offset": 8,
             "dependencies": [
              "code_entity",
              "RDF",
              "PROV"
             ],
             "end_col_offset": 51,
             "end_lineno": 81,
             "lineno": 81,
             "name": "g",
             "type": "call"
            },
            {
             "col_offset": 8,
             "dependencies": [
              "code_entity",
              "PROV",
              "code_literal"
             ],
             "end_col_offset": 54,
             "end_lineno": 82,
             "lineno": 82,
             "name": "g",
             "type": "call"
            },
            {
             "col_offset": 8,
             "dependencies": [
              "exec_uri",
              "PROV",
              "code_entity"
             ],
             "end_col_offset": 54,
             "end_lineno": 83,
             "lineno": 83,
             "name": "g",
             "type": "call"
            },
            {
             "body": [
              {
               "col_offset": 12,
               "dependencies": [
                "create_uri",
                "imp"
               ],
               "end_col_offset": 70,
               "end_lineno": 87,
               "lineno": 87,
               "name": "import_uri",
               "type": "assign"
              },
              {
               "col_offset": 12,
               "dependencies": [
                "import_uri",
                "RDF",
                "PROV"
               ],
               "end_col_offset": 54,
               "end_lineno": 88,
               "lineno": 88,
               "name": "g",
               "type": "call"
              },
              {
               "col_offset": 12,
               "dependencies": [
                "import_uri",
                "RDFS",
                "Literal",
                "imp"
               ],
               "end_col_offset": 70,
               "end_lineno": 89,
               "lineno": 89,
               "name": "g",
               "type": "call"
              },
              {
               "col_offset": 12,
               "dependencies": [
                "exec_uri",
                "PROV",
                "import_uri"
               ],
               "end_col_offset": 52,
               "end_lineno": 90,
               "lineno": 90,
               "name": "g",
               "type": "call"
              }
             ],
             "col_offset": 8,
             "dependencies": [
              "exec_data"
             ],
             "end_col_offset": 52,
             "end_lineno": 90,
             "lineno": 86,
             "orelse": [],
             "type": "loop"
            },
            {
             "body": [
              {
               "col_offset": 12,
               "dependencies": [
                "create_uri",
                "dep"
               ],
               "end_col_offset": 71,
               "end_lineno": 94,
               "lineno": 94,
               "name": "dep_uri",
               "type": "assign"
              },
              {
               "col_offset": 12,
               "dependencies": [
                "dep_uri",
                "RDF",
                "PROV"
               ],
               "end_col_offset": 51,
               "end_lineno": 95,
               "lineno": 95,
               "name": "g",
               "type": "call"
              },
              {
               "col_offset": 12,
               "dependencies": [
                "dep_uri",
                "RDFS",
                "Literal",
                "dep"
               ],
               "end_col_offset": 71,
               "end_lineno": 96,
               "lineno": 96,
               "name": "g",
               "type": "call"
              },
              {
               "col_offset": 12,
               "dependencies": [
                "exec_uri",
                "PROV",
                "dep_uri"
               ],
               "end_col_offset": 49,
               "end_lineno": 97,
               "lineno": 97,
               "name": "g",
               "type": "call"
              }
             ],
             "col_offset": 8,
             "dependencies": [
              "exec_data"
             ],
             "end_col_offset": 49,
             "end_lineno": 97,
             "lineno": 93,
             "orelse": [],
             "type": "loop"
            }
           ],
           "col_offset": 4,
           "dependencies": [
            "epoch",
            "str"
           ],
           "end_col_offset": 49,
           "end_lineno": 97,
           "lineno": 73,
           "orelse": [],
           "type": "loop"
          }
         ],
         "col_offset": 0,
         "dependencies": [
          "data",
          "str"
         ],
         "end_col_offset": 49,
         "end_lineno": 97,
         "lineno": 25,
         "orelse": [],
         "type": "loop"
        },
        {
         "col_offset": 0,
         "dependencies": [
          "g"
         ],
         "end_col_offset": 39,
         "end_lineno": 100,
         "lineno": 100,
         "name": "rdf_data",
         "type": "assign"
        },
        {
         "col_offset": 4,
         "dependencies": [
          "rdf_data"
         ],
         "end_col_offset": 21,
         "end_lineno": 102,
         "lineno": 102,
         "name": "f",
         "type": "call"
        }
       ],
       "execution_count": 9,
       "imports": [
        "json",
        "re",
        "Graph",
        "URIRef",
        "Literal",
        "Namespace",
        "RDF",
        "RDFS"
       ],
       "local": [
        "PROV",
        "EX",
        "g",
        "data",
        "create_uri",
        "epoch",
        "epoch_start_time",
        "epoch_uri",
        "language_entity",
        "language_version_entity",
        "kernel_entity",
        "kernel_version_entity",
        "module",
        "details",
        "module_uri",
        "module_version_entity",
        "exec_data",
        "exec_uri",
        "code_entity",
        "code_literal",
        "imp",
        "import_uri",
        "dep",
        "dep_uri",
        "rdf_data"
       ],
       "local_info": {
        "EX": "",
        "PROV": "",
        "code_entity": "",
        "code_literal": "",
        "create_uri": "",
        "data": "",
        "dep": "",
        "dep_uri": "",
        "details": "",
        "epoch": "",
        "epoch_start_time": "",
        "epoch_uri": "",
        "exec_data": "",
        "exec_uri": "",
        "g": "",
        "imp": "",
        "import_uri": "",
        "kernel_entity": "",
        "kernel_version_entity": "",
        "language_entity": "",
        "language_version_entity": "",
        "module": "",
        "module_uri": "",
        "module_version_entity": "",
        "rdf_data": ""
       },
       "remote": [
        "f",
        "suffix",
        "base",
        "str"
       ],
       "time": "Tue, 23 Jul 2024 11:00:33 GMT",
       "type": "execution"
      }
     ],
     "environment": {
      "kernel": {
       "implementation": "ipython",
       "version": "7.34.0"
      },
      "language_info": {
       "mimetype": "text/x-python",
       "name": "python",
       "version": "3.11.9"
      },
      "time": "Tue, 23 Jul 2024 09:13:15 GMT",
      "user_agent": "Mozilla/5.0 (Macintosh; Intel Mac OS X 10_15_7) AppleWebKit/537.36 (KHTML, like Gecko) Chrome/124.0.0.0 Safari/537.36"
     },
     "modules": {
      "json": {
       "version": ""
      },
      "rdflib": {
       "imports": [
        "Graph",
        "URIRef",
        "Literal",
        "Namespace"
       ],
       "version": ""
      },
      "rdflib.namespace": {
       "imports": [
        "RDF",
        "RDFS"
       ],
       "version": ""
      },
      "re": {
       "version": ""
      }
     }
    }
   ]
  }
 },
 "nbformat": 4,
 "nbformat_minor": 5
}
